{
  "nbformat": 4,
  "nbformat_minor": 0,
  "metadata": {
    "colab": {
      "provenance": [],
      "gpuType": "T4",
      "authorship_tag": "ABX9TyOseSS5/9s7DeoPbA2UDSQa",
      "include_colab_link": true
    },
    "kernelspec": {
      "name": "python3",
      "display_name": "Python 3"
    },
    "language_info": {
      "name": "python"
    },
    "accelerator": "GPU"
  },
  "cells": [
    {
      "cell_type": "markdown",
      "metadata": {
        "id": "view-in-github",
        "colab_type": "text"
      },
      "source": [
        "<a href=\"https://colab.research.google.com/github/MochNad/Pembelajaran-Mesin/blob/main/Job_Sheet_10_(Praktikum).ipynb\" target=\"_parent\"><img src=\"https://colab.research.google.com/assets/colab-badge.svg\" alt=\"Open In Colab\"/></a>"
      ]
    },
    {
      "cell_type": "markdown",
      "source": [
        "> **Pembelajaran Mesin - Job Sheet 10 : Recurrent Neural Network (RNN)**\n",
        "*   Nama : Moch. Nadi Rafli Maulana\n",
        "*   NIM : 2141720188\n",
        "*   No. Absen : 18\n",
        "*   Kelas : TI-3B\n",
        "*   Jurusan / Prodi : Teknologi Informasi / D4 - Teknik Informatika"
      ],
      "metadata": {
        "id": "OxS70x-48vxx"
      }
    },
    {
      "cell_type": "markdown",
      "source": [
        "> # **🍑 Praktikum 1** *RNN untuk Analisis Sentimen*"
      ],
      "metadata": {
        "id": "P2WUlLDepD28"
      }
    },
    {
      "cell_type": "markdown",
      "source": [
        "**Setup**"
      ],
      "metadata": {
        "id": "jRUSXoj3pOR_"
      }
    },
    {
      "cell_type": "markdown",
      "source": [
        "*Impor matplotlib dan buat fungsi pembantu untuk memplot grafik:*"
      ],
      "metadata": {
        "id": "A76h3ayfpPx7"
      }
    },
    {
      "cell_type": "code",
      "execution_count": 1,
      "metadata": {
        "id": "praIp6UfoyB4"
      },
      "outputs": [],
      "source": [
        "import numpy as np\n",
        "import tensorflow_datasets as tfds\n",
        "import tensorflow as tf\n",
        "\n",
        "tfds.disable_progress_bar()"
      ]
    },
    {
      "cell_type": "code",
      "source": [
        "import matplotlib.pyplot as plt\n",
        "\n",
        "def plot_graphs(history, metric):\n",
        "    plt.plot(history.history[metric])\n",
        "    plt.plot(history.history['val_'+metric], '')\n",
        "    plt.xlabel(\"Epochs\")\n",
        "    plt.ylabel(metric)\n",
        "    plt.legend([metric, 'val_'+metric])"
      ],
      "metadata": {
        "id": "iyB7XZiVpXJZ"
      },
      "execution_count": 2,
      "outputs": []
    },
    {
      "cell_type": "markdown",
      "source": [
        "**Setup input pipeline**"
      ],
      "metadata": {
        "id": "ybuJYjBHpuH3"
      }
    },
    {
      "cell_type": "markdown",
      "source": [
        "*Dataset ulasan film IMDB adalah kumpulan data klasifikasi biner—semua ulasan memiliki sentimen positif atau negatif.*\n",
        "\n",
        "*Download dataset menggunakan TFDS. Lihat loading text tutorial jika ingin me load data secara manual*"
      ],
      "metadata": {
        "id": "dDEINwV_pvc8"
      }
    },
    {
      "cell_type": "code",
      "source": [
        "dataset, info = tfds.load('imdb_reviews', with_info=True,\n",
        "                          as_supervised=True)\n",
        "train_dataset, test_dataset = dataset['train'], dataset['test']\n",
        "\n",
        "train_dataset.element_spec"
      ],
      "metadata": {
        "colab": {
          "base_uri": "https://localhost:8080/"
        },
        "id": "xygt_oqnpz_e",
        "outputId": "116eb55b-3e50-4125-c9f2-3f5ddf5b3c48"
      },
      "execution_count": 3,
      "outputs": [
        {
          "output_type": "execute_result",
          "data": {
            "text/plain": [
              "(TensorSpec(shape=(), dtype=tf.string, name=None),\n",
              " TensorSpec(shape=(), dtype=tf.int64, name=None))"
            ]
          },
          "metadata": {},
          "execution_count": 3
        }
      ]
    },
    {
      "cell_type": "markdown",
      "source": [
        "*Awalnya ini mengembalikan dataset (teks, pasangan label):*"
      ],
      "metadata": {
        "id": "4gNLMlE9p5F5"
      }
    },
    {
      "cell_type": "code",
      "source": [
        "for example, label in train_dataset.take(1):\n",
        "  print('text: ', example.numpy())\n",
        "  print('label: ', label.numpy())"
      ],
      "metadata": {
        "colab": {
          "base_uri": "https://localhost:8080/"
        },
        "id": "pszNlNN3p7SK",
        "outputId": "f9a1ecdb-02ff-4fd0-f0e2-387ad5e99899"
      },
      "execution_count": 4,
      "outputs": [
        {
          "output_type": "stream",
          "name": "stdout",
          "text": [
            "text:  b\"This was an absolutely terrible movie. Don't be lured in by Christopher Walken or Michael Ironside. Both are great actors, but this must simply be their worst role in history. Even their great acting could not redeem this movie's ridiculous storyline. This movie is an early nineties US propaganda piece. The most pathetic scenes were those when the Columbian rebels were making their cases for revolutions. Maria Conchita Alonso appeared phony, and her pseudo-love affair with Walken was nothing but a pathetic emotional plug in a movie that was devoid of any real meaning. I am disappointed that there are movies like this, ruining actor's like Christopher Walken's good name. I could barely sit through it.\"\n",
            "label:  0\n"
          ]
        }
      ]
    },
    {
      "cell_type": "markdown",
      "source": [
        "*Berikutnya acak data untuk pelatihan dan membuat kumpulan pasangan (teks, label) ini:*"
      ],
      "metadata": {
        "id": "VsMt_2CdqEj_"
      }
    },
    {
      "cell_type": "code",
      "source": [
        "BUFFER_SIZE = 10000\n",
        "BATCH_SIZE = 64\n",
        "\n",
        "train_dataset = train_dataset.shuffle(BUFFER_SIZE).batch(BATCH_SIZE).prefetch(tf.data.AUTOTUNE)\n",
        "test_dataset = test_dataset.batch(BATCH_SIZE).prefetch(tf.data.AUTOTUNE)\n",
        "\n",
        "for example, label in train_dataset.take(1):\n",
        "  print('texts: ', example.numpy()[:3])\n",
        "  print()\n",
        "  print('labels: ', label.numpy()[:3])"
      ],
      "metadata": {
        "colab": {
          "base_uri": "https://localhost:8080/"
        },
        "id": "HpGQuVM2qH_l",
        "outputId": "7fa70678-192d-49a5-fa4a-ece9621e6017"
      },
      "execution_count": 5,
      "outputs": [
        {
          "output_type": "stream",
          "name": "stdout",
          "text": [
            "texts:  [b'Yesterday, I went alone to the cinema, because here in Mexico, most of the times movies from other countries are part of the so called \"cam\\xc3\\xa1ra alternativa\" (alternative camera). But after I saw this movie, I realized that not all the foreign movies are alternative. Afortunately, this is a good a example. But I have to said that I enjoyed so much this movie.. that at the end I was happy.. this movie is a little spoon of hope in these days. And the main lesson for me.. is that at the end of the day...the love is main force behind us. This is a good option to see a good movie in Spanish...and I have to mention the good music.. specially the main song of the movie.. Cosas que hacen que la vida valga la pena.... Excellent song!!!'\n",
            " b\"Artistically speaking, this is a beautiful movie--the cinematography, music and costumes are gorgeous. In fact, this movie is prettier than those directed by Akira Kurasawa himself. In this case, he only wrote the movie as it was made several years after his death.<br /><br />So, as far as the writing goes, the dialog was well-written and the story, at times, was interesting. However, the story was also rather depressing yet uninvolving in some ways--after all, it's the story of a group of women who work in a brothel. It's interesting that although prostitution has been seen as a much more acceptable business in Japan, the women STILL long for a better life. This reminds me a lot of the movie Streets Of Shame, though Streets Of Shame's characters are a lot less likable and more one-dimensional.<br /><br />So, overall it gets a 7--mostly due to everything BUT the writing. It's too bad that the weakest link in this movie is the story by the great Kurasawa.\"\n",
            " b'I can see why this film was Oscar-nominated for Best Live Action Short, as it was constructed masterfully. Even if you don\\'t particularly like the Blues (though to me, this sounded much more like jazz), you can easily appreciate this film. It is simply very well made, though for the life of me, I can\\'t see why director Gjon Mili only got to direct one film--this one. In other words, the film is nominated and yet the director didn\\'t get any sort of career boost. As for the black performers, I could understand this not causing their careers to shift into high gear, as unfortunately most of white society have indifference (or worse) for blacks or \"that kind of music\".<br /><br />If you do watch this film, if you aren\\'t particularly enjoying the earlier portion, skip ahead to about the 5:50 mark--where it picks up considerably. When the lady stopped singing and the performers began to improvise, the pace improved quite a bit.']\n",
            "\n",
            "labels:  [1 1 1]\n"
          ]
        }
      ]
    },
    {
      "cell_type": "markdown",
      "source": [
        "**Buat Teks Encoder**"
      ],
      "metadata": {
        "id": "xMasXt3SqOOW"
      }
    },
    {
      "cell_type": "markdown",
      "source": [
        "*Teks mentah yang dimuat oleh tfds perlu diproses sebelum dapat digunakan dalam model. Cara termudah memproses teks untuk pelatihan adalah menggunakan lapisan TextVectorization. Lapisan ini memiliki banyak kemampuan, namun pada tutorial ini menggunakan perilaku default. Buat lapisan tersebut, dan teruskan teks kumpulan data ke metode .adapt lapisan:*"
      ],
      "metadata": {
        "id": "YFuhhDe9qQWw"
      }
    },
    {
      "cell_type": "code",
      "source": [
        "VOCAB_SIZE = 1000\n",
        "encoder = tf.keras.layers.TextVectorization(\n",
        "    max_tokens=VOCAB_SIZE)\n",
        "encoder.adapt(train_dataset.map(lambda text, label: text))"
      ],
      "metadata": {
        "id": "WV-zHIUmqSRL"
      },
      "execution_count": 6,
      "outputs": []
    },
    {
      "cell_type": "markdown",
      "source": [
        "*Metode .adapt mengatur kosakata lapisan. 20 token pertama dapat dilihat dengan kode berikut. Setelah padding dan token yang tidak diketahui, mereka diurutkan berdasarkan frekuensi:*"
      ],
      "metadata": {
        "id": "QawmcyJkqUhA"
      }
    },
    {
      "cell_type": "code",
      "source": [
        "vocab = np.array(encoder.get_vocabulary())\n",
        "vocab[:20]"
      ],
      "metadata": {
        "colab": {
          "base_uri": "https://localhost:8080/"
        },
        "id": "TNQc5LuzqWOZ",
        "outputId": "e21e10f6-71fe-452f-b1bf-c54c85ef9400"
      },
      "execution_count": 7,
      "outputs": [
        {
          "output_type": "execute_result",
          "data": {
            "text/plain": [
              "array(['', '[UNK]', 'the', 'and', 'a', 'of', 'to', 'is', 'in', 'it', 'i',\n",
              "       'this', 'that', 'br', 'was', 'as', 'for', 'with', 'movie', 'but'],\n",
              "      dtype='<U14')"
            ]
          },
          "metadata": {},
          "execution_count": 7
        }
      ]
    },
    {
      "cell_type": "markdown",
      "source": [
        "*Setelah kosakata diatur, lapisan dapat mengkodekan teks ke dalam indeks. Tensor indeks diberi bantalan 0 ke urutan terpanjang dalam batch (kecuali jika Anda menetapkan output_sequence_length tetap):*"
      ],
      "metadata": {
        "id": "kSq1bgsCqd3d"
      }
    },
    {
      "cell_type": "code",
      "source": [
        "encoded_example = encoder(example)[:3].numpy()\n",
        "encoded_example"
      ],
      "metadata": {
        "colab": {
          "base_uri": "https://localhost:8080/"
        },
        "id": "MiWUOuNrqhTW",
        "outputId": "879ad892-0790-4758-c12d-4af9ba84d77a"
      },
      "execution_count": 8,
      "outputs": [
        {
          "output_type": "execute_result",
          "data": {
            "text/plain": [
              "array([[  1,  10, 418, ...,   0,   0,   0],\n",
              "       [  1,   1,  11, ...,   0,   0,   0],\n",
              "       [ 10,  69,  68, ...,   0,   0,   0]])"
            ]
          },
          "metadata": {},
          "execution_count": 8
        }
      ]
    },
    {
      "cell_type": "markdown",
      "source": [
        "*Dengan pengaturan default, prosesnya tidak dapat dibalik sepenuhnya. Ada dua alasan utama untuk itu:*\n",
        "\n",
        "*-Nilai default untuk argumen standarisasi preprocessing.TextVectorization adalah \"lower_and_strip_punctuation\".*\n",
        "\n",
        "*-Ukuran kosa kata yang terbatas dan kurangnya fallback berbasis karakter menghasilkan beberapa token yang tidak diketahui.*"
      ],
      "metadata": {
        "id": "x8Yxbl6Rql0k"
      }
    },
    {
      "cell_type": "code",
      "source": [
        "for n in range(3):\n",
        "  print(\"Original: \", example[n].numpy())\n",
        "  print(\"Round-trip: \", \" \".join(vocab[encoded_example[n]]))\n",
        "  print()"
      ],
      "metadata": {
        "colab": {
          "base_uri": "https://localhost:8080/"
        },
        "id": "wbOILDCnqtMb",
        "outputId": "333e21b2-04a9-4f3c-af22-cb5546b64a8b"
      },
      "execution_count": 9,
      "outputs": [
        {
          "output_type": "stream",
          "name": "stdout",
          "text": [
            "Original:  b'Yesterday, I went alone to the cinema, because here in Mexico, most of the times movies from other countries are part of the so called \"cam\\xc3\\xa1ra alternativa\" (alternative camera). But after I saw this movie, I realized that not all the foreign movies are alternative. Afortunately, this is a good a example. But I have to said that I enjoyed so much this movie.. that at the end I was happy.. this movie is a little spoon of hope in these days. And the main lesson for me.. is that at the end of the day...the love is main force behind us. This is a good option to see a good movie in Spanish...and I have to mention the good music.. specially the main song of the movie.. Cosas que hacen que la vida valga la pena.... Excellent song!!!'\n",
            "Round-trip:  [UNK] i went alone to the cinema because here in [UNK] most of the times movies from other [UNK] are part of the so called [UNK] [UNK] [UNK] camera but after i saw this movie i [UNK] that not all the [UNK] movies are [UNK] [UNK] this is a good a example but i have to said that i enjoyed so much this movie that at the end i was happy this movie is a little [UNK] of hope in these days and the main [UNK] for me is that at the end of the [UNK] love is main [UNK] behind us this is a good [UNK] to see a good movie in [UNK] i have to mention the good music [UNK] the main song of the movie [UNK] [UNK] [UNK] [UNK] la [UNK] [UNK] la [UNK] excellent song                                                                                                                                                                                                                                                                                                                                                                                                                                                                                                                                                                                                                                                                                                                                                                                                                                                                                             \n",
            "\n",
            "Original:  b\"Artistically speaking, this is a beautiful movie--the cinematography, music and costumes are gorgeous. In fact, this movie is prettier than those directed by Akira Kurasawa himself. In this case, he only wrote the movie as it was made several years after his death.<br /><br />So, as far as the writing goes, the dialog was well-written and the story, at times, was interesting. However, the story was also rather depressing yet uninvolving in some ways--after all, it's the story of a group of women who work in a brothel. It's interesting that although prostitution has been seen as a much more acceptable business in Japan, the women STILL long for a better life. This reminds me a lot of the movie Streets Of Shame, though Streets Of Shame's characters are a lot less likable and more one-dimensional.<br /><br />So, overall it gets a 7--mostly due to everything BUT the writing. It's too bad that the weakest link in this movie is the story by the great Kurasawa.\"\n",
            "Round-trip:  [UNK] [UNK] this is a beautiful [UNK] cinematography music and [UNK] are [UNK] in fact this movie is [UNK] than those directed by [UNK] [UNK] himself in this case he only [UNK] the movie as it was made several years after his [UNK] br so as far as the writing goes the dialog was [UNK] and the story at times was interesting however the story was also rather [UNK] yet [UNK] in some [UNK] all its the story of a group of women who work in a [UNK] its interesting that although [UNK] has been seen as a much more [UNK] business in [UNK] the women still long for a better life this [UNK] me a lot of the movie [UNK] of shame though [UNK] of [UNK] characters are a lot less [UNK] and more [UNK] br so overall it gets a [UNK] due to everything but the writing its too bad that the [UNK] [UNK] in this movie is the story by the great [UNK]                                                                                                                                                                                                                                                                                                                                                                                                                                                                                                                                                                                                                                                                                                                                                                                                                                                                  \n",
            "\n",
            "Original:  b'I can see why this film was Oscar-nominated for Best Live Action Short, as it was constructed masterfully. Even if you don\\'t particularly like the Blues (though to me, this sounded much more like jazz), you can easily appreciate this film. It is simply very well made, though for the life of me, I can\\'t see why director Gjon Mili only got to direct one film--this one. In other words, the film is nominated and yet the director didn\\'t get any sort of career boost. As for the black performers, I could understand this not causing their careers to shift into high gear, as unfortunately most of white society have indifference (or worse) for blacks or \"that kind of music\".<br /><br />If you do watch this film, if you aren\\'t particularly enjoying the earlier portion, skip ahead to about the 5:50 mark--where it picks up considerably. When the lady stopped singing and the performers began to improvise, the pace improved quite a bit.'\n",
            "Round-trip:  i can see why this film was [UNK] for best live action short as it was [UNK] [UNK] even if you dont particularly like the [UNK] though to me this [UNK] much more like [UNK] you can easily [UNK] this film it is simply very well made though for the life of me i cant see why director [UNK] [UNK] only got to [UNK] one [UNK] one in other words the film is [UNK] and yet the director didnt get any sort of career [UNK] as for the black [UNK] i could understand this not [UNK] their [UNK] to [UNK] into high [UNK] as unfortunately most of white society have [UNK] or worse for [UNK] or that kind of [UNK] br if you do watch this film if you arent particularly [UNK] the earlier [UNK] [UNK] [UNK] to about the [UNK] [UNK] it [UNK] up [UNK] when the lady [UNK] [UNK] and the [UNK] [UNK] to [UNK] the [UNK] [UNK] quite a bit                                                                                                                                                                                                                                                                                                                                                                                                                                                                                                                                                                                                                                                                                                                                                                                                                                                                     \n",
            "\n"
          ]
        }
      ]
    },
    {
      "cell_type": "markdown",
      "source": [
        "**Buat Model**"
      ],
      "metadata": {
        "id": "b6k-mOX5qv75"
      }
    },
    {
      "cell_type": "markdown",
      "source": [
        "*diagram model dapat dilihat pada gambar diatas*\n",
        "1. *Model ini dapat dibuat sebagai tf.keras.Sequential.*\n",
        "2. *Lapisan pertama adalah encoder, yang mengubah teks menjadi urutan indeks token.*\n",
        "3. *Setelah encoder adalah lapisan penyematan (embedding layer). Lapisan penyematan menyimpan satu vektor per kata. Saat dipanggil, ini mengubah rangkaian indeks kata menjadi rangkaian vektor. Vektor-vektor ini dapat dilatih. Setelah pelatihan (dengan data yang cukup), kata-kata dengan arti yang mirip sering kali memiliki vektor yang serupa. Pencarian indeks ini jauh lebih efisien daripada operasi setara dengan meneruskan vektor yang disandikan one-hot melalui lapisan tf.keras.layers.Dense.*\n",
        "4. *Jaringan saraf berulang (RNN) memproses masukan urutan dengan melakukan iterasi melalui elemen. RNN meneruskan keluaran dari satu langkah waktu ke masukannya pada langkah waktu berikutnya.*\n",
        "Pembungkus tf.keras.layers.Bidirection juga dapat digunakan dengan lapisan RNN. Ini menyebarkan masukan maju dan mundur melalui lapisan RNN dan kemudian menggabungkan keluaran akhir.\n",
        "\n",
        "*-Keuntungan utama RNN dua arah adalah sinyal dari awal masukan tidak perlu diproses sepanjang waktu untuk memengaruhi keluaran.*\n",
        "\n",
        "*-Kerugian utama dari RNN dua arah adalah Anda tidak dapat melakukan streaming prediksi secara efisien saat kata-kata ditambahkan di akhir.*\n",
        "\n",
        "5. *Setelah RNN mengonversi urutan menjadi satu vektor, kedua lapisan tersebut.Dense melakukan beberapa pemrosesan akhir, dan mengonversi representasi vektor ini menjadi logit tunggal sebagai keluaran klasifikasi.*\n",
        "\n",
        "*Kode nya adalah sebagai berikut :*"
      ],
      "metadata": {
        "id": "RGmfo0QrqzkJ"
      }
    },
    {
      "cell_type": "code",
      "source": [
        "model = tf.keras.Sequential([\n",
        "    encoder,\n",
        "    tf.keras.layers.Embedding(\n",
        "        input_dim=len(encoder.get_vocabulary()),\n",
        "        output_dim=64,\n",
        "        # Use masking to handle the variable sequence lengths\n",
        "        mask_zero=True),\n",
        "    tf.keras.layers.Bidirectional(tf.keras.layers.LSTM(64)),\n",
        "    tf.keras.layers.Dense(64, activation='relu'),\n",
        "    tf.keras.layers.Dense(1)\n",
        "])"
      ],
      "metadata": {
        "id": "0icjjBCurmFa"
      },
      "execution_count": 10,
      "outputs": []
    },
    {
      "cell_type": "markdown",
      "source": [
        "*Harap dicatat bahwa model sekuensial Keras digunakan di sini karena semua lapisan dalam model hanya memiliki masukan tunggal dan menghasilkan keluaran tunggal. Jika Anda ingin menggunakan lapisan RNN stateful, Anda mungkin ingin membangun model Anda dengan API fungsional Keras atau subkelas model sehingga Anda dapat mengambil dan menggunakan kembali status lapisan RNN. Untuk detailnya bisa dilihat pada Keras RNN guide*\n",
        "\n",
        "*Lapisan penyematan menggunakan masking (uses masking ) untuk menangani panjang urutan yang bervariasi. Semua lapisan setelah penyematan dukungan penyematan*"
      ],
      "metadata": {
        "id": "LBX3bcKGrsYa"
      }
    },
    {
      "cell_type": "code",
      "source": [
        "print([layer.supports_masking for layer in model.layers])"
      ],
      "metadata": {
        "colab": {
          "base_uri": "https://localhost:8080/"
        },
        "id": "uP5REfwwrxhR",
        "outputId": "87e89c82-cb45-4109-e340-c78bfde1d111"
      },
      "execution_count": 11,
      "outputs": [
        {
          "output_type": "stream",
          "name": "stdout",
          "text": [
            "[False, True, True, True, True]\n"
          ]
        }
      ]
    },
    {
      "cell_type": "markdown",
      "source": [
        "*Untuk memastikan bahwa ini berfungsi seperti yang diharapkan, evaluasi sebuah kalimat dua kali. Pertama, satu kalimat sehingga tidak ada bantalan (padding) untuk disamarkan:*"
      ],
      "metadata": {
        "id": "iOs-DHuJr2us"
      }
    },
    {
      "cell_type": "code",
      "source": [
        "# predict on a sample text without padding.\n",
        "\n",
        "sample_text = ('The movie was cool. The animation and the graphics '\n",
        "               'were out of this world. I would recommend this movie.')\n",
        "predictions = model.predict(np.array([sample_text]))\n",
        "print(predictions[0])"
      ],
      "metadata": {
        "colab": {
          "base_uri": "https://localhost:8080/"
        },
        "id": "58eoKGfdr477",
        "outputId": "cb86fc3f-78d8-4c49-f6d5-98b93f902c6d"
      },
      "execution_count": 12,
      "outputs": [
        {
          "output_type": "stream",
          "name": "stdout",
          "text": [
            "1/1 [==============================] - 9s 9s/step\n",
            "[0.00850597]\n"
          ]
        }
      ]
    },
    {
      "cell_type": "markdown",
      "source": [
        "*Sekarang, evaluasi lagi dalam batch dengan kalimat yang lebih panjang. Hasilnya harus sama:*"
      ],
      "metadata": {
        "id": "YfOr8OSjr7iM"
      }
    },
    {
      "cell_type": "code",
      "source": [
        "# predict on a sample text with padding\n",
        "\n",
        "padding = \"the \" * 2000\n",
        "predictions = model.predict(np.array([sample_text, padding]))\n",
        "print(predictions[0])"
      ],
      "metadata": {
        "colab": {
          "base_uri": "https://localhost:8080/"
        },
        "id": "mCilAtknr9I2",
        "outputId": "8ce62e04-77cb-41f6-f9dc-d5a22326c121"
      },
      "execution_count": 13,
      "outputs": [
        {
          "output_type": "stream",
          "name": "stdout",
          "text": [
            "1/1 [==============================] - 0s 83ms/step\n",
            "[0.00850597]\n"
          ]
        }
      ]
    },
    {
      "cell_type": "markdown",
      "source": [
        "*compile model Keras untuk mengonfigurasi proses pelatihan:*"
      ],
      "metadata": {
        "id": "QksNsmSCsAFx"
      }
    },
    {
      "cell_type": "code",
      "source": [
        "model.compile(loss=tf.keras.losses.BinaryCrossentropy(from_logits=True),\n",
        "              optimizer=tf.keras.optimizers.Adam(1e-4),\n",
        "              metrics=['accuracy'])"
      ],
      "metadata": {
        "id": "VubgGUhhsCJD"
      },
      "execution_count": 14,
      "outputs": []
    },
    {
      "cell_type": "markdown",
      "source": [
        "**Train Model**"
      ],
      "metadata": {
        "id": "reEx5aw5sFVH"
      }
    },
    {
      "cell_type": "code",
      "source": [
        "history = model.fit(train_dataset, epochs=10,\n",
        "                    validation_data=test_dataset,\n",
        "                    validation_steps=30)"
      ],
      "metadata": {
        "colab": {
          "base_uri": "https://localhost:8080/"
        },
        "id": "XM7ndOcrsIPd",
        "outputId": "fa1a80d9-e23a-4e4c-d747-3b79c29792f0"
      },
      "execution_count": 15,
      "outputs": [
        {
          "output_type": "stream",
          "name": "stdout",
          "text": [
            "Epoch 1/10\n",
            "391/391 [==============================] - 54s 107ms/step - loss: 0.6230 - accuracy: 0.5886 - val_loss: 0.4507 - val_accuracy: 0.7698\n",
            "Epoch 2/10\n",
            "391/391 [==============================] - 29s 74ms/step - loss: 0.3818 - accuracy: 0.8250 - val_loss: 0.3532 - val_accuracy: 0.8422\n",
            "Epoch 3/10\n",
            "391/391 [==============================] - 26s 66ms/step - loss: 0.3352 - accuracy: 0.8524 - val_loss: 0.3386 - val_accuracy: 0.8396\n",
            "Epoch 4/10\n",
            "391/391 [==============================] - 26s 66ms/step - loss: 0.3172 - accuracy: 0.8630 - val_loss: 0.3271 - val_accuracy: 0.8542\n",
            "Epoch 5/10\n",
            "391/391 [==============================] - 25s 65ms/step - loss: 0.3090 - accuracy: 0.8673 - val_loss: 0.3282 - val_accuracy: 0.8583\n",
            "Epoch 6/10\n",
            "391/391 [==============================] - 26s 66ms/step - loss: 0.3038 - accuracy: 0.8680 - val_loss: 0.3218 - val_accuracy: 0.8495\n",
            "Epoch 7/10\n",
            "391/391 [==============================] - 27s 68ms/step - loss: 0.3017 - accuracy: 0.8690 - val_loss: 0.3203 - val_accuracy: 0.8505\n",
            "Epoch 8/10\n",
            "391/391 [==============================] - 26s 67ms/step - loss: 0.3013 - accuracy: 0.8692 - val_loss: 0.3160 - val_accuracy: 0.8589\n",
            "Epoch 9/10\n",
            "391/391 [==============================] - 27s 69ms/step - loss: 0.3011 - accuracy: 0.8715 - val_loss: 0.3232 - val_accuracy: 0.8500\n",
            "Epoch 10/10\n",
            "391/391 [==============================] - 27s 68ms/step - loss: 0.2956 - accuracy: 0.8723 - val_loss: 0.3256 - val_accuracy: 0.8625\n"
          ]
        }
      ]
    },
    {
      "cell_type": "code",
      "source": [
        "test_loss, test_acc = model.evaluate(test_dataset)\n",
        "\n",
        "print('Test Loss:', test_loss)\n",
        "print('Test Accuracy:', test_acc)"
      ],
      "metadata": {
        "colab": {
          "base_uri": "https://localhost:8080/"
        },
        "id": "lBBcLCFysNAB",
        "outputId": "430548e3-86fd-4241-ac33-b0543c141a31"
      },
      "execution_count": 16,
      "outputs": [
        {
          "output_type": "stream",
          "name": "stdout",
          "text": [
            "391/391 [==============================] - 12s 32ms/step - loss: 0.3231 - accuracy: 0.8649\n",
            "Test Loss: 0.3230552673339844\n",
            "Test Accuracy: 0.8648800253868103\n"
          ]
        }
      ]
    },
    {
      "cell_type": "code",
      "source": [
        "plt.figure(figsize=(16, 8))\n",
        "plt.subplot(1, 2, 1)\n",
        "plot_graphs(history, 'accuracy')\n",
        "plt.ylim(None, 1)\n",
        "plt.subplot(1, 2, 2)\n",
        "plot_graphs(history, 'loss')\n",
        "plt.ylim(0, None)"
      ],
      "metadata": {
        "colab": {
          "base_uri": "https://localhost:8080/",
          "height": 654
        },
        "id": "jlfO84gGsOZ3",
        "outputId": "4d26eb2c-9046-43ea-803c-b99352369415"
      },
      "execution_count": 17,
      "outputs": [
        {
          "output_type": "execute_result",
          "data": {
            "text/plain": [
              "(0.0, 0.6393884971737862)"
            ]
          },
          "metadata": {},
          "execution_count": 17
        },
        {
          "output_type": "display_data",
          "data": {
            "text/plain": [
              "<Figure size 1600x800 with 2 Axes>"
            ],
            "image/png": "[encoded data removed]"
          },
          "metadata": {}
        }
      ]
    },
    {
      "cell_type": "markdown",
      "source": [
        "*Jalankan prediksi pada kalimat baru:*"
      ],
      "metadata": {
        "id": "EXeu8CaCsQ08"
      }
    },
    {
      "cell_type": "markdown",
      "source": [
        "*Jika prediksi >= 0,0 berarti positif, jika tidak maka negatif.*"
      ],
      "metadata": {
        "id": "F1IucCRZsR7g"
      }
    },
    {
      "cell_type": "code",
      "source": [
        "sample_text = ('The movie was cool. The animation and the graphics '\n",
        "              'were out of this world. I would recommend this movie.')\n",
        "predictions = model.predict(np.array([sample_text]))"
      ],
      "metadata": {
        "colab": {
          "base_uri": "https://localhost:8080/"
        },
        "id": "Kl7YjYYSsUzP",
        "outputId": "1dd4ba47-aa4a-4cc1-98c0-411ab617b6a3"
      },
      "execution_count": 18,
      "outputs": [
        {
          "output_type": "stream",
          "name": "stdout",
          "text": [
            "1/1 [==============================] - 2s 2s/step\n"
          ]
        }
      ]
    },
    {
      "cell_type": "markdown",
      "source": [
        "**Stack two or more LSTM layers**"
      ],
      "metadata": {
        "id": "d_0164Q2s2W0"
      }
    },
    {
      "cell_type": "markdown",
      "source": [
        "**Lapisan berulang Keras memiliki dua mode yang tersedia yang dikontrol oleh argumen konstruktor return_sequences :**\n",
        "* *Jika False, ia hanya mengembalikan keluaran terakhir untuk setiap urutan masukan (bentuk tensor 2D (batch_size, output_features)). Ini adalah default yang digunakan pada model sebelumnya.*\n",
        "* *Jika True, Sequence lengkap output berturut-turut untuk setiap langkah waktu dikembalikan (bentuk tensor 3D (ukuran_batch, langkah waktu, fitur_output)).*\n",
        "\n",
        "*Berikut adalah alur informasi dengan return_sequences=True:*"
      ],
      "metadata": {
        "id": "UY28aPkes4uj"
      }
    },
    {
      "cell_type": "markdown",
      "source": [
        "*Hal yang menarik dari penggunaan RNN dengan return_sequences=True adalah outputnya masih memiliki 3 axis, sama seperti inputnya, sehingga bisa diteruskan ke layer RNN lain, seperti ini:*"
      ],
      "metadata": {
        "id": "v4NuwHSPtEDw"
      }
    },
    {
      "cell_type": "code",
      "source": [
        "model = tf.keras.Sequential([\n",
        "   encoder,\n",
        "   tf.keras.layers.Embedding(len(encoder.get_vocabulary()), 64, mask_zero=True),\n",
        "   tf.keras.layers.Bidirectional(tf.keras.layers.LSTM(64, return_sequences=True)),\n",
        "   tf.keras.layers.Bidirectional(tf.keras.layers.LSTM(32)),\n",
        "   tf.keras.layers.Dense(64, activation='relu'),\n",
        "   tf.keras.layers.Dropout(0.5),\n",
        "   tf.keras.layers.Dense(1)\n",
        "])"
      ],
      "metadata": {
        "id": "05JcPxIntG9E"
      },
      "execution_count": 19,
      "outputs": []
    },
    {
      "cell_type": "code",
      "source": [
        "model.compile(loss=tf.keras.losses.BinaryCrossentropy(from_logits=True),\n",
        "              optimizer=tf.keras.optimizers.Adam(1e-4),\n",
        "              metrics=['accuracy'])"
      ],
      "metadata": {
        "id": "Y9dEESGNtVY9"
      },
      "execution_count": 20,
      "outputs": []
    },
    {
      "cell_type": "code",
      "source": [
        "history = model.fit(train_dataset, epochs=10,\n",
        "                    validation_data=test_dataset,\n",
        "                    validation_steps=30)"
      ],
      "metadata": {
        "colab": {
          "base_uri": "https://localhost:8080/"
        },
        "id": "-6rjs963tdIq",
        "outputId": "a5149e01-048d-4bcd-e458-1bd9cdbce9e2"
      },
      "execution_count": 21,
      "outputs": [
        {
          "output_type": "stream",
          "name": "stdout",
          "text": [
            "Epoch 1/10\n",
            "391/391 [==============================] - 79s 154ms/step - loss: 0.6492 - accuracy: 0.5684 - val_loss: 0.4834 - val_accuracy: 0.7688\n",
            "Epoch 2/10\n",
            "391/391 [==============================] - 49s 125ms/step - loss: 0.4102 - accuracy: 0.8167 - val_loss: 0.3760 - val_accuracy: 0.8125\n",
            "Epoch 3/10\n",
            "391/391 [==============================] - 47s 120ms/step - loss: 0.3441 - accuracy: 0.8516 - val_loss: 0.3456 - val_accuracy: 0.8391\n",
            "Epoch 4/10\n",
            "391/391 [==============================] - 49s 124ms/step - loss: 0.3244 - accuracy: 0.8617 - val_loss: 0.3276 - val_accuracy: 0.8568\n",
            "Epoch 5/10\n",
            "391/391 [==============================] - 49s 124ms/step - loss: 0.3158 - accuracy: 0.8670 - val_loss: 0.3204 - val_accuracy: 0.8615\n",
            "Epoch 6/10\n",
            "391/391 [==============================] - 48s 123ms/step - loss: 0.3111 - accuracy: 0.8684 - val_loss: 0.3264 - val_accuracy: 0.8620\n",
            "Epoch 7/10\n",
            "391/391 [==============================] - 46s 118ms/step - loss: 0.3079 - accuracy: 0.8699 - val_loss: 0.3214 - val_accuracy: 0.8542\n",
            "Epoch 8/10\n",
            "391/391 [==============================] - 46s 118ms/step - loss: 0.3071 - accuracy: 0.8717 - val_loss: 0.3185 - val_accuracy: 0.8547\n",
            "Epoch 9/10\n",
            "391/391 [==============================] - 47s 119ms/step - loss: 0.3009 - accuracy: 0.8712 - val_loss: 0.3376 - val_accuracy: 0.8443\n",
            "Epoch 10/10\n",
            "391/391 [==============================] - 47s 120ms/step - loss: 0.2983 - accuracy: 0.8719 - val_loss: 0.3145 - val_accuracy: 0.8609\n"
          ]
        }
      ]
    },
    {
      "cell_type": "code",
      "source": [
        "test_loss, test_acc = model.evaluate(test_dataset)\n",
        "\n",
        "print('Test Loss:', test_loss)\n",
        "print('Test Accuracy:', test_acc)"
      ],
      "metadata": {
        "colab": {
          "base_uri": "https://localhost:8080/"
        },
        "id": "mKZYyTMPtkIg",
        "outputId": "ca3b706f-b6d9-424d-b5f8-7e7ffffd1770"
      },
      "execution_count": 22,
      "outputs": [
        {
          "output_type": "stream",
          "name": "stdout",
          "text": [
            "391/391 [==============================] - 20s 51ms/step - loss: 0.3137 - accuracy: 0.8572\n",
            "Test Loss: 0.31373515725135803\n",
            "Test Accuracy: 0.8572400212287903\n"
          ]
        }
      ]
    },
    {
      "cell_type": "code",
      "source": [
        "# predict on a sample text without padding.\n",
        "\n",
        "sample_text = ('The movie was not good. The animation and the graphics '\n",
        "               'were terrible. I would not recommend this movie.')\n",
        "predictions = model.predict(np.array([sample_text]))\n",
        "print(predictions)"
      ],
      "metadata": {
        "colab": {
          "base_uri": "https://localhost:8080/"
        },
        "id": "7c9TCdgJtluQ",
        "outputId": "0b512e74-edcb-4c65-e212-0051cbcbf947"
      },
      "execution_count": 23,
      "outputs": [
        {
          "output_type": "stream",
          "name": "stdout",
          "text": [
            "1/1 [==============================] - 5s 5s/step\n",
            "[[-1.4762253]]\n"
          ]
        }
      ]
    },
    {
      "cell_type": "code",
      "source": [
        "plt.figure(figsize=(16, 6))\n",
        "plt.subplot(1, 2, 1)\n",
        "plot_graphs(history, 'accuracy')\n",
        "plt.subplot(1, 2, 2)\n",
        "plot_graphs(history, 'loss')"
      ],
      "metadata": {
        "colab": {
          "base_uri": "https://localhost:8080/",
          "height": 493
        },
        "id": "KsRzlOPDtqVB",
        "outputId": "74dcdde7-08d0-406e-f93f-ff0a8e2269f1"
      },
      "execution_count": 24,
      "outputs": [
        {
          "output_type": "display_data",
          "data": {
            "text/plain": [
              "<Figure size 1600x600 with 2 Axes>"
            ],
            "image/png": "[encoded data removed]"
          },
          "metadata": {}
        }
      ]
    },
    {
      "cell_type": "markdown",
      "source": [
        "**Catatan**"
      ],
      "metadata": {
        "id": "1VksS_LFtszo"
      }
    },
    {
      "cell_type": "markdown",
      "source": [
        "*Informasi menarik lain terkait dengan [GRU layers](https://www.tensorflow.org/api_docs/python/tf/keras/layers/GRU).*\n",
        "\n",
        "*Informasi membuat custom RNN --> Keras [RNN Guide](https://www.tensorflow.org/guide/keras/rnn).*"
      ],
      "metadata": {
        "id": "ZQI90Fk0tv9U"
      }
    },
    {
      "cell_type": "markdown",
      "source": [
        "> # **🍑 Praktikum 2** *Generator Teks dengan RNN*"
      ],
      "metadata": {
        "id": "I6k9NK8AxgRu"
      }
    },
    {
      "cell_type": "markdown",
      "source": [
        "*Praktikum ini mendemonstrasikan cara melakukan genearsi text menggunakan RNN. Dataset yang digunkan adalah dataset Shakespeare's writing from Andrej Karpathy's [The Unreasonable Effectiveness of Recurrent Neural Networks](http://karpathy.github.io/2015/05/21/rnn-effectiveness/). Jika diberikan urutan karakter dari data ini (\"Shakespear\"), latih model untuk memprediksi karakter berikutnya dalam urutan (\"e\"). Urutan teks yang lebih panjang dapat dihasilkan dengan memanggil model berulang kali.*\n",
        "\n",
        "*Note: Enable GPU acceleration to execute this notebook faster. In Colab: Runtime > Change runtime type > Hardware accelerator > GPU.*\n",
        "\n",
        "*Tutorial ini menggunakan tf.keras dan eager execution. Berikut adalah contoh output ketika model dalam tutorial ini dilatih selama 30 epoch, dan dimulai dengan prompt \"Q\":*"
      ],
      "metadata": {
        "id": "5Su-XboLxtID"
      }
    },
    {
      "cell_type": "markdown",
      "source": [
        "**QUEENE:**\n",
        "*I had thought thou hadst a Roman; for the oracle,\n",
        "Thus by All bids the man against the word,\n",
        "Which are so weak of care, by old care done;\n",
        "Your children were in your holy love,\n",
        "And the precipitation through the bleeding throne.*\n",
        "\n",
        "**BISHOP OF ELY:**\n",
        "*Marry, and will, my lord, to weep in such a one were prettiest;\n",
        "Yet now I was adopted heir\n",
        "Of the world's lamentable day,\n",
        "To watch the next way with his father with his face?*\n",
        "\n",
        "**ESCALUS:**\n",
        "*The cause why then we are all resolved more sons.*\n",
        "\n",
        "**VOLUMNIA:**\n",
        "*O, no, no, no, no, no, no, no, no, no, no, no, no, no, no, no, no, no, no, no, no, it is no sin it should be dead,\n",
        "And love and pale as any will to that word.*\n",
        "\n",
        "**QUEEN ELIZABETH:**\n",
        "*But how long have I heard the soul for this world,\n",
        "And show his hands of life be proved to stand.*\n",
        "\n",
        "**PETRUCHIO:**\n",
        "*I say he look'd on, if I must be content\n",
        "To stay him from the fatal of our country's bliss.\n",
        "His lordship pluck'd from this sentence then for prey,\n",
        "And then let us twain, being the moon,\n",
        "were she such a case as fills m*"
      ],
      "metadata": {
        "id": "sF8VT1wOyKr8"
      }
    },
    {
      "cell_type": "markdown",
      "source": [
        "*Meskipun beberapa kalimat memiliki tata bahasa, sebagian besar tidak masuk akal. Model belum mempelajari arti kata-kata, namun anggap saja:*\n",
        "\n",
        "*-Modelnya berbasis karakter. Saat pelatihan dimulai, model tidak mengetahui cara mengeja kata dalam bahasa Inggris, atau bahkan kata-kata tersebut merupakan satuan teks.*\n",
        "\n",
        "*-Struktur keluarannya menyerupai sandiwara—blok teks umumnya dimulai dengan nama pembicara, dengan huruf kapital semua mirip dengan kumpulan data.*\n",
        "\n",
        "*-Seperti yang ditunjukkan di bawah, model dilatih pada kumpulan teks kecil (masing-masing 100 karakter), dan masih mampu menghasilkan rangkaian teks yang lebih panjang dengan struktur yang koheren.*"
      ],
      "metadata": {
        "id": "uVfbppLNylSF"
      }
    },
    {
      "cell_type": "markdown",
      "source": [
        "**Setup**"
      ],
      "metadata": {
        "id": "lUt6NO1Yy1xd"
      }
    },
    {
      "cell_type": "markdown",
      "source": [
        "*Import TensorFlow*"
      ],
      "metadata": {
        "id": "ZEQFWKzpy4Uk"
      }
    },
    {
      "cell_type": "code",
      "source": [
        "import tensorflow as tf\n",
        "import numpy as np\n",
        "import os\n",
        "import time"
      ],
      "metadata": {
        "id": "Iw8Lu5CPy7Hh"
      },
      "execution_count": 25,
      "outputs": []
    },
    {
      "cell_type": "markdown",
      "source": [
        "*Download Dataset Shakespeare*\n",
        "\n",
        "*Sesuaikan dengan lokasi data yang Anda punya.*"
      ],
      "metadata": {
        "id": "PZGz9Zogy-7h"
      }
    },
    {
      "cell_type": "code",
      "source": [
        "path_to_file = tf.keras.utils.get_file('shakespeare.txt', 'https://storage.googleapis.com/download.tensorflow.org/data/shakespeare.txt')"
      ],
      "metadata": {
        "id": "kBIvmvRbzGhe"
      },
      "execution_count": 26,
      "outputs": []
    },
    {
      "cell_type": "markdown",
      "source": [
        "*Load Data*"
      ],
      "metadata": {
        "id": "Ss0eBkvPzNHv"
      }
    },
    {
      "cell_type": "code",
      "source": [
        "# Read, then decode for py2 compat.\n",
        "text = open(path_to_file, 'rb').read().decode(encoding='utf-8')\n",
        "# length of text is the number of characters in it\n",
        "print(f'Length of text: {len(text)} characters')"
      ],
      "metadata": {
        "id": "BY2uU5I3zPW9",
        "outputId": "74f89dd3-5f55-4be8-e8b8-2117ae0fcb73",
        "colab": {
          "base_uri": "https://localhost:8080/"
        }
      },
      "execution_count": 27,
      "outputs": [
        {
          "output_type": "stream",
          "name": "stdout",
          "text": [
            "Length of text: 1115394 characters\n"
          ]
        }
      ]
    },
    {
      "cell_type": "code",
      "source": [
        "# Take a look at the first 250 characters in text\n",
        "print(text[:250])"
      ],
      "metadata": {
        "id": "7TE8FvFczQ_t",
        "outputId": "6e4f0236-869d-40ec-d8a8-46cbcc47e8bc",
        "colab": {
          "base_uri": "https://localhost:8080/"
        }
      },
      "execution_count": 28,
      "outputs": [
        {
          "output_type": "stream",
          "name": "stdout",
          "text": [
            "First Citizen:\n",
            "Before we proceed any further, hear me speak.\n",
            "\n",
            "All:\n",
            "Speak, speak.\n",
            "\n",
            "First Citizen:\n",
            "You are all resolved rather to die than to famish?\n",
            "\n",
            "All:\n",
            "Resolved. resolved.\n",
            "\n",
            "First Citizen:\n",
            "First, you know Caius Marcius is chief enemy to the people.\n",
            "\n"
          ]
        }
      ]
    },
    {
      "cell_type": "code",
      "source": [
        "# The unique characters in the file\n",
        "vocab = sorted(set(text))\n",
        "print(f'{len(vocab)} unique characters')"
      ],
      "metadata": {
        "id": "rRrmdLDlzTML",
        "outputId": "33864651-5002-4505-df94-22b9d9aab13b",
        "colab": {
          "base_uri": "https://localhost:8080/"
        }
      },
      "execution_count": 29,
      "outputs": [
        {
          "output_type": "stream",
          "name": "stdout",
          "text": [
            "65 unique characters\n"
          ]
        }
      ]
    },
    {
      "cell_type": "markdown",
      "source": [
        "**Olah Teks**"
      ],
      "metadata": {
        "id": "5Caj7L-izbK_"
      }
    },
    {
      "cell_type": "markdown",
      "source": [
        "*Vectorize Teks*\n",
        "\n",
        "*Sebelum training, Anda perlu mengonversi string menjadi representasi numerik. tf.keras.layers.StringLookup dapat mengubah setiap karakter menjadi ID numerik. Caranya adalah teks akan dipecah menjadi token terlebih dahulu.*"
      ],
      "metadata": {
        "id": "PVdkRtMbzdDH"
      }
    },
    {
      "cell_type": "code",
      "source": [
        "example_texts = ['abcdefg', 'xyz']\n",
        "chars = tf.strings.unicode_split(example_texts, input_encoding='UTF-8')\n",
        "chars"
      ],
      "metadata": {
        "id": "dFjM97fxzhZN",
        "outputId": "cae0979c-766a-424c-85a0-61a7058b10d7",
        "colab": {
          "base_uri": "https://localhost:8080/"
        }
      },
      "execution_count": 30,
      "outputs": [
        {
          "output_type": "execute_result",
          "data": {
            "text/plain": [
              "<tf.RaggedTensor [[b'a', b'b', b'c', b'd', b'e', b'f', b'g'], [b'x', b'y', b'z']]>"
            ]
          },
          "metadata": {},
          "execution_count": 30
        }
      ]
    },
    {
      "cell_type": "markdown",
      "source": [
        "*sekarang buat tf.keras.layers.StringLookup layer:*"
      ],
      "metadata": {
        "id": "4ik9jcDIzjYX"
      }
    },
    {
      "cell_type": "code",
      "source": [
        "ids_from_chars = tf.keras.layers.StringLookup(\n",
        "vocabulary=list(vocab), mask_token=None)"
      ],
      "metadata": {
        "id": "aHcdR46dzqM5"
      },
      "execution_count": 31,
      "outputs": []
    },
    {
      "cell_type": "markdown",
      "source": [
        "*perintah diatas mengconvert token menjadi id*"
      ],
      "metadata": {
        "id": "RXSesE8HzsMj"
      }
    },
    {
      "cell_type": "code",
      "source": [
        "ids = ids_from_chars(chars)\n",
        "ids"
      ],
      "metadata": {
        "id": "o0Rhk2lozt5k",
        "outputId": "45b003e0-cc22-456a-b8b5-712815f89639",
        "colab": {
          "base_uri": "https://localhost:8080/"
        }
      },
      "execution_count": 32,
      "outputs": [
        {
          "output_type": "execute_result",
          "data": {
            "text/plain": [
              "<tf.RaggedTensor [[40, 41, 42, 43, 44, 45, 46], [63, 64, 65]]>"
            ]
          },
          "metadata": {},
          "execution_count": 32
        }
      ]
    },
    {
      "cell_type": "markdown",
      "source": [
        "*Karena tujuan tutorial ini adalah untuk menghasilkan teks, penting juga untuk membalikkan representasi ini. Untuk ini Anda dapat menggunakan kode tf.keras.layers.StringLookup(..., invert=True).*\n",
        "\n",
        "*Catatan: pada kode ini, daripada meneruskan kosakata asli yang dihasilkan dengan diurutkan(set(teks)) gunakan metode get_vocabulary() dari tf.keras.layers.StringLookup sehingga token [UNK] disetel dengan cara yang sama.*"
      ],
      "metadata": {
        "id": "_bwjX5w0zyvx"
      }
    },
    {
      "cell_type": "code",
      "source": [
        "chars_from_ids = tf.keras.layers.StringLookup(\n",
        "    vocabulary=ids_from_chars.get_vocabulary(), invert=True, mask_token=None)"
      ],
      "metadata": {
        "id": "ngwR4fnIz7AK"
      },
      "execution_count": 33,
      "outputs": []
    },
    {
      "cell_type": "markdown",
      "source": [
        "*Lapisan ini mengconvert kembali karakter dari vektor ID, dan mengembalikannya sebagai karakter tf.RaggedTensor:*"
      ],
      "metadata": {
        "id": "ME5p1cb_z-b7"
      }
    },
    {
      "cell_type": "code",
      "source": [
        "chars = chars_from_ids(ids)\n",
        "chars"
      ],
      "metadata": {
        "id": "-qSdMav30AMq",
        "outputId": "7cdd3055-c37f-464e-9cd2-22ca7b91bfc2",
        "colab": {
          "base_uri": "https://localhost:8080/"
        }
      },
      "execution_count": 34,
      "outputs": [
        {
          "output_type": "execute_result",
          "data": {
            "text/plain": [
              "<tf.RaggedTensor [[b'a', b'b', b'c', b'd', b'e', b'f', b'g'], [b'x', b'y', b'z']]>"
            ]
          },
          "metadata": {},
          "execution_count": 34
        }
      ]
    },
    {
      "cell_type": "markdown",
      "source": [
        "*Anda dapat menggunakan tf.strings.reduce_join untuk menggabungkan kembali karakter menjadi string.*"
      ],
      "metadata": {
        "id": "hlbT-54t0FHW"
      }
    },
    {
      "cell_type": "code",
      "source": [
        "tf.strings.reduce_join(chars, axis=-1).numpy()"
      ],
      "metadata": {
        "id": "CLzYBH6s0Gzk",
        "outputId": "b0927591-d5d7-4af9-d205-2e45a6cc29df",
        "colab": {
          "base_uri": "https://localhost:8080/"
        }
      },
      "execution_count": 35,
      "outputs": [
        {
          "output_type": "execute_result",
          "data": {
            "text/plain": [
              "array([b'abcdefg', b'xyz'], dtype=object)"
            ]
          },
          "metadata": {},
          "execution_count": 35
        }
      ]
    },
    {
      "cell_type": "code",
      "source": [
        "def text_from_ids(ids):\n",
        "    return tf.strings.reduce_join(chars_from_ids(ids), axis=-1)"
      ],
      "metadata": {
        "id": "IUGsljzu0IrI"
      },
      "execution_count": 36,
      "outputs": []
    },
    {
      "cell_type": "markdown",
      "source": [
        "**Prediksi**"
      ],
      "metadata": {
        "id": "cv8mAa8L0OCQ"
      }
    },
    {
      "cell_type": "markdown",
      "source": [
        "*Diberikan sebuah karakter, atau serangkaian karakter, karakter apa yang paling mungkin berikutnya? Ini adalah tugas yang harus Anda latih agar model dapat melakukannya. Masukan ke model akan berupa urutan karakter, dan Anda melatih model untuk memprediksi keluaran berupa karakter berikut pada setiap langkah waktu. Karena RNN mempertahankan keadaan internal yang bergantung pada elemen yang terlihat sebelumnya, mengingat semua karakter dihitung hingga saat ini, karakter apa selanjutnya?*\n",
        "\n",
        "*Membuat Trianing Set dan Target*\n",
        "\n",
        "*Selanjutnya bagilah teks menjadi contoh sequence. Setiap masukan sequence akan berisi karakter seq_length dari teks. Untuk setiap masukan sequence, target prediksi berisi teks dengan panjang yang sama, hanya digeser satu karakter ke kanan. Jadi, bagi teks menjadi beberapa bagian seq_length+1. Misalnya, seq_length adalah 4 dan teks kita adalah \"Hello\". Urutan masukannya adalah \"Hell\", dan urutan targetnya adalah \"ello\". Untuk melakukan ini, pertama-tama gunakan fungsi tf.data.Dataset.from_tensor_slices untuk mengonversi vektor teks menjadi aliran indeks karakter.*"
      ],
      "metadata": {
        "id": "jlU4JVae0RCe"
      }
    },
    {
      "cell_type": "code",
      "source": [
        "all_ids = ids_from_chars(tf.strings.unicode_split(text, 'UTF-8'))\n",
        "all_ids"
      ],
      "metadata": {
        "id": "1PNbAjNl0Yjs",
        "outputId": "9fb5df0c-c3e5-4c1f-f293-d168e3455b12",
        "colab": {
          "base_uri": "https://localhost:8080/"
        }
      },
      "execution_count": 37,
      "outputs": [
        {
          "output_type": "execute_result",
          "data": {
            "text/plain": [
              "<tf.Tensor: shape=(1115394,), dtype=int64, numpy=array([19, 48, 57, ..., 46,  9,  1])>"
            ]
          },
          "metadata": {},
          "execution_count": 37
        }
      ]
    },
    {
      "cell_type": "code",
      "source": [
        "ids_dataset = tf.data.Dataset.from_tensor_slices(all_ids)"
      ],
      "metadata": {
        "id": "7vJDoEbo0cIK"
      },
      "execution_count": 38,
      "outputs": []
    },
    {
      "cell_type": "code",
      "source": [
        "for ids in ids_dataset.take(10):\n",
        "    print(chars_from_ids(ids).numpy().decode('utf-8'))"
      ],
      "metadata": {
        "id": "TOGu0fxI0due",
        "outputId": "ad5cff72-b90c-41cb-ea56-d1a8abfa0307",
        "colab": {
          "base_uri": "https://localhost:8080/"
        }
      },
      "execution_count": 39,
      "outputs": [
        {
          "output_type": "stream",
          "name": "stdout",
          "text": [
            "F\n",
            "i\n",
            "r\n",
            "s\n",
            "t\n",
            " \n",
            "C\n",
            "i\n",
            "t\n",
            "i\n"
          ]
        }
      ]
    },
    {
      "cell_type": "code",
      "source": [
        "seq_length = 100"
      ],
      "metadata": {
        "id": "88A6CW690myo"
      },
      "execution_count": 40,
      "outputs": []
    },
    {
      "cell_type": "markdown",
      "source": [
        "*Metode batch memungkinkan Anda dengan mudah mengonversi karakter individual ini menjadi urutan ukuran yang diinginkan.*"
      ],
      "metadata": {
        "id": "9YdMy5hD0qTp"
      }
    },
    {
      "cell_type": "code",
      "source": [
        "sequences = ids_dataset.batch(seq_length+1, drop_remainder=True)\n",
        "\n",
        "for seq in sequences.take(1):\n",
        "  print(chars_from_ids(seq))"
      ],
      "metadata": {
        "id": "7wr3sL7g0_8s",
        "outputId": "1d393144-9f14-468e-943d-d24c650f20ce",
        "colab": {
          "base_uri": "https://localhost:8080/"
        }
      },
      "execution_count": 41,
      "outputs": [
        {
          "output_type": "stream",
          "name": "stdout",
          "text": [
            "tf.Tensor(\n",
            "[b'F' b'i' b'r' b's' b't' b' ' b'C' b'i' b't' b'i' b'z' b'e' b'n' b':'\n",
            " b'\\n' b'B' b'e' b'f' b'o' b'r' b'e' b' ' b'w' b'e' b' ' b'p' b'r' b'o'\n",
            " b'c' b'e' b'e' b'd' b' ' b'a' b'n' b'y' b' ' b'f' b'u' b'r' b't' b'h'\n",
            " b'e' b'r' b',' b' ' b'h' b'e' b'a' b'r' b' ' b'm' b'e' b' ' b's' b'p'\n",
            " b'e' b'a' b'k' b'.' b'\\n' b'\\n' b'A' b'l' b'l' b':' b'\\n' b'S' b'p' b'e'\n",
            " b'a' b'k' b',' b' ' b's' b'p' b'e' b'a' b'k' b'.' b'\\n' b'\\n' b'F' b'i'\n",
            " b'r' b's' b't' b' ' b'C' b'i' b't' b'i' b'z' b'e' b'n' b':' b'\\n' b'Y'\n",
            " b'o' b'u' b' '], shape=(101,), dtype=string)\n"
          ]
        }
      ]
    },
    {
      "cell_type": "markdown",
      "source": [
        "*akan lebih mudah untuk melihat apa yang dilakukan jika Anda menggabungkan token kembali menjadi string:*"
      ],
      "metadata": {
        "id": "9l17kC8k1DKz"
      }
    },
    {
      "cell_type": "code",
      "source": [
        "for seq in sequences.take(5):\n",
        "    print(text_from_ids(seq).numpy())"
      ],
      "metadata": {
        "id": "FQJ4fpB41GDS",
        "outputId": "45176158-5dbc-4e4e-ac30-923e16d4194a",
        "colab": {
          "base_uri": "https://localhost:8080/"
        }
      },
      "execution_count": 42,
      "outputs": [
        {
          "output_type": "stream",
          "name": "stdout",
          "text": [
            "b'First Citizen:\\nBefore we proceed any further, hear me speak.\\n\\nAll:\\nSpeak, speak.\\n\\nFirst Citizen:\\nYou '\n",
            "b'are all resolved rather to die than to famish?\\n\\nAll:\\nResolved. resolved.\\n\\nFirst Citizen:\\nFirst, you k'\n",
            "b\"now Caius Marcius is chief enemy to the people.\\n\\nAll:\\nWe know't, we know't.\\n\\nFirst Citizen:\\nLet us ki\"\n",
            "b\"ll him, and we'll have corn at our own price.\\nIs't a verdict?\\n\\nAll:\\nNo more talking on't; let it be d\"\n",
            "b'one: away, away!\\n\\nSecond Citizen:\\nOne word, good citizens.\\n\\nFirst Citizen:\\nWe are accounted poor citi'\n"
          ]
        }
      ]
    },
    {
      "cell_type": "markdown",
      "source": [
        "*Untuk pelatihan, Anda memerlukan kumpulan data pasangan (input, label). Dimana input dan label merupakan urutan. Pada setiap langkah waktu, inputnya adalah karakter saat ini dan labelnya adalah karakter berikutnya. Berikut adalah fungsi yang mengambil urutan sebagai masukan, menduplikasi, dan menggesernya untuk menyelaraskan masukan dan label untuk setiap langkah waktu:*"
      ],
      "metadata": {
        "id": "1MqW_c5u1NK2"
      }
    },
    {
      "cell_type": "code",
      "source": [
        "def split_input_target(sequence):\n",
        "    input_text = sequence[:-1]\n",
        "    target_text = sequence[1:]\n",
        "    return input_text, target_text"
      ],
      "metadata": {
        "id": "s_q6Pfv-1PLZ"
      },
      "execution_count": 43,
      "outputs": []
    },
    {
      "cell_type": "code",
      "source": [
        "split_input_target(list(\"Tensorflow\"))"
      ],
      "metadata": {
        "id": "hVMqDCAw1Xfz",
        "outputId": "3fcaf11b-7233-418d-9251-c34260efd817",
        "colab": {
          "base_uri": "https://localhost:8080/"
        }
      },
      "execution_count": 44,
      "outputs": [
        {
          "output_type": "execute_result",
          "data": {
            "text/plain": [
              "(['T', 'e', 'n', 's', 'o', 'r', 'f', 'l', 'o'],\n",
              " ['e', 'n', 's', 'o', 'r', 'f', 'l', 'o', 'w'])"
            ]
          },
          "metadata": {},
          "execution_count": 44
        }
      ]
    },
    {
      "cell_type": "code",
      "source": [
        "dataset = sequences.map(split_input_target)"
      ],
      "metadata": {
        "id": "QQpkKyDs1Yx0"
      },
      "execution_count": 45,
      "outputs": []
    },
    {
      "cell_type": "code",
      "source": [
        "for input_example, target_example in dataset.take(1):\n",
        "    print(\"Input :\", text_from_ids(input_example).numpy())\n",
        "    print(\"Target:\", text_from_ids(target_example).numpy())"
      ],
      "metadata": {
        "id": "YWOEdbej1b1H",
        "outputId": "eeb6bb24-d8f4-4e68-e21b-19c705c1749c",
        "colab": {
          "base_uri": "https://localhost:8080/"
        }
      },
      "execution_count": 46,
      "outputs": [
        {
          "output_type": "stream",
          "name": "stdout",
          "text": [
            "Input : b'First Citizen:\\nBefore we proceed any further, hear me speak.\\n\\nAll:\\nSpeak, speak.\\n\\nFirst Citizen:\\nYou'\n",
            "Target: b'irst Citizen:\\nBefore we proceed any further, hear me speak.\\n\\nAll:\\nSpeak, speak.\\n\\nFirst Citizen:\\nYou '\n"
          ]
        }
      ]
    },
    {
      "cell_type": "markdown",
      "source": [
        "*Membuat Batch Training*\n",
        "\n",
        "*Anda menggunakan tf.data untuk membagi teks menjadi sequence yang dapat diatur. Namun sebelum memasukkan data ini ke dalam model, Anda perlu mengacak data dan mengemasnya ke dalam batch.*"
      ],
      "metadata": {
        "id": "4uEg5rpW1jSb"
      }
    },
    {
      "cell_type": "code",
      "source": [
        "# Batch size\n",
        "BATCH_SIZE = 64\n",
        "\n",
        "# Buffer size to shuffle the dataset\n",
        "# (TF data is designed to work with possibly infinite sequences,\n",
        "# so it doesn't attempt to shuffle the entire sequence in memory. Instead,\n",
        "# it maintains a buffer in which it shuffles elements).\n",
        "BUFFER_SIZE = 10000\n",
        "\n",
        "dataset = (\n",
        "    dataset\n",
        "    .shuffle(BUFFER_SIZE)\n",
        "    .batch(BATCH_SIZE, drop_remainder=True)\n",
        "    .prefetch(tf.data.experimental.AUTOTUNE))\n",
        "\n",
        "dataset"
      ],
      "metadata": {
        "id": "ARK115mv1m3m",
        "outputId": "4f9b1692-1f30-4dba-bbb9-980916cbe02c",
        "colab": {
          "base_uri": "https://localhost:8080/"
        }
      },
      "execution_count": 47,
      "outputs": [
        {
          "output_type": "execute_result",
          "data": {
            "text/plain": [
              "<_PrefetchDataset element_spec=(TensorSpec(shape=(64, 100), dtype=tf.int64, name=None), TensorSpec(shape=(64, 100), dtype=tf.int64, name=None))>"
            ]
          },
          "metadata": {},
          "execution_count": 47
        }
      ]
    },
    {
      "cell_type": "markdown",
      "source": [
        "**Buat Model**"
      ],
      "metadata": {
        "id": "ZkJX2OqU1pUT"
      }
    },
    {
      "cell_type": "markdown",
      "source": [
        "*Bagian ini mendefinisikan model sebagai subkelas keras.Model (untuk lebih detilnya, lihat [Making new Layers and Models via subclassing](https://www.tensorflow.org/guide/keras/custom_layers_and_models)).\n",
        "\n",
        "*Model yang kita bangun memiliki 3 lapisan neural network :*\n",
        "* *tf.keras.layers.Embedding: Lapisan masukan. Tabel pencarian yang dapat dilatih yang akan memetakan setiap karakter-ID ke vektor dengan dimensi embedding_dim;*\n",
        "* *tf.keras.layers.GRU: lapisan RNN dengan ukuran unit=rnn_units (Anda juga dapat menggunakan lapisan LSTM di sini.)*\n",
        "* *tf.keras.layers.Dense: Lapisan keluaran, dengan keluaran vocab_size. Ini menghasilkan satu logit untuk setiap karakter dalam kosakata. Ini adalah log kemungkinan setiap karakter menurut model.*"
      ],
      "metadata": {
        "id": "VWn9_OyB1r-l"
      }
    },
    {
      "cell_type": "code",
      "source": [
        "# Length of the vocabulary in StringLookup Layer\n",
        "vocab_size = len(ids_from_chars.get_vocabulary())\n",
        "\n",
        "# The embedding dimension\n",
        "embedding_dim = 256\n",
        "\n",
        "# Number of RNN units\n",
        "rnn_units = 1024"
      ],
      "metadata": {
        "id": "p9ayDJgs15bV"
      },
      "execution_count": 48,
      "outputs": []
    },
    {
      "cell_type": "code",
      "source": [
        "class MyModel(tf.keras.Model):\n",
        "  def __init__(self, vocab_size, embedding_dim, rnn_units):\n",
        "    super().__init__(self)\n",
        "    self.embedding = tf.keras.layers.Embedding(vocab_size, embedding_dim)\n",
        "    self.gru = tf.keras.layers.GRU(rnn_units,\n",
        "                                   return_sequences=True,\n",
        "                                   return_state=True)\n",
        "    self.dense = tf.keras.layers.Dense(vocab_size)\n",
        "\n",
        "  def call(self, inputs, states=None, return_state=False, training=False):\n",
        "    x = inputs\n",
        "    x = self.embedding(x, training=training)\n",
        "    if states is None:\n",
        "      states = self.gru.get_initial_state(x)\n",
        "    x, states = self.gru(x, initial_state=states, training=training)\n",
        "    x = self.dense(x, training=training)\n",
        "\n",
        "    if return_state:\n",
        "      return x, states\n",
        "    else:\n",
        "      return x"
      ],
      "metadata": {
        "id": "UoJlacYq16uL"
      },
      "execution_count": 49,
      "outputs": []
    },
    {
      "cell_type": "code",
      "source": [
        "model = MyModel(\n",
        "    vocab_size=vocab_size,\n",
        "    embedding_dim=embedding_dim,\n",
        "    rnn_units=rnn_units)"
      ],
      "metadata": {
        "id": "mM7FZ4ZJ19Dn"
      },
      "execution_count": 50,
      "outputs": []
    },
    {
      "cell_type": "markdown",
      "source": [
        "*Untuk setiap karakter, model mencari penyematan, menjalankan GRU satu langkah waktu dengan penyematan sebagai masukan, dan menerapkan dense layer untuk menghasilkan log yang memprediksi kemungkinan log karakter berikutnya:*"
      ],
      "metadata": {
        "id": "yTAnXnW11_O5"
      }
    },
    {
      "cell_type": "markdown",
      "source": [
        "Note: Untuk pelatihan Anda bisa menggunakan model keras.Sequential di sini. Untuk menghasilkan teks nanti, Anda harus mengelola status internal RNN. Akan lebih mudah untuk memasukkan opsi input dan output status di awal, daripada mengatur ulang arsitektur model nanti. untuk detailnya bisa dilihat [Keras RNN guide](https://www.tensorflow.org/guide/keras/rnn#rnn_state_reuse)."
      ],
      "metadata": {
        "id": "rHqAfZ6Z2IDN"
      }
    },
    {
      "cell_type": "markdown",
      "source": [
        "**Uji Model**"
      ],
      "metadata": {
        "id": "v6yjgvUT2QEX"
      }
    },
    {
      "cell_type": "markdown",
      "source": [
        "*Coba jalankan model dan cek apakah sidah sesuai dengan output*\n",
        "\n",
        "*pertama, cek bentuk dari output*"
      ],
      "metadata": {
        "id": "UBxaxF3L2ST7"
      }
    },
    {
      "cell_type": "code",
      "source": [
        "for input_example_batch, target_example_batch in dataset.take(1):\n",
        "    example_batch_predictions = model(input_example_batch)\n",
        "    print(example_batch_predictions.shape, \"# (batch_size, sequence_length, vocab_size)\")"
      ],
      "metadata": {
        "id": "-Aiu2rsr2XOW",
        "outputId": "3006489e-d6cd-477e-cba0-64338f8d9f7f",
        "colab": {
          "base_uri": "https://localhost:8080/"
        }
      },
      "execution_count": 51,
      "outputs": [
        {
          "output_type": "stream",
          "name": "stdout",
          "text": [
            "(64, 100, 66) # (batch_size, sequence_length, vocab_size)\n"
          ]
        }
      ]
    },
    {
      "cell_type": "markdown",
      "source": [
        "*Dalam contoh di atas, panjang urutan masukan adalah 100 tetapi model dapat dijalankan pada masukan dengan panjang berapa pun:*"
      ],
      "metadata": {
        "id": "GdZbiVH72aKq"
      }
    },
    {
      "cell_type": "code",
      "source": [
        "model.summary()"
      ],
      "metadata": {
        "id": "NlGzxAII2bso",
        "outputId": "c1e836fa-3580-4c5c-92c4-7629a69f6f3d",
        "colab": {
          "base_uri": "https://localhost:8080/"
        }
      },
      "execution_count": 52,
      "outputs": [
        {
          "output_type": "stream",
          "name": "stdout",
          "text": [
            "Model: \"my_model\"\n",
            "_________________________________________________________________\n",
            " Layer (type)                Output Shape              Param #   \n",
            "=================================================================\n",
            " embedding_2 (Embedding)     multiple                  16896     \n",
            "                                                                 \n",
            " gru (GRU)                   multiple                  3938304   \n",
            "                                                                 \n",
            " dense_4 (Dense)             multiple                  67650     \n",
            "                                                                 \n",
            "=================================================================\n",
            "Total params: 4022850 (15.35 MB)\n",
            "Trainable params: 4022850 (15.35 MB)\n",
            "Non-trainable params: 0 (0.00 Byte)\n",
            "_________________________________________________________________\n"
          ]
        }
      ]
    },
    {
      "cell_type": "markdown",
      "source": [
        "*Untuk mendapatkan prediksi aktual dari model, Anda perlu mengambil sampel dari distribusi keluaran, untuk mendapatkan indeks karakter aktual. Distribusi ini ditentukan oleh logit pada kosakata karakter. Catatan: Penting untuk mengambil sampel dari distribusi ini karena mengambil argmax dari distribusi tersebut dapat dengan mudah membuat model terjebak dalam infinote loop. Cobalah untuk contoh pertama di batch:*"
      ],
      "metadata": {
        "id": "G3fERU922dUU"
      }
    },
    {
      "cell_type": "code",
      "source": [
        "sampled_indices = tf.random.categorical(example_batch_predictions[0], num_samples=1)\n",
        "sampled_indices = tf.squeeze(sampled_indices, axis=-1).numpy()"
      ],
      "metadata": {
        "id": "JB_F3g6S2e9w"
      },
      "execution_count": 53,
      "outputs": []
    },
    {
      "cell_type": "markdown",
      "source": [
        "*Hal ini memberi kita, pada setiap langkah waktu, prediksi indeks karakter berikutnya:*"
      ],
      "metadata": {
        "id": "JMDP4lTf2hOj"
      }
    },
    {
      "cell_type": "code",
      "source": [
        "sampled_indices"
      ],
      "metadata": {
        "id": "y2YDGHOm2oeY",
        "outputId": "26c9869b-9bb0-44e6-b586-960d15f5134e",
        "colab": {
          "base_uri": "https://localhost:8080/"
        }
      },
      "execution_count": 54,
      "outputs": [
        {
          "output_type": "execute_result",
          "data": {
            "text/plain": [
              "array([62,  9, 27, 49, 35, 51, 18,  6, 21, 38, 47, 47, 57, 40, 62, 47,  7,\n",
              "       53, 35, 24, 40, 60, 17, 33,  7, 35, 50, 10, 17, 34, 37, 22, 42,  2,\n",
              "       48, 26, 18, 60, 24, 23,  7, 16, 45,  5, 56, 37, 65, 36, 11, 44, 56,\n",
              "       29, 13, 40, 39, 52, 59, 11, 25, 59, 38, 22, 41, 32, 57,  8, 46, 63,\n",
              "        0, 57, 32, 17,  1, 47, 34, 19, 32,  3, 31, 40, 29, 47, 21,  6, 54,\n",
              "       43,  8, 59,  9, 43, 26, 57, 44, 28, 62, 43,  4, 59, 64, 44])"
            ]
          },
          "metadata": {},
          "execution_count": 54
        }
      ]
    },
    {
      "cell_type": "markdown",
      "source": [
        "*Dekode kode berikut untuk melihat teks yang diprediksi oleh model tidak terlatih ini:*"
      ],
      "metadata": {
        "id": "qVrIT5z32qdF"
      }
    },
    {
      "cell_type": "code",
      "source": [
        "print(\"Input:\\n\", text_from_ids(input_example_batch[0]).numpy())\n",
        "print()\n",
        "print(\"Next Char Predictions:\\n\", text_from_ids(sampled_indices).numpy())"
      ],
      "metadata": {
        "id": "Pa3klTu52sQZ",
        "outputId": "e89ed45c-856a-4b5b-a58e-2e8a5a98301c",
        "colab": {
          "base_uri": "https://localhost:8080/"
        }
      },
      "execution_count": 55,
      "outputs": [
        {
          "output_type": "stream",
          "name": "stdout",
          "text": [
            "Input:\n",
            " b\"y be well; but, if God sort it so,\\n'Tis more than we deserve, or I expect.\\n\\nSecond Citizen:\\nTruly, t\"\n",
            "\n",
            "Next Char Predictions:\n",
            " b\"w.NjVlE'HYhhrawh,nVKauDT,Vk3DUXIc iMEuKJ,Cf&qXzW:eqP?aZmt:LtYIbSr-gx[UNK]rSD\\nhUFS!RaPhH'od-t.dMreOwd$tye\"\n"
          ]
        }
      ]
    },
    {
      "cell_type": "markdown",
      "source": [
        "**Train Model**"
      ],
      "metadata": {
        "id": "NnAExMNA2uZI"
      }
    },
    {
      "cell_type": "markdown",
      "source": [
        "*Pada titik ini permasalahan dapat dianggap sebagai permasalahan klasifikasi standar. Permasalahan dapat disimpulkan dengan : Berdasarkan status RNN sebelumnya, dan masukan langkah kali ini, prediksi kelas karakter berikutnya.*\n",
        "\n",
        "*Tambahan optimizer dan fungsi loss*\n",
        "\n",
        "*loss function tf.keras.losses.sparse_categorical_crossentropy standar berfungsi dalam kasus ini karena diterapkan di seluruh dimensi terakhir prediksi. Karena model Anda mengembalikan logits, Anda perlu mengatur flag from_logits.*"
      ],
      "metadata": {
        "id": "WAlAfXAV219g"
      }
    },
    {
      "cell_type": "code",
      "source": [
        "loss = tf.losses.SparseCategoricalCrossentropy(from_logits=True)"
      ],
      "metadata": {
        "id": "YvVLulW028NQ"
      },
      "execution_count": 56,
      "outputs": []
    },
    {
      "cell_type": "code",
      "source": [
        "example_batch_mean_loss = loss(target_example_batch, example_batch_predictions)\n",
        "print(\"Prediction shape: \", example_batch_predictions.shape, \" # (batch_size, sequence_length, vocab_size)\")\n",
        "print(\"Mean loss:        \", example_batch_mean_loss)"
      ],
      "metadata": {
        "id": "nhUl1Qxi3A-Y",
        "outputId": "ee9ef75c-ac25-493c-8267-8eccbfbad6ea",
        "colab": {
          "base_uri": "https://localhost:8080/"
        }
      },
      "execution_count": 57,
      "outputs": [
        {
          "output_type": "stream",
          "name": "stdout",
          "text": [
            "Prediction shape:  (64, 100, 66)  # (batch_size, sequence_length, vocab_size)\n",
            "Mean loss:         tf.Tensor(4.1886477, shape=(), dtype=float32)\n"
          ]
        }
      ]
    },
    {
      "cell_type": "markdown",
      "source": [
        "*Model yang baru diinisialisasi tidak boleh terlalu yakin dengan dirinya sendiri, semua log keluaran harus memiliki besaran yang sama. Untuk mengonfirmasi hal ini, Anda dapat memeriksa bahwa eksponensial dari loss rata-rata harus kira-kira sama dengan ukuran kosakata. Loss yang jauh lebih tinggi berarti model tersebut yakin akan jawaban yang salah, dan memiliki inisialisasi yang buruk:*"
      ],
      "metadata": {
        "id": "C0l6mxoR3Dpj"
      }
    },
    {
      "cell_type": "code",
      "source": [
        "tf.exp(example_batch_mean_loss).numpy()"
      ],
      "metadata": {
        "id": "iYkDOzVS3Fkb",
        "outputId": "b8ffcdd8-38cf-419d-b73b-4c222a0905c5",
        "colab": {
          "base_uri": "https://localhost:8080/"
        }
      },
      "execution_count": 58,
      "outputs": [
        {
          "output_type": "execute_result",
          "data": {
            "text/plain": [
              "65.93358"
            ]
          },
          "metadata": {},
          "execution_count": 58
        }
      ]
    },
    {
      "cell_type": "markdown",
      "source": [
        "*Konfigurasikan prosedur pelatihan menggunakan metode tf.keras.Model.compile. Gunakan tf.keras.optimizers.Adam dengan argumen default dan fungsi loss.*"
      ],
      "metadata": {
        "id": "Nxvm7X-N3HXA"
      }
    },
    {
      "cell_type": "code",
      "source": [
        "model.compile(optimizer='adam', loss=loss)"
      ],
      "metadata": {
        "id": "O7lI4SGK3K2K"
      },
      "execution_count": 59,
      "outputs": []
    },
    {
      "cell_type": "markdown",
      "source": [
        "*Konfigurasi Checkpoints*\n",
        "\n",
        "*Gunakan tf.keras.callbacks.ModelCheckpoint untuk memastikan bahwa checkpoint disimpan selama pelatihan:*"
      ],
      "metadata": {
        "id": "hK3l7tqZ3N6d"
      }
    },
    {
      "cell_type": "code",
      "source": [
        "# Directory where the checkpoints will be saved\n",
        "checkpoint_dir = './training_checkpoints'\n",
        "# Name of the checkpoint files\n",
        "checkpoint_prefix = os.path.join(checkpoint_dir, \"ckpt_{epoch}\")\n",
        "\n",
        "checkpoint_callback = tf.keras.callbacks.ModelCheckpoint(\n",
        "    filepath=checkpoint_prefix,\n",
        "    save_weights_only=True)"
      ],
      "metadata": {
        "id": "kP-AFopm3SNe"
      },
      "execution_count": 60,
      "outputs": []
    },
    {
      "cell_type": "markdown",
      "source": [
        "*Lakukan Proses Training*\n",
        "\n",
        "*Agar waktu pelatihan tidak terlalu lama, gunakan 10 epoch untuk melatih model. Di Colab, setel runtime ke GPU untuk pelatihan yang lebih cepat.*"
      ],
      "metadata": {
        "id": "5MS9oScv3VCw"
      }
    },
    {
      "cell_type": "code",
      "source": [
        "EPOCHS = 20"
      ],
      "metadata": {
        "id": "Uqrwmv5e3X_z"
      },
      "execution_count": 61,
      "outputs": []
    },
    {
      "cell_type": "code",
      "source": [
        "history = model.fit(dataset, epochs=EPOCHS, callbacks=[checkpoint_callback])"
      ],
      "metadata": {
        "id": "PEVOkujA3Yth",
        "outputId": "47f0fac2-2a9a-404c-a3a6-56bb65a93b7c",
        "colab": {
          "base_uri": "https://localhost:8080/"
        }
      },
      "execution_count": 62,
      "outputs": [
        {
          "output_type": "stream",
          "name": "stdout",
          "text": [
            "Epoch 1/20\n",
            "172/172 [==============================] - 14s 61ms/step - loss: 2.7085\n",
            "Epoch 2/20\n",
            "172/172 [==============================] - 12s 62ms/step - loss: 1.9826\n",
            "Epoch 3/20\n",
            "172/172 [==============================] - 12s 61ms/step - loss: 1.7041\n",
            "Epoch 4/20\n",
            "172/172 [==============================] - 12s 61ms/step - loss: 1.5446\n",
            "Epoch 5/20\n",
            "172/172 [==============================] - 12s 58ms/step - loss: 1.4468\n",
            "Epoch 6/20\n",
            "172/172 [==============================] - 12s 58ms/step - loss: 1.3787\n",
            "Epoch 7/20\n",
            "172/172 [==============================] - 12s 57ms/step - loss: 1.3269\n",
            "Epoch 8/20\n",
            "172/172 [==============================] - 12s 60ms/step - loss: 1.2818\n",
            "Epoch 9/20\n",
            "172/172 [==============================] - 12s 61ms/step - loss: 1.2405\n",
            "Epoch 10/20\n",
            "172/172 [==============================] - 12s 61ms/step - loss: 1.2027\n",
            "Epoch 11/20\n",
            "172/172 [==============================] - 12s 61ms/step - loss: 1.1631\n",
            "Epoch 12/20\n",
            "172/172 [==============================] - 11s 57ms/step - loss: 1.1228\n",
            "Epoch 13/20\n",
            "172/172 [==============================] - 12s 59ms/step - loss: 1.0798\n",
            "Epoch 14/20\n",
            "172/172 [==============================] - 12s 61ms/step - loss: 1.0349\n",
            "Epoch 15/20\n",
            "172/172 [==============================] - 12s 62ms/step - loss: 0.9873\n",
            "Epoch 16/20\n",
            "172/172 [==============================] - 12s 60ms/step - loss: 0.9389\n",
            "Epoch 17/20\n",
            "172/172 [==============================] - 12s 61ms/step - loss: 0.8870\n",
            "Epoch 18/20\n",
            "172/172 [==============================] - 12s 61ms/step - loss: 0.8356\n",
            "Epoch 19/20\n",
            "172/172 [==============================] - 12s 58ms/step - loss: 0.7855\n",
            "Epoch 20/20\n",
            "172/172 [==============================] - 13s 60ms/step - loss: 0.7381\n"
          ]
        }
      ]
    },
    {
      "cell_type": "markdown",
      "source": [
        "**Generate Teks**"
      ],
      "metadata": {
        "id": "j0k5JbJJ3hRI"
      }
    },
    {
      "cell_type": "markdown",
      "source": [
        "*Cara termudah untuk menghasilkan teks dengan model ini adalah dengan menjalankannya dalam loop, dan menyimpan status internal model saat Anda menjalankannya.*"
      ],
      "metadata": {
        "id": "VIwj2HsY3jhX"
      }
    },
    {
      "cell_type": "markdown",
      "source": [
        "*Setiap kali Anda memanggil model, Anda memasukkan beberapa teks dan state internal. Model mengembalikan prediksi untuk karakter berikutnya dan state barunya. Masukkan kembali prediksi dan state ke model untuk terus menghasilkan teks.*\n",
        "\n",
        "*Berikut ini membuat prediksi satu langkah:*"
      ],
      "metadata": {
        "id": "7yFBVL5G3mmm"
      }
    },
    {
      "cell_type": "code",
      "source": [
        "class OneStep(tf.keras.Model):\n",
        "  def __init__(self, model, chars_from_ids, ids_from_chars, temperature=1.0):\n",
        "    super().__init__()\n",
        "    self.temperature = temperature\n",
        "    self.model = model\n",
        "    self.chars_from_ids = chars_from_ids\n",
        "    self.ids_from_chars = ids_from_chars\n",
        "\n",
        "    # Create a mask to prevent \"[UNK]\" from being generated.\n",
        "    skip_ids = self.ids_from_chars(['[UNK]'])[:, None]\n",
        "    sparse_mask = tf.SparseTensor(\n",
        "        # Put a -inf at each bad index.\n",
        "        values=[-float('inf')]*len(skip_ids),\n",
        "        indices=skip_ids,\n",
        "        # Match the shape to the vocabulary\n",
        "        dense_shape=[len(ids_from_chars.get_vocabulary())])\n",
        "    self.prediction_mask = tf.sparse.to_dense(sparse_mask)\n",
        "\n",
        "  @tf.function\n",
        "  def generate_one_step(self, inputs, states=None):\n",
        "    # Convert strings to token IDs.\n",
        "    input_chars = tf.strings.unicode_split(inputs, 'UTF-8')\n",
        "    input_ids = self.ids_from_chars(input_chars).to_tensor()\n",
        "\n",
        "    # Run the model.\n",
        "    # predicted_logits.shape is [batch, char, next_char_logits]\n",
        "    predicted_logits, states = self.model(inputs=input_ids, states=states,\n",
        "                                          return_state=True)\n",
        "    # Only use the last prediction.\n",
        "    predicted_logits = predicted_logits[:, -1, :]\n",
        "    predicted_logits = predicted_logits/self.temperature\n",
        "    # Apply the prediction mask: prevent \"[UNK]\" from being generated.\n",
        "    predicted_logits = predicted_logits + self.prediction_mask\n",
        "\n",
        "    # Sample the output logits to generate token IDs.\n",
        "    predicted_ids = tf.random.categorical(predicted_logits, num_samples=1)\n",
        "    predicted_ids = tf.squeeze(predicted_ids, axis=-1)\n",
        "\n",
        "    # Convert from token ids to characters\n",
        "    predicted_chars = self.chars_from_ids(predicted_ids)\n",
        "\n",
        "    # Return the characters and model state.\n",
        "    return predicted_chars, states"
      ],
      "metadata": {
        "id": "rtg2hjZL3p3U"
      },
      "execution_count": 63,
      "outputs": []
    },
    {
      "cell_type": "code",
      "source": [
        "one_step_model = OneStep(model, chars_from_ids, ids_from_chars)"
      ],
      "metadata": {
        "id": "E7rDIYCq3sDu"
      },
      "execution_count": 64,
      "outputs": []
    },
    {
      "cell_type": "markdown",
      "source": [
        "*Jalankan secara berulang untuk menghasilkan beberapa teks. Melihat teks yang dihasilkan, Anda akan melihat model mengetahui kapan harus menggunakan huruf besar, membuat paragraf, dan meniru kosakata menulis seperti Shakespeare. Karena sedikitnya jumlah epoch pelatihan, model belum belajar membentuk kalimat runtut.*"
      ],
      "metadata": {
        "id": "KRJx5pjT3vRb"
      }
    },
    {
      "cell_type": "code",
      "source": [
        "start = time.time()\n",
        "states = None\n",
        "next_char = tf.constant(['ROMEO:'])\n",
        "result = [next_char]\n",
        "\n",
        "for n in range(1000):\n",
        "  next_char, states = one_step_model.generate_one_step(next_char, states=states)\n",
        "  result.append(next_char)\n",
        "\n",
        "result = tf.strings.join(result)\n",
        "end = time.time()\n",
        "print(result[0].numpy().decode('utf-8'), '\\n\\n' + '_'*80)\n",
        "print('\\nRun time:', end - start)"
      ],
      "metadata": {
        "id": "yQT_01So3xPx",
        "outputId": "67cde50c-2dee-493f-a27d-67f6801b501c",
        "colab": {
          "base_uri": "https://localhost:8080/"
        }
      },
      "execution_count": 65,
      "outputs": [
        {
          "output_type": "stream",
          "name": "stdout",
          "text": [
            "ROMEO:\n",
            "O, then I see that hopes to fail o' rother,\n",
            "Or when extremes again with Clarence took\n",
            "The presence that you have, but not my son; his fault on my\n",
            "Help, help! \n",
            "CAPULET:\n",
            "Do, answer go.\n",
            "\n",
            "Clown:\n",
            "What comfort is a bastardy God! is't\n",
            "Because he hath a warrant for a mile; who, at the sun:\n",
            "You make, a say to her: thou didst say so,\n",
            "Through the deposing parts of my kinsmen's love.\n",
            "She hath often well aches, and some two death\n",
            "Was God's met them forgive; consider with reign:\n",
            "Had she approvanting people.\n",
            "\n",
            "ABHORSON:\n",
            "Sirrah, back to him, we have no further stay him an;\n",
            "O, fie; fie, fie, fix sickness that I had;\n",
            "And hangled yet, joy have prevented: not forget to noo!\n",
            "Camillo plead, Clifford, rice before: I do not say\n",
            "he counted somewhough worse chance of grief that chides your lords,\n",
            "Not swear it instor thee and be brief about,\n",
            "Found swoon, but stop not sick health to our paraties:\n",
            "And, townow by his will, against his enough,\n",
            "To patience thee wish him withal.\n",
            "Well are the Lord Hastings with thee an \n",
            "\n",
            "________________________________________________________________________________\n",
            "\n",
            "Run time: 3.323854923248291\n"
          ]
        }
      ]
    },
    {
      "cell_type": "markdown",
      "source": [
        "*Hal termudah yang dapat Anda lakukan untuk meningkatkan hasil adalah dengan melatihnya lebih lama (coba EPOCHS = 30). Anda juga dapat bereksperimen dengan string awal yang berbeda, mencoba menambahkan lapisan RNN lain untuk meningkatkan akurasi model, atau menyesuaikan parameter suhu untuk menghasilkan prediksi yang kurang lebih acak.*\n",
        "\n",
        "*Jika Anda ingin model menghasilkan teks lebih cepat, hal termudah yang dapat Anda lakukan adalah membuat teks secara batch. Pada contoh di bawah, model menghasilkan 5 keluaran dalam waktu yang hampir sama dengan waktu yang dibutuhkan untuk menghasilkan 1 keluaran di atas.*"
      ],
      "metadata": {
        "id": "l6_qxPYL3zdv"
      }
    },
    {
      "cell_type": "code",
      "source": [
        "start = time.time()\n",
        "states = None\n",
        "next_char = tf.constant(['ROMEO:', 'ROMEO:', 'ROMEO:', 'ROMEO:', 'ROMEO:'])\n",
        "result = [next_char]\n",
        "\n",
        "for n in range(1000):\n",
        "  next_char, states = one_step_model.generate_one_step(next_char, states=states)\n",
        "  result.append(next_char)\n",
        "\n",
        "result = tf.strings.join(result)\n",
        "end = time.time()\n",
        "print(result, '\\n\\n' + '_'*80)\n",
        "print('\\nRun time:', end - start)"
      ],
      "metadata": {
        "id": "4659V9GJ33sc",
        "outputId": "4c6e7e48-5d42-4868-fc4a-d9094cd22319",
        "colab": {
          "base_uri": "https://localhost:8080/"
        }
      },
      "execution_count": 66,
      "outputs": [
        {
          "output_type": "stream",
          "name": "stdout",
          "text": [
            "tf.Tensor(\n",
            "[b\"ROMEO:\\nO, sir, I have done son: methinks, the sweeter spirit\\nAgainst his knees there, are well on their hearts,\\nThe velvel of our state oppress' haste.\\n\\nWARWICK:\\nWhat treacherous leasure, I have discontented\\nYou would be something on his way,\\nSo was a man of banishment, to\\nLord carry then.\\n\\nGONZALO:\\nMay ha! deny here?\\n\\nROMEO:\\n\\nDORCAS:\\nWhither away?\\n\\nCORIOLANUS:\\nThou, or elsequence,\\nSome wanter, speak with Autable.\\n\\nDUKE VINCENTIO:\\nMost your offences will rest them Well.\\nCommend me to him, he is gone: therefore, faith, upon;\\nThe prouddee chases; then to this wrong:\\nHear morning is it, lest witnesses, with along effember;\\nAnd thou hast shotted him such as blour.\\nCome, Master Barnardine and less vault,\\nAn every storm to come; the weeds we have let.\\nShall not a whip willingly;\\nBut you say you here denial had murder\\nA thriving itself to sweat a priefent!\\n\\nLUCIO:\\n\\nJULIET:\\nWhere knaw, this near-us he of mine own days?\\nWhere in the like thousand nives the people?\\n\\nCURTIS:\\nWhy, that's a faith.\\n\\nBRUTU\"\n",
            " b\"ROMEO:\\nThou thread, to be resident: out of holy woe,\\nHath been as best of all the worst about your\\ngrace for a punishment in the earth,\\nOur present temples on the waves with me?\\n\\nGLOUCESTER:\\nWhat mount with eag and madness? let's pet at.\\n\\nMARIANA:\\nPardon me, lords:\\nHe did intended me. These are thy sleeps?\\nWhy, then, Villos, way, thou lovest no scending.\\nHe cabinged mine to thy harsy: I think\\nMeasure to her hath prevented in't\\nAs frankly, at Steble she's dead.\\n\\nNORTHUMBERLAND:\\nHis noble kinsmen, good nimble to my soul,\\nAre saids his blood to do my place among to thee;\\nAnd, for this isle in prisoner.\\n\\nLEONTES:\\nI am\\nThere lies the raring which i' the poor pear.\\nWhat shall me deceive\\nAnd chide the other to lime than slaughter'd,\\nBut what life upon her, since argued by skleed;\\nYea, and homel and thine own human arms?\\nAught therefore English blood loss of the queen.\\n\\nGLOUCESTER:\\nSay, not so must I stay to thee,\\nWhere wey'd the care of Brother,\\nNot a sord, and some supporren.\\n\\nCUMIO:\\nHis pale is t\"\n",
            " b\"ROMEO:\\nO, that the roots be king!\\n\\nKING EDWARD IV:\\nHeavens grave your will, sir, so have\\nwept,--not all this wild?\\n\\nISABELLA:\\nO that good mongham, have been as cross to kiss!\\n\\nDUCHESS OF YORK:\\nWhat is my offence?\\n\\nPOMPEY:\\nNo, not a wife hath died in the Tower.\\n\\nThird Servingman:\\nWhy, a just that lay her edward buide!\\nO slight and return that quasted there?\\nShall fit to fear that Romeo behold him.\\n\\nMOPSA:\\nPrantagone!\\nWhat if you can defend to break his grace.\\n\\nBENVOLIO:\\nMadam, your good report is much abused,\\nThy triumphant happily never been,\\nTo little fire remembers him; for\\nslain; we will not only plot love to\\nenforce his private deceived,\\nHe dies to-morrow in the Charity one.\\n\\nQUEEN ELIZABETH:\\nWould by one word, most sight and leave\\nThe name to lour, uncleined thus triumphant's\\nCleam open welcome, look to the seas\\nAnd bid her pause will but his walk again.\\n\\nClown:\\nLeap'd them here, sir; come, you fardenly!\\nIsandle me at uppine, Hereford's members\\nTear to be increased. OF All goast tell fe\"\n",
            " b\"ROMEO:\\nO, that she is grown somerset, to do this writ;\\nmost sweet, she was, Trow sound she would.\\nWell, tell my more world you like to take another\\nAnd be not so hea-the fire? thou'rt away?\\n\\nKING EDWARD IV:\\nSuppose they change thy brother blood, wast her.\\nPeace, wretched, untalupate, whom Derby\\nHere has been all is galley, more days are\\nforget in: change myself upon her;\\nUnsheathe your spirits now shall Frown in pride.\\n\\nThird Gentleman:\\nWell, joy it is; and is this kind of ill.\\n\\nLADY CAPULET:\\nWhat comest thou we have done your sonour\\nTo unpromise-this familian cannot patry\\nWhat you did letter--\\n\\nBENENIUS:\\nYou will what is more than mile by York.\\n\\nPRINCE EDWARD:\\nI smile, hie you, sir, that did not so faith.\\n\\nPETRUCHIO:\\nBe ruled by widow; and, sir, is it.\\n\\nGLOUCESTER:\\nWhy, that will I dive here to earth.\\nThough bitterness of hell!\\n\\nClown:\\nNow, my son Edward with your swords by day,\\nThat tilk shall for this widow'd applauder\\nMen, set in a lip, where youth took to\\nhours since, but else that upon\"\n",
            " b\"ROMEO:\\nfor so your sister's pardon,--\\n\\nRATESTO:\\nMy lord will they not speak alive.\\n\\nDUKE VINCENTIO:\\nBlessed be a Christianca tender here, and here again.\\n\\nGloofs:\\nI would use-wakes this. Dost at noble seen?\\nI fear her, time, and bump up shrift:\\nThe object of 'lops to him will turns to order\\nThe people's house.\\nSirs, let me blush with me: come forth, I am\\nsuster'd the spirit to my soul to triumph?\\nWill you such drift?\\n\\nGLOUCESTER:\\nWhat should he been, that now is thicker, my lords,\\nMore ponrow in the mind he is down.\\nWell, I say, unlow, thy bed.\\n\\nRICHMOND:\\nGood morrow, nor from his friend, will you so\\nWould profession to him.\\n\\nISABELLA:\\nWhat thinvey that deep will weep to\\nforward, York's no applahe and Catesby, we'll never go,\\nOr, loath, being, as that choosed east,\\nAnd then possess it. By yonger was, I warrant her,\\nNor have you kill'd and made\\nWhen Broken forth their very blood that shall meet with her,\\nDo as the other, will have uttermant together\\nAnd now say now.'\\n\\nKING EDWARD IV:\\nWhy, lov\"], shape=(5,), dtype=string) \n",
            "\n",
            "________________________________________________________________________________\n",
            "\n",
            "Run time: 4.060866117477417\n"
          ]
        }
      ]
    },
    {
      "cell_type": "markdown",
      "source": [
        "**Ekspor Model Generator**"
      ],
      "metadata": {
        "id": "W1lGuA9L35lm"
      }
    },
    {
      "cell_type": "markdown",
      "source": [
        "*Model satu langkah ini dapat dengan mudah disimpan dan digunakan kembali, memungkinkan Anda menggunakannya di mana pun tf.saved_model diterima.*"
      ],
      "metadata": {
        "id": "wFijK66s37pT"
      }
    },
    {
      "cell_type": "code",
      "source": [
        "tf.saved_model.save(one_step_model, 'one_step')\n",
        "one_step_reloaded = tf.saved_model.load('one_step')"
      ],
      "metadata": {
        "id": "KmDUGhWG39rf",
        "outputId": "164b099a-2f45-448d-907f-82a5a2ef5e1a",
        "colab": {
          "base_uri": "https://localhost:8080/"
        }
      },
      "execution_count": 67,
      "outputs": [
        {
          "output_type": "stream",
          "name": "stderr",
          "text": [
            "WARNING:tensorflow:Skipping full serialization of Keras layer <__main__.OneStep object at 0x7fccbca13c40>, because it is not built.\n",
            "WARNING:tensorflow:Model's `__init__()` arguments contain non-serializable objects. Please implement a `get_config()` method in the subclassed Model for proper saving and loading. Defaulting to empty config.\n",
            "WARNING:tensorflow:Model's `__init__()` arguments contain non-serializable objects. Please implement a `get_config()` method in the subclassed Model for proper saving and loading. Defaulting to empty config.\n"
          ]
        }
      ]
    },
    {
      "cell_type": "code",
      "source": [
        "states = None\n",
        "next_char = tf.constant(['ROMEO:'])\n",
        "result = [next_char]\n",
        "\n",
        "for n in range(100):\n",
        "  next_char, states = one_step_reloaded.generate_one_step(next_char, states=states)\n",
        "  result.append(next_char)\n",
        "\n",
        "print(tf.strings.join(result)[0].numpy().decode(\"utf-8\"))"
      ],
      "metadata": {
        "id": "6VEG9HT-3_Hh",
        "outputId": "72c06256-0578-453b-94c2-0dd96444c87e",
        "colab": {
          "base_uri": "https://localhost:8080/"
        }
      },
      "execution_count": 68,
      "outputs": [
        {
          "output_type": "stream",
          "name": "stdout",
          "text": [
            "ROMEO:\n",
            "She imerts to kingly pilkension\n",
            "The royal business that you have stood him; so\n",
            "more taming?\n",
            "\n",
            "TYOREN\n"
          ]
        }
      ]
    }
  ]
}