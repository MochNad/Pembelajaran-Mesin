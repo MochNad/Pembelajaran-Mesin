{
  "nbformat": 4,
  "nbformat_minor": 0,
  "metadata": {
    "colab": {
      "provenance": [],
      "authorship_tag": "ABX9TyP3oWpVff04Oz33CvCghBNU",
      "include_colab_link": true
    },
    "kernelspec": {
      "name": "python3",
      "display_name": "Python 3"
    },
    "language_info": {
      "name": "python"
    }
  },
  "cells": [
    {
      "cell_type": "markdown",
      "metadata": {
        "id": "view-in-github",
        "colab_type": "text"
      },
      "source": [
        "<a href=\"https://colab.research.google.com/github/MochNad/Pembelajaran-Mesin/blob/main/Job_Sheet_9_(Tugas).ipynb\" target=\"_parent\"><img src=\"https://colab.research.google.com/assets/colab-badge.svg\" alt=\"Open In Colab\"/></a>"
      ]
    },
    {
      "cell_type": "markdown",
      "source": [
        "> **Pembelajaran Mesin - Job Sheet 9: Perceptron dan ANN**\n",
        "*   Nama : Moch. Nadi Rafli Maulana\n",
        "*   NIM : 2141720188\n",
        "*   No. Absen : 18\n",
        "*   Kelas : TI-3B\n",
        "*   Jurusan / Prodi : Teknologi Informasi / D4 - Teknik Informatika"
      ],
      "metadata": {
        "id": "OxS70x-48vxx"
      }
    },
    {
      "cell_type": "markdown",
      "source": [
        "> # **🍑 Tugas**"
      ],
      "metadata": {
        "id": "FiOiYm7SkzkF"
      }
    },
    {
      "cell_type": "markdown",
      "source": [
        "* *Lakukan klasifikasi pada data MNIST dengan menggunakan model ANN*\n",
        "* *Anda diperbolehkan melakukan eksplorasi terhadap,*\n",
        "  * *Metode pra pengolahan*\n",
        "  * *Pemilihan fitur*\n",
        "  * *Arsitektur ANN*\n",
        "  * *Fungsi Aktiviasi*\n",
        "* *ANN diimplementasikan dengan menggunakan tensorflow.*\n",
        "* *DIKERJAKAN SECARA BERKELOMPOK*\n",
        "* *JELASKAN HASIL YANG ANDA DAPATKAN,*\n",
        "  * *AKURASI*\n",
        "  * *CONFUSION MATRIX*\n",
        "  * *KONFIGURASI MODEL --> MULAI DARI PRA PENGOLAHAN SAMPAI ARSITEKTUR ANN*"
      ],
      "metadata": {
        "id": "D-QHVztLk8pG"
      }
    },
    {
      "cell_type": "markdown",
      "source": [
        "**Langkah 1 - Import Library**"
      ],
      "metadata": {
        "id": "zIz7unERlZnv"
      }
    },
    {
      "cell_type": "code",
      "execution_count": 1,
      "metadata": {
        "id": "NpWT2ptTkZOa"
      },
      "outputs": [],
      "source": [
        "import tensorflow as tf\n",
        "from tensorflow import keras\n",
        "from tensorflow.keras import layers"
      ]
    },
    {
      "cell_type": "markdown",
      "source": [
        "**Langkah 2 - Pra-pengolahan data MNIST**"
      ],
      "metadata": {
        "id": "i1K01abBly3Z"
      }
    },
    {
      "cell_type": "code",
      "source": [
        "# Pra-pengolahan data\n",
        "(x_train, y_train), (x_test, y_test) = keras.datasets.mnist.load_data() # load data MNIST dan split data\n",
        "\n",
        "# ubah bentuk fitur menjadi vektor dan dinormalisasi\n",
        "x_train = x_train.reshape(-1, 784).astype(\"float32\") / 255.0\n",
        "x_test = x_test.reshape(-1, 784).astype(\"float32\") / 255.0"
      ],
      "metadata": {
        "colab": {
          "base_uri": "https://localhost:8080/"
        },
        "id": "XBczIbd3l2hv",
        "outputId": "f4bd1565-25dc-40ee-f6c6-c4b4263707ec"
      },
      "execution_count": 2,
      "outputs": [
        {
          "output_type": "stream",
          "name": "stdout",
          "text": [
            "Downloading data from https://storage.googleapis.com/tensorflow/tf-keras-datasets/mnist.npz\n",
            "11490434/11490434 [==============================] - 0s 0us/step\n"
          ]
        }
      ]
    },
    {
      "cell_type": "markdown",
      "source": [
        "**Langkah 3 - Buat Arsitektur ANN**"
      ],
      "metadata": {
        "id": "p4TwB___l2Gw"
      }
    },
    {
      "cell_type": "code",
      "source": [
        "# Arsitektur ANN\n",
        "# Terdiri dari 3 lapisan Dense dengan funsi aktivasi ReLU\n",
        "ann = keras.Sequential(\n",
        "    [\n",
        "        layers.Dense(256, activation=\"relu\"),\n",
        "        layers.Dense(128, activation=\"relu\"),\n",
        "        layers.Dense(10),\n",
        "    ]\n",
        ")"
      ],
      "metadata": {
        "id": "uKXB_JeHl-GD"
      },
      "execution_count": 3,
      "outputs": []
    },
    {
      "cell_type": "markdown",
      "source": [
        "**Langkah 4 - Buat Fugsi Aktivasi**"
      ],
      "metadata": {
        "id": "6a2HRP2tmAYF"
      }
    },
    {
      "cell_type": "code",
      "source": [
        "# Fungsi aktivasi\n",
        "ann.compile(\n",
        "    optimizer=keras.optimizers.Adam(0.001),\n",
        "    loss=keras.losses.SparseCategoricalCrossentropy(from_logits=True),\n",
        "    metrics=[\"accuracy\"],\n",
        ")"
      ],
      "metadata": {
        "id": "mWlrsUL3mC7H"
      },
      "execution_count": 4,
      "outputs": []
    },
    {
      "cell_type": "markdown",
      "source": [
        "**Langkah 5 - Latih Model ANN dan Lakukan Evaluasi Model**"
      ],
      "metadata": {
        "id": "r25qcDHtmFXd"
      }
    },
    {
      "cell_type": "code",
      "source": [
        "# Pelatihan model\n",
        "# Model dilatih menggunakan data latih dengan batch size 32 dan epoch sebanyak 5 kali.\n",
        "ann.fit(x_train, y_train, batch_size=32, epochs=5, verbose=2)\n",
        "\n",
        "# Evaluasi model\n",
        "# Model dievaluasi menggunakan data uji dan menghitung akurasi.\n",
        "test_loss, test_acc = ann.evaluate(x_test, y_test, verbose=2)\n",
        "print(\"Test accuracy:\", test_acc)"
      ],
      "metadata": {
        "colab": {
          "base_uri": "https://localhost:8080/"
        },
        "id": "rFwyXcfsmHqr",
        "outputId": "4eb93a03-7bf1-407f-a343-c906060b7988"
      },
      "execution_count": 5,
      "outputs": [
        {
          "output_type": "stream",
          "name": "stdout",
          "text": [
            "Epoch 1/5\n",
            "1875/1875 - 14s - loss: 0.2039 - accuracy: 0.9392 - 14s/epoch - 7ms/step\n",
            "Epoch 2/5\n",
            "1875/1875 - 9s - loss: 0.0843 - accuracy: 0.9737 - 9s/epoch - 5ms/step\n",
            "Epoch 3/5\n",
            "1875/1875 - 11s - loss: 0.0578 - accuracy: 0.9813 - 11s/epoch - 6ms/step\n",
            "Epoch 4/5\n",
            "1875/1875 - 6s - loss: 0.0429 - accuracy: 0.9860 - 6s/epoch - 3ms/step\n",
            "Epoch 5/5\n",
            "1875/1875 - 8s - loss: 0.0364 - accuracy: 0.9881 - 8s/epoch - 4ms/step\n",
            "313/313 - 1s - loss: 0.0736 - accuracy: 0.9778 - 730ms/epoch - 2ms/step\n",
            "Test accuracy: 0.9778000116348267\n"
          ]
        }
      ]
    },
    {
      "cell_type": "markdown",
      "source": [
        "**Langkah 6 - Tampilkan Confusion Matrix**"
      ],
      "metadata": {
        "id": "NFGsOtwumK3X"
      }
    },
    {
      "cell_type": "code",
      "source": [
        "# Confusion matrix\n",
        "# Confusion matrix dihitung menggunakan data uji dan prediksi model.\n",
        "y_pred = ann.predict(x_test)\n",
        "confusion_matrix = tf.math.confusion_matrix(y_test, tf.argmax(y_pred, axis=1))\n",
        "print(\"Confusion matrix:\\n\", confusion_matrix)"
      ],
      "metadata": {
        "colab": {
          "base_uri": "https://localhost:8080/"
        },
        "id": "PuKQqCtKmKlA",
        "outputId": "47ed3998-898c-4c00-c723-739ab8b2258d"
      },
      "execution_count": 6,
      "outputs": [
        {
          "output_type": "stream",
          "name": "stdout",
          "text": [
            "313/313 [==============================] - 1s 2ms/step\n",
            "Confusion matrix:\n",
            " tf.Tensor(\n",
            "[[ 973    0    1    1    0    1    1    0    2    1]\n",
            " [   0 1118    2    2    0    2    2    0    9    0]\n",
            " [   3    0 1010    7    3    0    0    3    6    0]\n",
            " [   0    0    2  988    0    7    0    4    4    5]\n",
            " [   3    1    4    0  948    0    5    2    1   18]\n",
            " [   2    0    0    9    1  870    3    0    4    3]\n",
            " [   6    3    0    1    0    5  938    1    4    0]\n",
            " [   1    2   10    5    0    0    0  995    6    9]\n",
            " [   4    0    3    4    1    1    2    6  951    2]\n",
            " [   4    2    0    2    4    3    1    1    5  987]], shape=(10, 10), dtype=int32)\n"
          ]
        }
      ]
    }
  ]
}