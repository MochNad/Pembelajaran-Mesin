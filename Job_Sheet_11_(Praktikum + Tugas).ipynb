{
  "nbformat": 4,
  "nbformat_minor": 0,
  "metadata": {
    "colab": {
      "provenance": [],
      "gpuType": "T4",
      "mount_file_id": "1J4iXgDWfZfnM_c42rM10ZDRqwUXi0cVc",
      "authorship_tag": "ABX9TyN0ubg4kOKNa8mJFbfcP/Xm",
      "include_colab_link": true
    },
    "kernelspec": {
      "name": "python3",
      "display_name": "Python 3"
    },
    "language_info": {
      "name": "python"
    },
    "accelerator": "GPU"
  },
  "cells": [
    {
      "cell_type": "markdown",
      "metadata": {
        "id": "view-in-github",
        "colab_type": "text"
      },
      "source": [
        "<a href=\"https://colab.research.google.com/github/MochNad/Pembelajaran-Mesin/blob/main/Job_Sheet_11_(Praktikum%20%2B%20Tugas).ipynb\" target=\"_parent\"><img src=\"https://colab.research.google.com/assets/colab-badge.svg\" alt=\"Open In Colab\"/></a>"
      ]
    },
    {
      "cell_type": "markdown",
      "source": [
        "> **Pembelajaran Mesin - Job Sheet 11: Convolutional Neural Network (CNN)**\n",
        "*   Nama : Moch. Nadi Rafli Maulana\n",
        "*   NIM : 2141720188\n",
        "*   No. Absen : 18\n",
        "*   Kelas : TI-3B\n",
        "*   Jurusan / Prodi : Teknologi Informasi / D4 - Teknik Informatika"
      ],
      "metadata": {
        "id": "OxS70x-48vxx"
      }
    },
    {
      "cell_type": "markdown",
      "source": [
        "> # **🍑 Praktikum 1** *Klasifikasi 🐱 dan 🐶*"
      ],
      "metadata": {
        "id": "6hbOUjCjnjJx"
      }
    },
    {
      "cell_type": "markdown",
      "source": [
        "**Deskripsi**\n",
        "\n",
        "*Pada praktikum ini kita akan membuat model klasifikasi CNN sederhana pada kasus citra kucing dan anjing.*\n",
        "\n",
        "**Dataset**\n",
        "\n",
        "*Dataset merupakan data citra anjing dan kucing yang telah dibagi menjadi data training dan data testing. Dikarenakan data cukup besar, pastikan koneksi Anda sebelum mengunduh dataset.*\n",
        "\n",
        "[DOWNLOAD](https://drive.google.com/file/d/1vYrqBI1VmiXXJd5sgtKK2nuQvC8T1ryb/view?usp=drive_link)\n",
        "\n",
        "**🍌 Langkah 1 - Import Library**"
      ],
      "metadata": {
        "id": "-iQraJt4n6DT"
      }
    },
    {
      "cell_type": "code",
      "source": [
        "from google.colab import drive\n",
        "drive.mount('/content/drive')"
      ],
      "metadata": {
        "colab": {
          "base_uri": "https://localhost:8080/"
        },
        "id": "GZVWLDK2vARz",
        "outputId": "70871f57-e046-47c6-da59-41beb366285b"
      },
      "execution_count": 1,
      "outputs": [
        {
          "output_type": "stream",
          "name": "stdout",
          "text": [
            "Drive already mounted at /content/drive; to attempt to forcibly remount, call drive.mount(\"/content/drive\", force_remount=True).\n"
          ]
        }
      ]
    },
    {
      "cell_type": "code",
      "source": [
        "from zipfile import ZipFile\n",
        "with ZipFile('/content/drive/MyDrive/Pembelajaran Mesin/dataset.zip', 'r') as zipobj:\n",
        "  zipobj.extractall('/content/drive/MyDrive/Pembelajaran Mesin')"
      ],
      "metadata": {
        "id": "NMCx-V_rA1z-"
      },
      "execution_count": 2,
      "outputs": []
    },
    {
      "cell_type": "code",
      "execution_count": 3,
      "metadata": {
        "id": "SGdS7S_UmcvO"
      },
      "outputs": [],
      "source": [
        "import tensorflow as tf\n",
        "from keras.preprocessing.image import ImageDataGenerator"
      ]
    },
    {
      "cell_type": "markdown",
      "source": [
        "**🍌 Langkah 2 - Pra Pengolahan Data**\n",
        "\n",
        "*Pada tahap ini kita akan sedikit melakukan manipulasi pada citra yang digunakan. Manipulasi yang dilakukan diantaranya adalah normalisasi nilai piksel, koreksi kemiringan, pembesaran (zoom), dan flip.*\n",
        "\n",
        "**Langkah 2.1. Pra Pengolahan Data Training**"
      ],
      "metadata": {
        "id": "-gYfSNkfoveS"
      }
    },
    {
      "cell_type": "code",
      "source": [
        "train_datagen = ImageDataGenerator(rescale = 1./255,\n",
        "                                   shear_range = 0.2,\n",
        "                                   zoom_range = 0.2,\n",
        "                                   horizontal_flip = True)\n",
        "training_set = train_datagen.flow_from_directory('/content/drive/MyDrive/Pembelajaran Mesin/dataset/training_set',\n",
        "                                                 target_size = (64, 64),\n",
        "                                                 batch_size = 32,\n",
        "                                                 class_mode = 'binary')"
      ],
      "metadata": {
        "colab": {
          "base_uri": "https://localhost:8080/"
        },
        "id": "v0OhCyqfpFi4",
        "outputId": "6562eea5-fbad-4d0c-b7c2-eb9d4536e641"
      },
      "execution_count": 4,
      "outputs": [
        {
          "output_type": "stream",
          "name": "stdout",
          "text": [
            "Found 8000 images belonging to 2 classes.\n"
          ]
        }
      ]
    },
    {
      "cell_type": "markdown",
      "source": [
        "**Langkah 2.2. Pra Pengolahan Data Testing**"
      ],
      "metadata": {
        "id": "Tg_u3nvMpna_"
      }
    },
    {
      "cell_type": "code",
      "source": [
        "test_datagen = ImageDataGenerator(rescale = 1./255)\n",
        "test_set = test_datagen.flow_from_directory('/content/drive/MyDrive/Pembelajaran Mesin/dataset/test_set',\n",
        "                                            target_size = (64, 64),\n",
        "                                            batch_size = 32,\n",
        "                                            class_mode = 'binary')"
      ],
      "metadata": {
        "colab": {
          "base_uri": "https://localhost:8080/"
        },
        "id": "SJqWEc6LpqD9",
        "outputId": "db813d0e-a337-4e1d-e975-998bec9fc251"
      },
      "execution_count": 5,
      "outputs": [
        {
          "output_type": "stream",
          "name": "stdout",
          "text": [
            "Found 2000 images belonging to 2 classes.\n"
          ]
        }
      ]
    },
    {
      "cell_type": "markdown",
      "source": [
        "**🍌 Langkah 3 - Pembuatan Model CNN**\n",
        "\n",
        "**Langkah 3.1.  - Inisiasi Model CNN**"
      ],
      "metadata": {
        "id": "SoFQTi20psdl"
      }
    },
    {
      "cell_type": "code",
      "source": [
        "cnn = tf.keras.models.Sequential()"
      ],
      "metadata": {
        "id": "liYO6uoxqLu-"
      },
      "execution_count": 6,
      "outputs": []
    },
    {
      "cell_type": "markdown",
      "source": [
        "**Langkah 3.2. - Pembuatan Layer Konvolusi 1**"
      ],
      "metadata": {
        "id": "qKM--HYwqN0D"
      }
    },
    {
      "cell_type": "code",
      "source": [
        "cnn.add(tf.keras.layers.Conv2D(filters=32, kernel_size=3, activation='relu', input_shape=[64, 64, 3]))"
      ],
      "metadata": {
        "id": "RwKDC9WFqPy1"
      },
      "execution_count": 7,
      "outputs": []
    },
    {
      "cell_type": "markdown",
      "source": [
        "**Langkah 3.3 - Pembuatan Layer Pooling 1**"
      ],
      "metadata": {
        "id": "z1OsrwDZqS0_"
      }
    },
    {
      "cell_type": "code",
      "source": [
        "cnn.add(tf.keras.layers.MaxPool2D(pool_size=2, strides=2))"
      ],
      "metadata": {
        "id": "kSG4L1BpqUtr"
      },
      "execution_count": 8,
      "outputs": []
    },
    {
      "cell_type": "markdown",
      "source": [
        "**Langkah 3.4 - Pembuatan Layer Konvolusi 2 dan Pooling 2**"
      ],
      "metadata": {
        "id": "B3EmJmhwqWhS"
      }
    },
    {
      "cell_type": "code",
      "source": [
        "cnn.add(tf.keras.layers.Conv2D(filters=32, kernel_size=3, activation='relu'))\n",
        "cnn.add(tf.keras.layers.MaxPool2D(pool_size=2, strides=2))"
      ],
      "metadata": {
        "id": "c2n_87MyqYus"
      },
      "execution_count": 9,
      "outputs": []
    },
    {
      "cell_type": "markdown",
      "source": [
        "**Langkah 3.5 - Flattening**"
      ],
      "metadata": {
        "id": "0oquDe6LqarD"
      }
    },
    {
      "cell_type": "code",
      "source": [
        "cnn.add(tf.keras.layers.Flatten())"
      ],
      "metadata": {
        "id": "xEcXWm3CqcxM"
      },
      "execution_count": 10,
      "outputs": []
    },
    {
      "cell_type": "markdown",
      "source": [
        "**Langkah 3.6 - Fully Connected Layer 1 (Input)**"
      ],
      "metadata": {
        "id": "pZP8kYnvqejs"
      }
    },
    {
      "cell_type": "code",
      "source": [
        "cnn.add(tf.keras.layers.Dense(units=128, activation='relu'))"
      ],
      "metadata": {
        "id": "l3xWWkhbqiMN"
      },
      "execution_count": 11,
      "outputs": []
    },
    {
      "cell_type": "markdown",
      "source": [
        "**Langkah 3.7 - Fully Connected Layer 2 (Output)**"
      ],
      "metadata": {
        "id": "zCDQS_2-qk1G"
      }
    },
    {
      "cell_type": "code",
      "source": [
        "cnn.add(tf.keras.layers.Dense(units=1, activation='sigmoid'))"
      ],
      "metadata": {
        "id": "WiYRxyb9qm40"
      },
      "execution_count": 12,
      "outputs": []
    },
    {
      "cell_type": "markdown",
      "source": [
        "**Langkah 3.8 - Compile Model CNN**"
      ],
      "metadata": {
        "id": "OrKU--mFqozj"
      }
    },
    {
      "cell_type": "code",
      "source": [
        "cnn.compile(optimizer = 'adam', loss = 'binary_crossentropy', metrics = ['accuracy'])"
      ],
      "metadata": {
        "id": "mO5y4BKrqr40"
      },
      "execution_count": 13,
      "outputs": []
    },
    {
      "cell_type": "markdown",
      "source": [
        "*Penggunaan **loss function binary crossentropy** dikarenakan kita hanya melakukan klasifikasi pada dua kelas, yaitu kucing dan anjing.*"
      ],
      "metadata": {
        "id": "Y8oidcs3qvsy"
      }
    },
    {
      "cell_type": "markdown",
      "source": [
        "**🍌 Langkah 4 - Fit CNN**"
      ],
      "metadata": {
        "id": "03CcOGokq2Jw"
      }
    },
    {
      "cell_type": "code",
      "source": [
        "cnn.fit(x = training_set, validation_data = test_set, epochs = 25)"
      ],
      "metadata": {
        "colab": {
          "base_uri": "https://localhost:8080/"
        },
        "id": "wGbMv6ukq7U2",
        "outputId": "69f587de-d9e4-4cbe-d7a6-1fa5021fe519"
      },
      "execution_count": null,
      "outputs": [
        {
          "output_type": "stream",
          "name": "stdout",
          "text": [
            "Epoch 1/25\n",
            "250/250 [==============================] - 79s 311ms/step - loss: 0.6814 - accuracy: 0.5675 - val_loss: 0.6368 - val_accuracy: 0.6430\n",
            "Epoch 2/25\n",
            "250/250 [==============================] - 75s 301ms/step - loss: 0.6060 - accuracy: 0.6656 - val_loss: 0.5756 - val_accuracy: 0.6985\n",
            "Epoch 3/25\n",
            "250/250 [==============================] - 78s 313ms/step - loss: 0.5576 - accuracy: 0.7096 - val_loss: 0.5247 - val_accuracy: 0.7435\n",
            "Epoch 4/25\n",
            "250/250 [==============================] - 77s 307ms/step - loss: 0.5270 - accuracy: 0.7360 - val_loss: 0.5238 - val_accuracy: 0.7360\n",
            "Epoch 5/25\n",
            "250/250 [==============================] - 77s 309ms/step - loss: 0.5043 - accuracy: 0.7475 - val_loss: 0.5050 - val_accuracy: 0.7530\n",
            "Epoch 6/25\n",
            "250/250 [==============================] - 75s 302ms/step - loss: 0.4933 - accuracy: 0.7582 - val_loss: 0.4900 - val_accuracy: 0.7635\n",
            "Epoch 7/25\n",
            "250/250 [==============================] - 74s 297ms/step - loss: 0.4749 - accuracy: 0.7670 - val_loss: 0.4869 - val_accuracy: 0.7690\n",
            "Epoch 8/25\n",
            "250/250 [==============================] - 76s 302ms/step - loss: 0.4635 - accuracy: 0.7749 - val_loss: 0.4777 - val_accuracy: 0.7765\n",
            "Epoch 9/25\n",
            "250/250 [==============================] - 77s 307ms/step - loss: 0.4454 - accuracy: 0.7861 - val_loss: 0.4673 - val_accuracy: 0.7755\n",
            "Epoch 10/25\n",
            "250/250 [==============================] - 72s 290ms/step - loss: 0.4368 - accuracy: 0.7890 - val_loss: 0.4648 - val_accuracy: 0.7915\n",
            "Epoch 11/25\n",
            "250/250 [==============================] - 74s 297ms/step - loss: 0.4209 - accuracy: 0.8027 - val_loss: 0.4734 - val_accuracy: 0.7905\n",
            "Epoch 12/25\n",
            "250/250 [==============================] - 77s 310ms/step - loss: 0.4092 - accuracy: 0.8101 - val_loss: 0.4537 - val_accuracy: 0.8070\n",
            "Epoch 13/25\n",
            "250/250 [==============================] - 72s 290ms/step - loss: 0.3982 - accuracy: 0.8166 - val_loss: 0.4580 - val_accuracy: 0.7955\n",
            "Epoch 14/25\n",
            "250/250 [==============================] - 74s 298ms/step - loss: 0.3931 - accuracy: 0.8200 - val_loss: 0.4879 - val_accuracy: 0.7870\n",
            "Epoch 15/25\n",
            "250/250 [==============================] - 80s 320ms/step - loss: 0.3848 - accuracy: 0.8244 - val_loss: 0.4725 - val_accuracy: 0.7955\n",
            "Epoch 16/25\n",
            "250/250 [==============================] - 72s 289ms/step - loss: 0.3780 - accuracy: 0.8290 - val_loss: 0.4496 - val_accuracy: 0.8015\n",
            "Epoch 17/25\n",
            "250/250 [==============================] - 78s 312ms/step - loss: 0.3734 - accuracy: 0.8282 - val_loss: 0.4412 - val_accuracy: 0.8115\n",
            "Epoch 18/25\n",
            "250/250 [==============================] - 85s 342ms/step - loss: 0.3615 - accuracy: 0.8335 - val_loss: 0.5724 - val_accuracy: 0.7515\n",
            "Epoch 19/25\n",
            "250/250 [==============================] - 87s 349ms/step - loss: 0.3438 - accuracy: 0.8501 - val_loss: 0.4559 - val_accuracy: 0.7990\n",
            "Epoch 20/25\n",
            "250/250 [==============================] - 71s 284ms/step - loss: 0.3310 - accuracy: 0.8518 - val_loss: 0.4466 - val_accuracy: 0.8095\n",
            "Epoch 21/25\n",
            " 90/250 [=========>....................] - ETA: 43s - loss: 0.3411 - accuracy: 0.8434"
          ]
        }
      ]
    },
    {
      "cell_type": "markdown",
      "source": [
        "**🍌 Langkah 5 - Prediksi dengan 1 Citra**"
      ],
      "metadata": {
        "id": "S_WYAm_Aq9mU"
      }
    },
    {
      "cell_type": "markdown",
      "source": [
        "*Pada langkah ini, kita akan mencoba melakukan prediksi pada 1 citra anjing dan kucing.*"
      ],
      "metadata": {
        "id": "VQH1Tr0lrCKz"
      }
    },
    {
      "cell_type": "code",
      "source": [
        "import numpy as np\n",
        "from keras.preprocessing import image\n",
        "test_image = image.load_img('/content/drive/MyDrive/Pembelajaran Mesin/dataset/single_prediction/cat_or_dog_1.jpg', target_size = (64, 64))\n",
        "test_image = image.img_to_array(test_image)\n",
        "test_image = np.expand_dims(test_image, axis = 0)\n",
        "result = cnn.predict(test_image)\n",
        "training_set.class_indices\n",
        "if result[0][0] == 1:\n",
        "  prediction = 'dog'\n",
        "else:\n",
        "  prediction = 'cat'"
      ],
      "metadata": {
        "id": "PpFvx5BhrEFs"
      },
      "execution_count": null,
      "outputs": []
    },
    {
      "cell_type": "markdown",
      "source": [
        "> # **🍑 Praktikum 2** *Klasifikasi Multi-label dengan Data CIFAT*"
      ],
      "metadata": {
        "id": "wbJaXwDyrGXr"
      }
    },
    {
      "cell_type": "markdown",
      "source": [
        "*Desclaimer: Praktikum ini merupakan tutorial CNN dari Tensorflow yang dapat diakses pada laman https://www.tensorflow.org/tutorials/images/cnn*\n",
        "\n",
        "**Deskripsi**\n",
        "\n",
        "*Pada praktikum ini kita akan membuat model CNN untuk mengklasifikasikan 10 objek dari dataset CIFAR. Dataset terdiri dari 60.000 citra dan setiap label terdiri dari 6.000 citra. Dataset telah dibagi menjadi 50.000 data training dan 10.000 data testing.*\n",
        "\n",
        "**🍌 Langkah 1 - Load Library**"
      ],
      "metadata": {
        "id": "8PNKeWeQrRBN"
      }
    },
    {
      "cell_type": "code",
      "source": [
        "import tensorflow as tf\n",
        "\n",
        "from tensorflow.keras import datasets, layers, models\n",
        "import matplotlib.pyplot as plt"
      ],
      "metadata": {
        "id": "KQSj-JF5rq_b"
      },
      "execution_count": null,
      "outputs": []
    },
    {
      "cell_type": "markdown",
      "source": [
        "**🍌 Langkah 2 - Unduh Dataset CIFAR**"
      ],
      "metadata": {
        "id": "KcHFThBirZut"
      }
    },
    {
      "cell_type": "code",
      "source": [
        "(train_images, train_labels), (test_images, test_labels) = datasets.cifar10.load_data()\n",
        "\n",
        "# Normalize pixel values to be between 0 and 1\n",
        "train_images, test_images = train_images / 255.0, test_images / 255.0"
      ],
      "metadata": {
        "id": "LPhBQ4hVrwL3"
      },
      "execution_count": null,
      "outputs": []
    },
    {
      "cell_type": "markdown",
      "source": [
        "**🍌 Langkah 3 - Verifikasi Data**"
      ],
      "metadata": {
        "id": "59PyKyEnrx3T"
      }
    },
    {
      "cell_type": "code",
      "source": [
        "class_names = ['airplane', 'automobile', 'bird', 'cat', 'deer',\n",
        "               'dog', 'frog', 'horse', 'ship', 'truck']\n",
        "\n",
        "plt.figure(figsize=(10,10))\n",
        "for i in range(25):\n",
        "    plt.subplot(5,5,i+1)\n",
        "    plt.xticks([])\n",
        "    plt.yticks([])\n",
        "    plt.grid(False)\n",
        "    plt.imshow(train_images[i])\n",
        "    # The CIFAR labels happen to be arrays,\n",
        "    # which is why you need the extra index\n",
        "    plt.xlabel(class_names[train_labels[i][0]])\n",
        "plt.show()"
      ],
      "metadata": {
        "id": "OC60AqFxr7tM"
      },
      "execution_count": null,
      "outputs": []
    },
    {
      "cell_type": "markdown",
      "source": [
        "**🍌 Langkah 4 - Buat Model CNN**\n",
        "\n",
        "**Langkah 4.1. - Buat Layer Konvolusi**"
      ],
      "metadata": {
        "id": "9Rh4sw3xsHOv"
      }
    },
    {
      "cell_type": "code",
      "source": [
        "model = models.Sequential()\n",
        "model.add(layers.Conv2D(32, (3, 3), activation='relu', input_shape=(32, 32, 3)))\n",
        "model.add(layers.MaxPooling2D((2, 2)))\n",
        "model.add(layers.Conv2D(64, (3, 3), activation='relu'))\n",
        "model.add(layers.MaxPooling2D((2, 2)))\n",
        "model.add(layers.Conv2D(64, (3, 3), activation='relu'))"
      ],
      "metadata": {
        "id": "kOS3VFt6sQdW"
      },
      "execution_count": null,
      "outputs": []
    },
    {
      "cell_type": "markdown",
      "source": [
        "**Langkah 4.2. - Cek Arsitektur Konvolusi**"
      ],
      "metadata": {
        "id": "h_jUn1EosTX-"
      }
    },
    {
      "cell_type": "code",
      "source": [
        "model.summary()"
      ],
      "metadata": {
        "id": "Li6JWaDIsSQA"
      },
      "execution_count": null,
      "outputs": []
    },
    {
      "cell_type": "markdown",
      "source": [
        "**Langkah 4.3. - Tambahkan Layer Fully Connected**"
      ],
      "metadata": {
        "id": "VpzeZrngsbaM"
      }
    },
    {
      "cell_type": "code",
      "source": [
        "model.add(layers.Flatten())\n",
        "model.add(layers.Dense(64, activation='relu'))\n",
        "model.add(layers.Dense(10))"
      ],
      "metadata": {
        "id": "-j8ntQLzsdnD"
      },
      "execution_count": null,
      "outputs": []
    },
    {
      "cell_type": "markdown",
      "source": [
        "**Langkah 4.4. - Cek Arsitektur Model CNN**"
      ],
      "metadata": {
        "id": "BWVqUUg2sfPh"
      }
    },
    {
      "cell_type": "code",
      "source": [
        "model.compile(optimizer='adam',\n",
        "              loss=tf.keras.losses.SparseCategoricalCrossentropy(from_logits=True),\n",
        "              metrics=['accuracy'])"
      ],
      "metadata": {
        "id": "tj7qvpgNsh7L"
      },
      "execution_count": null,
      "outputs": []
    },
    {
      "cell_type": "markdown",
      "source": [
        "**🍌 Langkah 5 - Fit Model**"
      ],
      "metadata": {
        "id": "mYt4TIausn0F"
      }
    },
    {
      "cell_type": "code",
      "source": [
        "history = model.fit(train_images, train_labels, epochs=10,\n",
        "                    validation_data=(test_images, test_labels))"
      ],
      "metadata": {
        "id": "kxXhB88jsryG"
      },
      "execution_count": null,
      "outputs": []
    },
    {
      "cell_type": "markdown",
      "source": [
        "**🍌 Langkah 6 - Evaluasi Model**"
      ],
      "metadata": {
        "id": "DHKnaE_AswYb"
      }
    },
    {
      "cell_type": "code",
      "source": [
        "plt.plot(history.history['accuracy'], label='accuracy')\n",
        "plt.plot(history.history['val_accuracy'], label = 'val_accuracy')\n",
        "plt.xlabel('Epoch')\n",
        "plt.ylabel('Accuracy')\n",
        "plt.ylim([0.5, 1])\n",
        "plt.legend(loc='lower right')\n",
        "\n",
        "test_loss, test_acc = model.evaluate(test_images, test_labels, verbose=2)"
      ],
      "metadata": {
        "id": "9EtY9M46s0gX"
      },
      "execution_count": null,
      "outputs": []
    },
    {
      "cell_type": "markdown",
      "source": [
        "**🍌 Langkah 7 - Cetak Hasil Akurasi**"
      ],
      "metadata": {
        "id": "CRJ7qevws59Y"
      }
    },
    {
      "cell_type": "code",
      "source": [
        "print(test_acc)"
      ],
      "metadata": {
        "id": "IoqQuDkts_v_"
      },
      "execution_count": null,
      "outputs": []
    },
    {
      "cell_type": "markdown",
      "source": [
        "*Berapa akurasi yang Anda dapatkan?*"
      ],
      "metadata": {
        "id": "IU8wnRNBtBy0"
      }
    },
    {
      "cell_type": "markdown",
      "source": [
        "> # **🍑 Tugas**"
      ],
      "metadata": {
        "id": "48F14gJHMrNs"
      }
    },
    {
      "cell_type": "markdown",
      "source": [
        "* *Modifikasi model CNN pada praktikum 2 sehingga didapatkan akurasi testing lebih dari 80%.*\n",
        "* *Buatlah model CNN untuk klasifikasi dataset MNIST.*"
      ],
      "metadata": {
        "id": "Sl1A_xl7M0Ic"
      }
    },
    {
      "cell_type": "markdown",
      "source": [
        "**Langkah 1: Memuat Data dan Praproses**"
      ],
      "metadata": {
        "id": "VesnASQWNdpR"
      }
    },
    {
      "cell_type": "code",
      "source": [
        "import tensorflow as tf\n",
        "from tensorflow.keras import datasets, layers, models\n",
        "from tensorflow.keras.layers import Dropout\n",
        "from tensorflow.keras.preprocessing.image import ImageDataGenerator\n",
        "\n",
        "# Memuat data CIFAR-10\n",
        "(train_images, train_labels), (test_images, test_labels) = datasets.cifar10.load_data()\n",
        "\n",
        "# Normalisasi piksel ke rentang 0 hingga 1\n",
        "train_images, test_images = train_images / 255.0, test_images / 255.0"
      ],
      "metadata": {
        "id": "lOC3H5qDNgWU"
      },
      "execution_count": null,
      "outputs": []
    },
    {
      "cell_type": "markdown",
      "source": [
        "**Langkah 2: Membangun Model CNN**"
      ],
      "metadata": {
        "id": "48d4T47zNjP0"
      }
    },
    {
      "cell_type": "code",
      "source": [
        "model = models.Sequential()\n",
        "model.add(layers.Conv2D(32, (3, 3), activation='relu', input_shape=(32, 32, 3)))\n",
        "model.add(layers.MaxPooling2D((2, 2)))\n",
        "model.add(layers.Conv2D(64, (3, 3), activation='relu'))\n",
        "model.add(layers.MaxPooling2D((2, 2)))\n",
        "model.add(layers.Conv2D(64, (3, 3), activation='relu'))\n",
        "model.add(Dropout(0.5))  # Menambahkan lapisan dropout\n",
        "\n",
        "model.add(layers.Flatten())\n",
        "model.add(layers.Dense(128, activation='relu'))\n",
        "model.add(Dropout(0.5))  # Menambahkan lapisan dropout\n",
        "model.add(layers.Dense(10))"
      ],
      "metadata": {
        "id": "xtJkJmIeNmJK"
      },
      "execution_count": null,
      "outputs": []
    },
    {
      "cell_type": "markdown",
      "source": [
        "**Langkah 3: Kompilasi Model**"
      ],
      "metadata": {
        "id": "a_--4nUINtR1"
      }
    },
    {
      "cell_type": "code",
      "source": [
        "model.compile(optimizer='adam',\n",
        "              loss=tf.keras.losses.SparseCategoricalCrossentropy(from_logits=True),\n",
        "              metrics=['accuracy'])"
      ],
      "metadata": {
        "id": "I_U0Xh3rNvSk"
      },
      "execution_count": null,
      "outputs": []
    },
    {
      "cell_type": "markdown",
      "source": [
        "**Langkah 4: Augmentasi Data**"
      ],
      "metadata": {
        "id": "HPdHV4zgNx58"
      }
    },
    {
      "cell_type": "code",
      "source": [
        "datagen = ImageDataGenerator(\n",
        "    rotation_range=15,\n",
        "    width_shift_range=0.1,\n",
        "    height_shift_range=0.1,\n",
        "    horizontal_flip=True,\n",
        ")\n",
        "datagen.fit(train_images)"
      ],
      "metadata": {
        "id": "lCh0vVIJN0Iz"
      },
      "execution_count": null,
      "outputs": []
    },
    {
      "cell_type": "markdown",
      "source": [
        "**Langkah 5: Pelatihan Model**"
      ],
      "metadata": {
        "id": "yRTUMxvwN2_M"
      }
    },
    {
      "cell_type": "code",
      "source": [
        "history = model.fit(datagen.flow(train_images, train_labels, batch_size=32),\n",
        "                    epochs=50, validation_data=(test_images, test_labels))"
      ],
      "metadata": {
        "id": "SXjvuGI3N5Ud"
      },
      "execution_count": null,
      "outputs": []
    },
    {
      "cell_type": "markdown",
      "source": [
        "**Langkah 6: Visualisasi Hasil Pelatihan**"
      ],
      "metadata": {
        "id": "Tdkq8ohoN7d5"
      }
    },
    {
      "cell_type": "code",
      "source": [
        "import matplotlib.pyplot as plt\n",
        "\n",
        "plt.plot(history.history['accuracy'], label='accuracy')\n",
        "plt.plot(history.history['val_accuracy'], label='val_accuracy')\n",
        "plt.xlabel('Epoch')\n",
        "plt.ylabel('Accuracy')\n",
        "plt.ylim([0.5, 1])\n",
        "plt.legend(loc='lower right')"
      ],
      "metadata": {
        "id": "4rEwSLs-N-LK"
      },
      "execution_count": null,
      "outputs": []
    },
    {
      "cell_type": "markdown",
      "source": [
        "**Langkah 7: Pengujian Model**"
      ],
      "metadata": {
        "id": "zjI0ZJLVOAu6"
      }
    },
    {
      "cell_type": "code",
      "source": [
        "# Pengujian Model\n",
        "test_loss, test_acc = model.evaluate(test_images, test_labels, verbose=2)\n",
        "\n",
        "print(\"Test accuracy:\", test_acc)"
      ],
      "metadata": {
        "id": "sqcHxc9ZODMA"
      },
      "execution_count": null,
      "outputs": []
    }
  ]
}