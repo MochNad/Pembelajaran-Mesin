{
  "nbformat": 4,
  "nbformat_minor": 0,
  "metadata": {
    "colab": {
      "provenance": [],
      "gpuType": "T4",
      "authorship_tag": "ABX9TyOAoj/uUDhyGVAQdUmY1yrl",
      "include_colab_link": true
    },
    "kernelspec": {
      "name": "python3",
      "display_name": "Python 3"
    },
    "language_info": {
      "name": "python"
    },
    "accelerator": "GPU"
  },
  "cells": [
    {
      "cell_type": "markdown",
      "metadata": {
        "id": "view-in-github",
        "colab_type": "text"
      },
      "source": [
        "<a href=\"https://colab.research.google.com/github/MochNad/Pembelajaran-Mesin/blob/main/Job_Sheet_10_(Praktikum%20%2B%20Tugas).ipynb\" target=\"_parent\"><img src=\"https://colab.research.google.com/assets/colab-badge.svg\" alt=\"Open In Colab\"/></a>"
      ]
    },
    {
      "cell_type": "markdown",
      "source": [
        "> **Pembelajaran Mesin - Job Sheet 10 : Recurrent Neural Network (RNN)**\n",
        "*   Nama : Moch. Nadi Rafli Maulana\n",
        "*   NIM : 2141720188\n",
        "*   No. Absen : 18\n",
        "*   Kelas : TI-3B\n",
        "*   Jurusan / Prodi : Teknologi Informasi / D4 - Teknik Informatika"
      ],
      "metadata": {
        "id": "OxS70x-48vxx"
      }
    },
    {
      "cell_type": "markdown",
      "source": [
        "> # **🍑 Praktikum 1** *RNN untuk Analisis Sentimen*"
      ],
      "metadata": {
        "id": "P2WUlLDepD28"
      }
    },
    {
      "cell_type": "markdown",
      "source": [
        "**Setup**"
      ],
      "metadata": {
        "id": "jRUSXoj3pOR_"
      }
    },
    {
      "cell_type": "markdown",
      "source": [
        "*Impor matplotlib dan buat fungsi pembantu untuk memplot grafik:*"
      ],
      "metadata": {
        "id": "A76h3ayfpPx7"
      }
    },
    {
      "cell_type": "code",
      "execution_count": 1,
      "metadata": {
        "id": "praIp6UfoyB4"
      },
      "outputs": [],
      "source": [
        "import numpy as np\n",
        "import tensorflow_datasets as tfds\n",
        "import tensorflow as tf\n",
        "\n",
        "tfds.disable_progress_bar()"
      ]
    },
    {
      "cell_type": "code",
      "source": [
        "import matplotlib.pyplot as plt\n",
        "\n",
        "def plot_graphs(history, metric):\n",
        "    plt.plot(history.history[metric])\n",
        "    plt.plot(history.history['val_'+metric], '')\n",
        "    plt.xlabel(\"Epochs\")\n",
        "    plt.ylabel(metric)\n",
        "    plt.legend([metric, 'val_'+metric])"
      ],
      "metadata": {
        "id": "iyB7XZiVpXJZ"
      },
      "execution_count": 2,
      "outputs": []
    },
    {
      "cell_type": "markdown",
      "source": [
        "**Setup input pipeline**"
      ],
      "metadata": {
        "id": "ybuJYjBHpuH3"
      }
    },
    {
      "cell_type": "markdown",
      "source": [
        "*Dataset ulasan film IMDB adalah kumpulan data klasifikasi biner—semua ulasan memiliki sentimen positif atau negatif.*\n",
        "\n",
        "*Download dataset menggunakan TFDS. Lihat loading text tutorial jika ingin me load data secara manual*"
      ],
      "metadata": {
        "id": "dDEINwV_pvc8"
      }
    },
    {
      "cell_type": "code",
      "source": [
        "dataset, info = tfds.load('imdb_reviews', with_info=True,\n",
        "                          as_supervised=True)\n",
        "train_dataset, test_dataset = dataset['train'], dataset['test']\n",
        "\n",
        "train_dataset.element_spec"
      ],
      "metadata": {
        "colab": {
          "base_uri": "https://localhost:8080/"
        },
        "id": "xygt_oqnpz_e",
        "outputId": "79b6bcff-34ee-4fd6-b11b-7de9efe666e4"
      },
      "execution_count": 3,
      "outputs": [
        {
          "output_type": "stream",
          "name": "stdout",
          "text": [
            "Downloading and preparing dataset 80.23 MiB (download: 80.23 MiB, generated: Unknown size, total: 80.23 MiB) to /root/tensorflow_datasets/imdb_reviews/plain_text/1.0.0...\n",
            "Dataset imdb_reviews downloaded and prepared to /root/tensorflow_datasets/imdb_reviews/plain_text/1.0.0. Subsequent calls will reuse this data.\n"
          ]
        },
        {
          "output_type": "execute_result",
          "data": {
            "text/plain": [
              "(TensorSpec(shape=(), dtype=tf.string, name=None),\n",
              " TensorSpec(shape=(), dtype=tf.int64, name=None))"
            ]
          },
          "metadata": {},
          "execution_count": 3
        }
      ]
    },
    {
      "cell_type": "markdown",
      "source": [
        "*Awalnya ini mengembalikan dataset (teks, pasangan label):*"
      ],
      "metadata": {
        "id": "4gNLMlE9p5F5"
      }
    },
    {
      "cell_type": "code",
      "source": [
        "for example, label in train_dataset.take(1):\n",
        "  print('text: ', example.numpy())\n",
        "  print('label: ', label.numpy())"
      ],
      "metadata": {
        "colab": {
          "base_uri": "https://localhost:8080/"
        },
        "id": "pszNlNN3p7SK",
        "outputId": "c322ce5b-2f20-47c5-ab36-44493e1fc562"
      },
      "execution_count": 4,
      "outputs": [
        {
          "output_type": "stream",
          "name": "stdout",
          "text": [
            "text:  b\"This was an absolutely terrible movie. Don't be lured in by Christopher Walken or Michael Ironside. Both are great actors, but this must simply be their worst role in history. Even their great acting could not redeem this movie's ridiculous storyline. This movie is an early nineties US propaganda piece. The most pathetic scenes were those when the Columbian rebels were making their cases for revolutions. Maria Conchita Alonso appeared phony, and her pseudo-love affair with Walken was nothing but a pathetic emotional plug in a movie that was devoid of any real meaning. I am disappointed that there are movies like this, ruining actor's like Christopher Walken's good name. I could barely sit through it.\"\n",
            "label:  0\n"
          ]
        }
      ]
    },
    {
      "cell_type": "markdown",
      "source": [
        "*Berikutnya acak data untuk pelatihan dan membuat kumpulan pasangan (teks, label) ini:*"
      ],
      "metadata": {
        "id": "VsMt_2CdqEj_"
      }
    },
    {
      "cell_type": "code",
      "source": [
        "BUFFER_SIZE = 10000\n",
        "BATCH_SIZE = 64\n",
        "\n",
        "train_dataset = train_dataset.shuffle(BUFFER_SIZE).batch(BATCH_SIZE).prefetch(tf.data.AUTOTUNE)\n",
        "test_dataset = test_dataset.batch(BATCH_SIZE).prefetch(tf.data.AUTOTUNE)\n",
        "\n",
        "for example, label in train_dataset.take(1):\n",
        "  print('texts: ', example.numpy()[:3])\n",
        "  print()\n",
        "  print('labels: ', label.numpy()[:3])"
      ],
      "metadata": {
        "colab": {
          "base_uri": "https://localhost:8080/"
        },
        "id": "HpGQuVM2qH_l",
        "outputId": "8a1c1b3c-4075-41d4-c18c-deee296e85f5"
      },
      "execution_count": 5,
      "outputs": [
        {
          "output_type": "stream",
          "name": "stdout",
          "text": [
            "texts:  [b'This is the greatest film I saw in 2002, whereas I\\'m used to mainstream movies. It is rich and makes a beautiful artistic act from these 11 short films. From the technical info (the chosen directors), I feared it would have an anti-American basis, but ... it\\'s a kind of (11 times) personal tribute.<br /><br />The weakest point comes from Y. Chahine : he does not manage to \"swallow his pride\" and considers this event as a well-merited punishment ... It is really the weakest part of the movie, but this testifies of a real freedom of speech for the whole piece. The weirdest comes from the Mexican nearly conceptual-art film ... I am still not sure what A. Gonzalez Inarritu meant. The 9 others are perfect (K. Loach, S. Penn, S. Makhmalbaf, ...) or nearly perfect (C. Lelouch) and made me either smile, or cry or even left me stunned. I still don\\'t know if S. Imamura\\'s fable is really related or not to the September 11th catastrophe, but it is so pretty that its finale place deeply \\'makes it\\'.'\n",
            " b\"I actually didn't enjoy this movie.<br /><br />I saw it at a camp, and we didn't rave about it, we laughed at it. Sure, some parts are touching, but the acting is terrible, the effects are terrible, and the whole overall movie idea is terrible (now, I know it was based on a book which I haven't read, but I hope that the book was better than this, because frankly, I thought that this movie was very bad and boring). Like I said, I went to it with a bunch of people from a camp, and we were excited to be there, plus I got a caffeinated drink, but nonetheless, I struggled to stay awake. The only thing that kept me up (other than my fear of being embarrassed once I woke up) was the gunshots, that were quite pointless as well. I just really didn't like it.\"\n",
            " b\"This was a pretty decent movie. This movie is good to just sit down and watch and be entertained. Just a typical Hollywood film. This movie will never win an Oscar or anything and definitely doesn't deserve one, but I thought it was pretty good. It's kind of like the show 24 but set into movie format. If you like the whole we've got to stop the terrorist from killing the president kind of movie then you will enjoy this flick. I personally think that storyline has been done WAY too much, but The Sentinel does add a little twist with the mole in the Secret Service. All in all, this movie won't leave your jaw to the floor or change your life, but who says every single movie has to be like that to be good?\"]\n",
            "\n",
            "labels:  [1 0 1]\n"
          ]
        }
      ]
    },
    {
      "cell_type": "markdown",
      "source": [
        "**Buat Teks Encoder**"
      ],
      "metadata": {
        "id": "xMasXt3SqOOW"
      }
    },
    {
      "cell_type": "markdown",
      "source": [
        "*Teks mentah yang dimuat oleh tfds perlu diproses sebelum dapat digunakan dalam model. Cara termudah memproses teks untuk pelatihan adalah menggunakan lapisan TextVectorization. Lapisan ini memiliki banyak kemampuan, namun pada tutorial ini menggunakan perilaku default. Buat lapisan tersebut, dan teruskan teks kumpulan data ke metode .adapt lapisan:*"
      ],
      "metadata": {
        "id": "YFuhhDe9qQWw"
      }
    },
    {
      "cell_type": "code",
      "source": [
        "VOCAB_SIZE = 1000\n",
        "encoder = tf.keras.layers.TextVectorization(\n",
        "    max_tokens=VOCAB_SIZE)\n",
        "encoder.adapt(train_dataset.map(lambda text, label: text))"
      ],
      "metadata": {
        "id": "WV-zHIUmqSRL"
      },
      "execution_count": 6,
      "outputs": []
    },
    {
      "cell_type": "markdown",
      "source": [
        "*Metode .adapt mengatur kosakata lapisan. 20 token pertama dapat dilihat dengan kode berikut. Setelah padding dan token yang tidak diketahui, mereka diurutkan berdasarkan frekuensi:*"
      ],
      "metadata": {
        "id": "QawmcyJkqUhA"
      }
    },
    {
      "cell_type": "code",
      "source": [
        "vocab = np.array(encoder.get_vocabulary())\n",
        "vocab[:20]"
      ],
      "metadata": {
        "colab": {
          "base_uri": "https://localhost:8080/"
        },
        "id": "TNQc5LuzqWOZ",
        "outputId": "6b391398-6ac6-4d8a-b44f-ca603897f334"
      },
      "execution_count": 7,
      "outputs": [
        {
          "output_type": "execute_result",
          "data": {
            "text/plain": [
              "array(['', '[UNK]', 'the', 'and', 'a', 'of', 'to', 'is', 'in', 'it', 'i',\n",
              "       'this', 'that', 'br', 'was', 'as', 'for', 'with', 'movie', 'but'],\n",
              "      dtype='<U14')"
            ]
          },
          "metadata": {},
          "execution_count": 7
        }
      ]
    },
    {
      "cell_type": "markdown",
      "source": [
        "*Setelah kosakata diatur, lapisan dapat mengkodekan teks ke dalam indeks. Tensor indeks diberi bantalan 0 ke urutan terpanjang dalam batch (kecuali jika Anda menetapkan output_sequence_length tetap):*"
      ],
      "metadata": {
        "id": "kSq1bgsCqd3d"
      }
    },
    {
      "cell_type": "code",
      "source": [
        "encoded_example = encoder(example)[:3].numpy()\n",
        "encoded_example"
      ],
      "metadata": {
        "colab": {
          "base_uri": "https://localhost:8080/"
        },
        "id": "MiWUOuNrqhTW",
        "outputId": "2e771e6e-02ac-4cde-955e-79a491eb6bc5"
      },
      "execution_count": 8,
      "outputs": [
        {
          "output_type": "execute_result",
          "data": {
            "text/plain": [
              "array([[ 11,   7,   2, ...,   0,   0,   0],\n",
              "       [ 10, 157, 153, ...,   0,   0,   0],\n",
              "       [ 11,  14,   4, ...,   0,   0,   0]])"
            ]
          },
          "metadata": {},
          "execution_count": 8
        }
      ]
    },
    {
      "cell_type": "markdown",
      "source": [
        "*Dengan pengaturan default, prosesnya tidak dapat dibalik sepenuhnya. Ada dua alasan utama untuk itu:*\n",
        "\n",
        "*-Nilai default untuk argumen standarisasi preprocessing.TextVectorization adalah \"lower_and_strip_punctuation\".*\n",
        "\n",
        "*-Ukuran kosa kata yang terbatas dan kurangnya fallback berbasis karakter menghasilkan beberapa token yang tidak diketahui.*"
      ],
      "metadata": {
        "id": "x8Yxbl6Rql0k"
      }
    },
    {
      "cell_type": "code",
      "source": [
        "for n in range(3):\n",
        "  print(\"Original: \", example[n].numpy())\n",
        "  print(\"Round-trip: \", \" \".join(vocab[encoded_example[n]]))\n",
        "  print()"
      ],
      "metadata": {
        "colab": {
          "base_uri": "https://localhost:8080/"
        },
        "id": "wbOILDCnqtMb",
        "outputId": "c658cd90-ac57-40a8-a9fa-e2db2b01c9b1"
      },
      "execution_count": 9,
      "outputs": [
        {
          "output_type": "stream",
          "name": "stdout",
          "text": [
            "Original:  b'This is the greatest film I saw in 2002, whereas I\\'m used to mainstream movies. It is rich and makes a beautiful artistic act from these 11 short films. From the technical info (the chosen directors), I feared it would have an anti-American basis, but ... it\\'s a kind of (11 times) personal tribute.<br /><br />The weakest point comes from Y. Chahine : he does not manage to \"swallow his pride\" and considers this event as a well-merited punishment ... It is really the weakest part of the movie, but this testifies of a real freedom of speech for the whole piece. The weirdest comes from the Mexican nearly conceptual-art film ... I am still not sure what A. Gonzalez Inarritu meant. The 9 others are perfect (K. Loach, S. Penn, S. Makhmalbaf, ...) or nearly perfect (C. Lelouch) and made me either smile, or cry or even left me stunned. I still don\\'t know if S. Imamura\\'s fable is really related or not to the September 11th catastrophe, but it is so pretty that its finale place deeply \\'makes it\\'.'\n",
            "Round-trip:  this is the greatest film i saw in [UNK] [UNK] im used to [UNK] movies it is [UNK] and makes a beautiful [UNK] act from these [UNK] short films from the [UNK] [UNK] the [UNK] directors i [UNK] it would have an [UNK] [UNK] but its a kind of [UNK] times personal [UNK] br the [UNK] point comes from [UNK] [UNK] he does not [UNK] to [UNK] his [UNK] and [UNK] this [UNK] as a [UNK] [UNK] it is really the [UNK] part of the movie but this [UNK] of a real [UNK] of [UNK] for the whole piece the [UNK] comes from the [UNK] nearly [UNK] film i am still not sure what a [UNK] [UNK] meant the [UNK] others are perfect [UNK] [UNK] [UNK] [UNK] [UNK] [UNK] or nearly perfect [UNK] [UNK] and made me either [UNK] or [UNK] or even left me [UNK] i still dont know if [UNK] [UNK] [UNK] is really [UNK] or not to the [UNK] [UNK] [UNK] but it is so pretty that its [UNK] place [UNK] makes it                                                                                                                                                                                                                                                                                                                                                                                                                                               \n",
            "\n",
            "Original:  b\"I actually didn't enjoy this movie.<br /><br />I saw it at a camp, and we didn't rave about it, we laughed at it. Sure, some parts are touching, but the acting is terrible, the effects are terrible, and the whole overall movie idea is terrible (now, I know it was based on a book which I haven't read, but I hope that the book was better than this, because frankly, I thought that this movie was very bad and boring). Like I said, I went to it with a bunch of people from a camp, and we were excited to be there, plus I got a caffeinated drink, but nonetheless, I struggled to stay awake. The only thing that kept me up (other than my fear of being embarrassed once I woke up) was the gunshots, that were quite pointless as well. I just really didn't like it.\"\n",
            "Round-trip:  i actually didnt enjoy this moviebr br i saw it at a [UNK] and we didnt [UNK] about it we [UNK] at it sure some parts are [UNK] but the acting is terrible the effects are terrible and the whole overall movie idea is terrible now i know it was based on a book which i havent read but i hope that the book was better than this because [UNK] i thought that this movie was very bad and boring like i said i went to it with a bunch of people from a [UNK] and we were [UNK] to be there plus i got a [UNK] [UNK] but [UNK] i [UNK] to stay [UNK] the only thing that kept me up other than my [UNK] of being [UNK] once i [UNK] up was the [UNK] that were quite [UNK] as well i just really didnt like it                                                                                                                                                                                                                                                                                                                                                                                                                                                                           \n",
            "\n",
            "Original:  b\"This was a pretty decent movie. This movie is good to just sit down and watch and be entertained. Just a typical Hollywood film. This movie will never win an Oscar or anything and definitely doesn't deserve one, but I thought it was pretty good. It's kind of like the show 24 but set into movie format. If you like the whole we've got to stop the terrorist from killing the president kind of movie then you will enjoy this flick. I personally think that storyline has been done WAY too much, but The Sentinel does add a little twist with the mole in the Secret Service. All in all, this movie won't leave your jaw to the floor or change your life, but who says every single movie has to be like that to be good?\"\n",
            "Round-trip:  this was a pretty decent movie this movie is good to just sit down and watch and be [UNK] just a typical hollywood film this movie will never [UNK] an oscar or anything and definitely doesnt [UNK] one but i thought it was pretty good its kind of like the show [UNK] but set into movie [UNK] if you like the whole [UNK] got to stop the [UNK] from killing the [UNK] kind of movie then you will enjoy this flick i [UNK] think that storyline has been done way too much but the [UNK] does add a little twist with the [UNK] in the secret [UNK] all in all this movie wont leave your [UNK] to the [UNK] or change your life but who says every single movie has to be like that to be good                                                                                                                                                                                                                                                                                                                                                                                                                                                                                      \n",
            "\n"
          ]
        }
      ]
    },
    {
      "cell_type": "markdown",
      "source": [
        "**Buat Model**"
      ],
      "metadata": {
        "id": "b6k-mOX5qv75"
      }
    },
    {
      "cell_type": "markdown",
      "source": [
        "*diagram model dapat dilihat pada gambar diatas*\n",
        "1. *Model ini dapat dibuat sebagai tf.keras.Sequential.*\n",
        "2. *Lapisan pertama adalah encoder, yang mengubah teks menjadi urutan indeks token.*\n",
        "3. *Setelah encoder adalah lapisan penyematan (embedding layer). Lapisan penyematan menyimpan satu vektor per kata. Saat dipanggil, ini mengubah rangkaian indeks kata menjadi rangkaian vektor. Vektor-vektor ini dapat dilatih. Setelah pelatihan (dengan data yang cukup), kata-kata dengan arti yang mirip sering kali memiliki vektor yang serupa. Pencarian indeks ini jauh lebih efisien daripada operasi setara dengan meneruskan vektor yang disandikan one-hot melalui lapisan tf.keras.layers.Dense.*\n",
        "4. *Jaringan saraf berulang (RNN) memproses masukan urutan dengan melakukan iterasi melalui elemen. RNN meneruskan keluaran dari satu langkah waktu ke masukannya pada langkah waktu berikutnya.*\n",
        "Pembungkus tf.keras.layers.Bidirection juga dapat digunakan dengan lapisan RNN. Ini menyebarkan masukan maju dan mundur melalui lapisan RNN dan kemudian menggabungkan keluaran akhir.\n",
        "\n",
        "*-Keuntungan utama RNN dua arah adalah sinyal dari awal masukan tidak perlu diproses sepanjang waktu untuk memengaruhi keluaran.*\n",
        "\n",
        "*-Kerugian utama dari RNN dua arah adalah Anda tidak dapat melakukan streaming prediksi secara efisien saat kata-kata ditambahkan di akhir.*\n",
        "\n",
        "5. *Setelah RNN mengonversi urutan menjadi satu vektor, kedua lapisan tersebut.Dense melakukan beberapa pemrosesan akhir, dan mengonversi representasi vektor ini menjadi logit tunggal sebagai keluaran klasifikasi.*\n",
        "\n",
        "*Kode nya adalah sebagai berikut :*"
      ],
      "metadata": {
        "id": "RGmfo0QrqzkJ"
      }
    },
    {
      "cell_type": "code",
      "source": [
        "model = tf.keras.Sequential([\n",
        "    encoder,\n",
        "    tf.keras.layers.Embedding(\n",
        "        input_dim=len(encoder.get_vocabulary()),\n",
        "        output_dim=64,\n",
        "        # Use masking to handle the variable sequence lengths\n",
        "        mask_zero=True),\n",
        "    tf.keras.layers.Bidirectional(tf.keras.layers.LSTM(64)),\n",
        "    tf.keras.layers.Dense(64, activation='relu'),\n",
        "    tf.keras.layers.Dense(1)\n",
        "])"
      ],
      "metadata": {
        "id": "0icjjBCurmFa"
      },
      "execution_count": 10,
      "outputs": []
    },
    {
      "cell_type": "markdown",
      "source": [
        "*Harap dicatat bahwa model sekuensial Keras digunakan di sini karena semua lapisan dalam model hanya memiliki masukan tunggal dan menghasilkan keluaran tunggal. Jika Anda ingin menggunakan lapisan RNN stateful, Anda mungkin ingin membangun model Anda dengan API fungsional Keras atau subkelas model sehingga Anda dapat mengambil dan menggunakan kembali status lapisan RNN. Untuk detailnya bisa dilihat pada Keras RNN guide*\n",
        "\n",
        "*Lapisan penyematan menggunakan masking (uses masking ) untuk menangani panjang urutan yang bervariasi. Semua lapisan setelah penyematan dukungan penyematan*"
      ],
      "metadata": {
        "id": "LBX3bcKGrsYa"
      }
    },
    {
      "cell_type": "code",
      "source": [
        "print([layer.supports_masking for layer in model.layers])"
      ],
      "metadata": {
        "colab": {
          "base_uri": "https://localhost:8080/"
        },
        "id": "uP5REfwwrxhR",
        "outputId": "fde7e073-d8cb-4383-ca4d-ebe8e71fb522"
      },
      "execution_count": 11,
      "outputs": [
        {
          "output_type": "stream",
          "name": "stdout",
          "text": [
            "[False, True, True, True, True]\n"
          ]
        }
      ]
    },
    {
      "cell_type": "markdown",
      "source": [
        "*Untuk memastikan bahwa ini berfungsi seperti yang diharapkan, evaluasi sebuah kalimat dua kali. Pertama, satu kalimat sehingga tidak ada bantalan (padding) untuk disamarkan:*"
      ],
      "metadata": {
        "id": "iOs-DHuJr2us"
      }
    },
    {
      "cell_type": "code",
      "source": [
        "# predict on a sample text without padding.\n",
        "\n",
        "sample_text = ('The movie was cool. The animation and the graphics '\n",
        "               'were out of this world. I would recommend this movie.')\n",
        "predictions = model.predict(np.array([sample_text]))\n",
        "print(predictions[0])"
      ],
      "metadata": {
        "colab": {
          "base_uri": "https://localhost:8080/"
        },
        "id": "58eoKGfdr477",
        "outputId": "77602538-3b27-4f76-c781-55e81bc074c5"
      },
      "execution_count": 12,
      "outputs": [
        {
          "output_type": "stream",
          "name": "stdout",
          "text": [
            "1/1 [==============================] - 7s 7s/step\n",
            "[0.0019913]\n"
          ]
        }
      ]
    },
    {
      "cell_type": "markdown",
      "source": [
        "*Sekarang, evaluasi lagi dalam batch dengan kalimat yang lebih panjang. Hasilnya harus sama:*"
      ],
      "metadata": {
        "id": "YfOr8OSjr7iM"
      }
    },
    {
      "cell_type": "code",
      "source": [
        "# predict on a sample text with padding\n",
        "\n",
        "padding = \"the \" * 2000\n",
        "predictions = model.predict(np.array([sample_text, padding]))\n",
        "print(predictions[0])"
      ],
      "metadata": {
        "colab": {
          "base_uri": "https://localhost:8080/"
        },
        "id": "mCilAtknr9I2",
        "outputId": "904dffb7-c48f-450d-dcc3-59183c1ae8a7"
      },
      "execution_count": 13,
      "outputs": [
        {
          "output_type": "stream",
          "name": "stdout",
          "text": [
            "1/1 [==============================] - 0s 61ms/step\n",
            "[0.0019913]\n"
          ]
        }
      ]
    },
    {
      "cell_type": "markdown",
      "source": [
        "*compile model Keras untuk mengonfigurasi proses pelatihan:*"
      ],
      "metadata": {
        "id": "QksNsmSCsAFx"
      }
    },
    {
      "cell_type": "code",
      "source": [
        "model.compile(loss=tf.keras.losses.BinaryCrossentropy(from_logits=True),\n",
        "              optimizer=tf.keras.optimizers.Adam(1e-4),\n",
        "              metrics=['accuracy'])"
      ],
      "metadata": {
        "id": "VubgGUhhsCJD"
      },
      "execution_count": 14,
      "outputs": []
    },
    {
      "cell_type": "markdown",
      "source": [
        "**Train Model**"
      ],
      "metadata": {
        "id": "reEx5aw5sFVH"
      }
    },
    {
      "cell_type": "code",
      "source": [
        "history = model.fit(train_dataset, epochs=10,\n",
        "                    validation_data=test_dataset,\n",
        "                    validation_steps=30)"
      ],
      "metadata": {
        "colab": {
          "base_uri": "https://localhost:8080/"
        },
        "id": "XM7ndOcrsIPd",
        "outputId": "296ac3c0-1c5f-45b0-e363-429aed6316ba"
      },
      "execution_count": 15,
      "outputs": [
        {
          "output_type": "stream",
          "name": "stdout",
          "text": [
            "Epoch 1/10\n",
            "391/391 [==============================] - 52s 109ms/step - loss: 0.6406 - accuracy: 0.5679 - val_loss: 0.5607 - val_accuracy: 0.5682\n",
            "Epoch 2/10\n",
            "391/391 [==============================] - 26s 65ms/step - loss: 0.4817 - accuracy: 0.7484 - val_loss: 0.4010 - val_accuracy: 0.8141\n",
            "Epoch 3/10\n",
            "391/391 [==============================] - 25s 63ms/step - loss: 0.3652 - accuracy: 0.8358 - val_loss: 0.3654 - val_accuracy: 0.8484\n",
            "Epoch 4/10\n",
            "391/391 [==============================] - 25s 63ms/step - loss: 0.3356 - accuracy: 0.8546 - val_loss: 0.3356 - val_accuracy: 0.8531\n",
            "Epoch 5/10\n",
            "391/391 [==============================] - 25s 64ms/step - loss: 0.3215 - accuracy: 0.8630 - val_loss: 0.3379 - val_accuracy: 0.8609\n",
            "Epoch 6/10\n",
            "391/391 [==============================] - 25s 63ms/step - loss: 0.3133 - accuracy: 0.8654 - val_loss: 0.3293 - val_accuracy: 0.8641\n",
            "Epoch 7/10\n",
            "391/391 [==============================] - 25s 65ms/step - loss: 0.3071 - accuracy: 0.8688 - val_loss: 0.3233 - val_accuracy: 0.8557\n",
            "Epoch 8/10\n",
            "391/391 [==============================] - 24s 62ms/step - loss: 0.3045 - accuracy: 0.8714 - val_loss: 0.3234 - val_accuracy: 0.8615\n",
            "Epoch 9/10\n",
            "391/391 [==============================] - 26s 66ms/step - loss: 0.3015 - accuracy: 0.8731 - val_loss: 0.3229 - val_accuracy: 0.8557\n",
            "Epoch 10/10\n",
            "391/391 [==============================] - 25s 64ms/step - loss: 0.2991 - accuracy: 0.8727 - val_loss: 0.3309 - val_accuracy: 0.8464\n"
          ]
        }
      ]
    },
    {
      "cell_type": "code",
      "source": [
        "test_loss, test_acc = model.evaluate(test_dataset)\n",
        "\n",
        "print('Test Loss:', test_loss)\n",
        "print('Test Accuracy:', test_acc)"
      ],
      "metadata": {
        "colab": {
          "base_uri": "https://localhost:8080/"
        },
        "id": "lBBcLCFysNAB",
        "outputId": "4f7dec46-69df-40f7-e558-b68f3cea5e52"
      },
      "execution_count": 16,
      "outputs": [
        {
          "output_type": "stream",
          "name": "stdout",
          "text": [
            "391/391 [==============================] - 12s 30ms/step - loss: 0.3275 - accuracy: 0.8479\n",
            "Test Loss: 0.327452689409256\n",
            "Test Accuracy: 0.8479200005531311\n"
          ]
        }
      ]
    },
    {
      "cell_type": "code",
      "source": [
        "plt.figure(figsize=(16, 8))\n",
        "plt.subplot(1, 2, 1)\n",
        "plot_graphs(history, 'accuracy')\n",
        "plt.ylim(None, 1)\n",
        "plt.subplot(1, 2, 2)\n",
        "plot_graphs(history, 'loss')\n",
        "plt.ylim(0, None)"
      ],
      "metadata": {
        "colab": {
          "base_uri": "https://localhost:8080/",
          "height": 654
        },
        "id": "jlfO84gGsOZ3",
        "outputId": "84494a6c-67a5-4de0-8c49-053ceb5ef5ba"
      },
      "execution_count": 17,
      "outputs": [
        {
          "output_type": "execute_result",
          "data": {
            "text/plain": [
              "(0.0, 0.6577227786183357)"
            ]
          },
          "metadata": {},
          "execution_count": 17
        },
        {
          "output_type": "display_data",
          "data": {
            "text/plain": [
              "<Figure size 1600x800 with 2 Axes>"
            ],
            "image/png": "[encoded data removed]"
          },
          "metadata": {}
        }
      ]
    },
    {
      "cell_type": "markdown",
      "source": [
        "*Jalankan prediksi pada kalimat baru:*"
      ],
      "metadata": {
        "id": "EXeu8CaCsQ08"
      }
    },
    {
      "cell_type": "markdown",
      "source": [
        "*Jika prediksi >= 0,0 berarti positif, jika tidak maka negatif.*"
      ],
      "metadata": {
        "id": "F1IucCRZsR7g"
      }
    },
    {
      "cell_type": "code",
      "source": [
        "sample_text = ('The movie was cool. The animation and the graphics '\n",
        "              'were out of this world. I would recommend this movie.')\n",
        "predictions = model.predict(np.array([sample_text]))"
      ],
      "metadata": {
        "colab": {
          "base_uri": "https://localhost:8080/"
        },
        "id": "Kl7YjYYSsUzP",
        "outputId": "db7cbd72-77e0-4b2d-9298-7eeb6877395f"
      },
      "execution_count": 18,
      "outputs": [
        {
          "output_type": "stream",
          "name": "stdout",
          "text": [
            "1/1 [==============================] - 3s 3s/step\n"
          ]
        }
      ]
    },
    {
      "cell_type": "markdown",
      "source": [
        "**Stack two or more LSTM layers**"
      ],
      "metadata": {
        "id": "d_0164Q2s2W0"
      }
    },
    {
      "cell_type": "markdown",
      "source": [
        "**Lapisan berulang Keras memiliki dua mode yang tersedia yang dikontrol oleh argumen konstruktor return_sequences :**\n",
        "* *Jika False, ia hanya mengembalikan keluaran terakhir untuk setiap urutan masukan (bentuk tensor 2D (batch_size, output_features)). Ini adalah default yang digunakan pada model sebelumnya.*\n",
        "* *Jika True, Sequence lengkap output berturut-turut untuk setiap langkah waktu dikembalikan (bentuk tensor 3D (ukuran_batch, langkah waktu, fitur_output)).*\n",
        "\n",
        "*Berikut adalah alur informasi dengan return_sequences=True:*"
      ],
      "metadata": {
        "id": "UY28aPkes4uj"
      }
    },
    {
      "cell_type": "markdown",
      "source": [
        "*Hal yang menarik dari penggunaan RNN dengan return_sequences=True adalah outputnya masih memiliki 3 axis, sama seperti inputnya, sehingga bisa diteruskan ke layer RNN lain, seperti ini:*"
      ],
      "metadata": {
        "id": "v4NuwHSPtEDw"
      }
    },
    {
      "cell_type": "code",
      "source": [
        "model = tf.keras.Sequential([\n",
        "   encoder,\n",
        "   tf.keras.layers.Embedding(len(encoder.get_vocabulary()), 64, mask_zero=True),\n",
        "   tf.keras.layers.Bidirectional(tf.keras.layers.LSTM(64, return_sequences=True)),\n",
        "   tf.keras.layers.Bidirectional(tf.keras.layers.LSTM(32)),\n",
        "   tf.keras.layers.Dense(64, activation='relu'),\n",
        "   tf.keras.layers.Dropout(0.5),\n",
        "   tf.keras.layers.Dense(1)\n",
        "])"
      ],
      "metadata": {
        "id": "05JcPxIntG9E"
      },
      "execution_count": 19,
      "outputs": []
    },
    {
      "cell_type": "code",
      "source": [
        "model.compile(loss=tf.keras.losses.BinaryCrossentropy(from_logits=True),\n",
        "              optimizer=tf.keras.optimizers.Adam(1e-4),\n",
        "              metrics=['accuracy'])"
      ],
      "metadata": {
        "id": "Y9dEESGNtVY9"
      },
      "execution_count": 20,
      "outputs": []
    },
    {
      "cell_type": "code",
      "source": [
        "history = model.fit(train_dataset, epochs=10,\n",
        "                    validation_data=test_dataset,\n",
        "                    validation_steps=30)"
      ],
      "metadata": {
        "colab": {
          "base_uri": "https://localhost:8080/"
        },
        "id": "-6rjs963tdIq",
        "outputId": "362a0439-4b3d-45ab-c9bb-89d6dc88817d"
      },
      "execution_count": 21,
      "outputs": [
        {
          "output_type": "stream",
          "name": "stdout",
          "text": [
            "Epoch 1/10\n",
            "391/391 [==============================] - 79s 155ms/step - loss: 0.6021 - accuracy: 0.6136 - val_loss: 0.4031 - val_accuracy: 0.8156\n",
            "Epoch 2/10\n",
            "391/391 [==============================] - 46s 117ms/step - loss: 0.3717 - accuracy: 0.8379 - val_loss: 0.3423 - val_accuracy: 0.8562\n",
            "Epoch 3/10\n",
            "391/391 [==============================] - 46s 117ms/step - loss: 0.3377 - accuracy: 0.8549 - val_loss: 0.3388 - val_accuracy: 0.8625\n",
            "Epoch 4/10\n",
            "391/391 [==============================] - 47s 121ms/step - loss: 0.3183 - accuracy: 0.8642 - val_loss: 0.3220 - val_accuracy: 0.8583\n",
            "Epoch 5/10\n",
            "391/391 [==============================] - 47s 118ms/step - loss: 0.3104 - accuracy: 0.8676 - val_loss: 0.3226 - val_accuracy: 0.8495\n",
            "Epoch 6/10\n",
            "391/391 [==============================] - 47s 119ms/step - loss: 0.3080 - accuracy: 0.8682 - val_loss: 0.3257 - val_accuracy: 0.8630\n",
            "Epoch 7/10\n",
            "391/391 [==============================] - 48s 122ms/step - loss: 0.3036 - accuracy: 0.8700 - val_loss: 0.3170 - val_accuracy: 0.8635\n",
            "Epoch 8/10\n",
            "391/391 [==============================] - 48s 122ms/step - loss: 0.3008 - accuracy: 0.8728 - val_loss: 0.3263 - val_accuracy: 0.8531\n",
            "Epoch 9/10\n",
            "391/391 [==============================] - 47s 119ms/step - loss: 0.2981 - accuracy: 0.8719 - val_loss: 0.3170 - val_accuracy: 0.8516\n",
            "Epoch 10/10\n",
            "391/391 [==============================] - 47s 119ms/step - loss: 0.2940 - accuracy: 0.8745 - val_loss: 0.3312 - val_accuracy: 0.8672\n"
          ]
        }
      ]
    },
    {
      "cell_type": "code",
      "source": [
        "test_loss, test_acc = model.evaluate(test_dataset)\n",
        "\n",
        "print('Test Loss:', test_loss)\n",
        "print('Test Accuracy:', test_acc)"
      ],
      "metadata": {
        "colab": {
          "base_uri": "https://localhost:8080/"
        },
        "id": "mKZYyTMPtkIg",
        "outputId": "c9ff9456-5227-46e4-e17d-03282344dec5"
      },
      "execution_count": 22,
      "outputs": [
        {
          "output_type": "stream",
          "name": "stdout",
          "text": [
            "391/391 [==============================] - 19s 47ms/step - loss: 0.3317 - accuracy: 0.8627\n",
            "Test Loss: 0.3316940367221832\n",
            "Test Accuracy: 0.8626800179481506\n"
          ]
        }
      ]
    },
    {
      "cell_type": "code",
      "source": [
        "# predict on a sample text without padding.\n",
        "\n",
        "sample_text = ('The movie was not good. The animation and the graphics '\n",
        "               'were terrible. I would not recommend this movie.')\n",
        "predictions = model.predict(np.array([sample_text]))\n",
        "print(predictions)"
      ],
      "metadata": {
        "colab": {
          "base_uri": "https://localhost:8080/"
        },
        "id": "7c9TCdgJtluQ",
        "outputId": "61f2eea1-0bdf-4687-e692-aa9817481cd0"
      },
      "execution_count": 23,
      "outputs": [
        {
          "output_type": "stream",
          "name": "stdout",
          "text": [
            "1/1 [==============================] - 6s 6s/step\n",
            "[[-1.5313628]]\n"
          ]
        }
      ]
    },
    {
      "cell_type": "code",
      "source": [
        "plt.figure(figsize=(16, 6))\n",
        "plt.subplot(1, 2, 1)\n",
        "plot_graphs(history, 'accuracy')\n",
        "plt.subplot(1, 2, 2)\n",
        "plot_graphs(history, 'loss')"
      ],
      "metadata": {
        "colab": {
          "base_uri": "https://localhost:8080/",
          "height": 493
        },
        "id": "KsRzlOPDtqVB",
        "outputId": "20b5a49c-5360-419f-9595-9052fa8cc88c"
      },
      "execution_count": 24,
      "outputs": [
        {
          "output_type": "display_data",
          "data": {
            "text/plain": [
              "<Figure size 1600x600 with 2 Axes>"
            ],
            "image/png": "[encoded data removed]"
          },
          "metadata": {}
        }
      ]
    },
    {
      "cell_type": "markdown",
      "source": [
        "**Catatan**"
      ],
      "metadata": {
        "id": "1VksS_LFtszo"
      }
    },
    {
      "cell_type": "markdown",
      "source": [
        "*Informasi menarik lain terkait dengan [GRU layers](https://www.tensorflow.org/api_docs/python/tf/keras/layers/GRU).*\n",
        "\n",
        "*Informasi membuat custom RNN --> Keras [RNN Guide](https://www.tensorflow.org/guide/keras/rnn).*"
      ],
      "metadata": {
        "id": "ZQI90Fk0tv9U"
      }
    },
    {
      "cell_type": "markdown",
      "source": [
        "> # **🍑 Praktikum 2** *Generator Teks dengan RNN*"
      ],
      "metadata": {
        "id": "I6k9NK8AxgRu"
      }
    },
    {
      "cell_type": "markdown",
      "source": [
        "*Praktikum ini mendemonstrasikan cara melakukan genearsi text menggunakan RNN. Dataset yang digunkan adalah dataset Shakespeare's writing from Andrej Karpathy's [The Unreasonable Effectiveness of Recurrent Neural Networks](http://karpathy.github.io/2015/05/21/rnn-effectiveness/). Jika diberikan urutan karakter dari data ini (\"Shakespear\"), latih model untuk memprediksi karakter berikutnya dalam urutan (\"e\"). Urutan teks yang lebih panjang dapat dihasilkan dengan memanggil model berulang kali.*\n",
        "\n",
        "*Note: Enable GPU acceleration to execute this notebook faster. In Colab: Runtime > Change runtime type > Hardware accelerator > GPU.*\n",
        "\n",
        "*Tutorial ini menggunakan tf.keras dan eager execution. Berikut adalah contoh output ketika model dalam tutorial ini dilatih selama 30 epoch, dan dimulai dengan prompt \"Q\":*"
      ],
      "metadata": {
        "id": "5Su-XboLxtID"
      }
    },
    {
      "cell_type": "markdown",
      "source": [
        "**QUEENE:**\n",
        "*I had thought thou hadst a Roman; for the oracle,\n",
        "Thus by All bids the man against the word,\n",
        "Which are so weak of care, by old care done;\n",
        "Your children were in your holy love,\n",
        "And the precipitation through the bleeding throne.*\n",
        "\n",
        "**BISHOP OF ELY:**\n",
        "*Marry, and will, my lord, to weep in such a one were prettiest;\n",
        "Yet now I was adopted heir\n",
        "Of the world's lamentable day,\n",
        "To watch the next way with his father with his face?*\n",
        "\n",
        "**ESCALUS:**\n",
        "*The cause why then we are all resolved more sons.*\n",
        "\n",
        "**VOLUMNIA:**\n",
        "*O, no, no, no, no, no, no, no, no, no, no, no, no, no, no, no, no, no, no, no, no, it is no sin it should be dead,\n",
        "And love and pale as any will to that word.*\n",
        "\n",
        "**QUEEN ELIZABETH:**\n",
        "*But how long have I heard the soul for this world,\n",
        "And show his hands of life be proved to stand.*\n",
        "\n",
        "**PETRUCHIO:**\n",
        "*I say he look'd on, if I must be content\n",
        "To stay him from the fatal of our country's bliss.\n",
        "His lordship pluck'd from this sentence then for prey,\n",
        "And then let us twain, being the moon,\n",
        "were she such a case as fills m*"
      ],
      "metadata": {
        "id": "sF8VT1wOyKr8"
      }
    },
    {
      "cell_type": "markdown",
      "source": [
        "*Meskipun beberapa kalimat memiliki tata bahasa, sebagian besar tidak masuk akal. Model belum mempelajari arti kata-kata, namun anggap saja:*\n",
        "\n",
        "*-Modelnya berbasis karakter. Saat pelatihan dimulai, model tidak mengetahui cara mengeja kata dalam bahasa Inggris, atau bahkan kata-kata tersebut merupakan satuan teks.*\n",
        "\n",
        "*-Struktur keluarannya menyerupai sandiwara—blok teks umumnya dimulai dengan nama pembicara, dengan huruf kapital semua mirip dengan kumpulan data.*\n",
        "\n",
        "*-Seperti yang ditunjukkan di bawah, model dilatih pada kumpulan teks kecil (masing-masing 100 karakter), dan masih mampu menghasilkan rangkaian teks yang lebih panjang dengan struktur yang koheren.*"
      ],
      "metadata": {
        "id": "uVfbppLNylSF"
      }
    },
    {
      "cell_type": "markdown",
      "source": [
        "**Setup**"
      ],
      "metadata": {
        "id": "lUt6NO1Yy1xd"
      }
    },
    {
      "cell_type": "markdown",
      "source": [
        "*Import TensorFlow*"
      ],
      "metadata": {
        "id": "ZEQFWKzpy4Uk"
      }
    },
    {
      "cell_type": "code",
      "source": [
        "import tensorflow as tf\n",
        "import numpy as np\n",
        "import os\n",
        "import time"
      ],
      "metadata": {
        "id": "Iw8Lu5CPy7Hh"
      },
      "execution_count": 25,
      "outputs": []
    },
    {
      "cell_type": "markdown",
      "source": [
        "*Download Dataset Shakespeare*\n",
        "\n",
        "*Sesuaikan dengan lokasi data yang Anda punya.*"
      ],
      "metadata": {
        "id": "PZGz9Zogy-7h"
      }
    },
    {
      "cell_type": "code",
      "source": [
        "path_to_file = tf.keras.utils.get_file('shakespeare.txt', 'https://storage.googleapis.com/download.tensorflow.org/data/shakespeare.txt')"
      ],
      "metadata": {
        "id": "kBIvmvRbzGhe",
        "outputId": "bc601702-6f73-4b5e-b774-8566f82de202",
        "colab": {
          "base_uri": "https://localhost:8080/"
        }
      },
      "execution_count": 26,
      "outputs": [
        {
          "output_type": "stream",
          "name": "stdout",
          "text": [
            "Downloading data from https://storage.googleapis.com/download.tensorflow.org/data/shakespeare.txt\n",
            "1115394/1115394 [==============================] - 0s 0us/step\n"
          ]
        }
      ]
    },
    {
      "cell_type": "markdown",
      "source": [
        "*Load Data*"
      ],
      "metadata": {
        "id": "Ss0eBkvPzNHv"
      }
    },
    {
      "cell_type": "code",
      "source": [
        "# Read, then decode for py2 compat.\n",
        "text = open(path_to_file, 'rb').read().decode(encoding='utf-8')\n",
        "# length of text is the number of characters in it\n",
        "print(f'Length of text: {len(text)} characters')"
      ],
      "metadata": {
        "id": "BY2uU5I3zPW9",
        "outputId": "0d5f98ba-b8f1-4251-f2fe-b1a0fd35a685",
        "colab": {
          "base_uri": "https://localhost:8080/"
        }
      },
      "execution_count": 27,
      "outputs": [
        {
          "output_type": "stream",
          "name": "stdout",
          "text": [
            "Length of text: 1115394 characters\n"
          ]
        }
      ]
    },
    {
      "cell_type": "code",
      "source": [
        "# Take a look at the first 250 characters in text\n",
        "print(text[:250])"
      ],
      "metadata": {
        "id": "7TE8FvFczQ_t",
        "outputId": "c4d1775d-666b-4c31-cb5e-0b20dab5c121",
        "colab": {
          "base_uri": "https://localhost:8080/"
        }
      },
      "execution_count": 28,
      "outputs": [
        {
          "output_type": "stream",
          "name": "stdout",
          "text": [
            "First Citizen:\n",
            "Before we proceed any further, hear me speak.\n",
            "\n",
            "All:\n",
            "Speak, speak.\n",
            "\n",
            "First Citizen:\n",
            "You are all resolved rather to die than to famish?\n",
            "\n",
            "All:\n",
            "Resolved. resolved.\n",
            "\n",
            "First Citizen:\n",
            "First, you know Caius Marcius is chief enemy to the people.\n",
            "\n"
          ]
        }
      ]
    },
    {
      "cell_type": "code",
      "source": [
        "# The unique characters in the file\n",
        "vocab = sorted(set(text))\n",
        "print(f'{len(vocab)} unique characters')"
      ],
      "metadata": {
        "id": "rRrmdLDlzTML",
        "outputId": "f2c1318e-29be-4a89-f07b-bafbae83d063",
        "colab": {
          "base_uri": "https://localhost:8080/"
        }
      },
      "execution_count": 29,
      "outputs": [
        {
          "output_type": "stream",
          "name": "stdout",
          "text": [
            "65 unique characters\n"
          ]
        }
      ]
    },
    {
      "cell_type": "markdown",
      "source": [
        "**Olah Teks**"
      ],
      "metadata": {
        "id": "5Caj7L-izbK_"
      }
    },
    {
      "cell_type": "markdown",
      "source": [
        "*Vectorize Teks*\n",
        "\n",
        "*Sebelum training, Anda perlu mengonversi string menjadi representasi numerik. tf.keras.layers.StringLookup dapat mengubah setiap karakter menjadi ID numerik. Caranya adalah teks akan dipecah menjadi token terlebih dahulu.*"
      ],
      "metadata": {
        "id": "PVdkRtMbzdDH"
      }
    },
    {
      "cell_type": "code",
      "source": [
        "example_texts = ['abcdefg', 'xyz']\n",
        "chars = tf.strings.unicode_split(example_texts, input_encoding='UTF-8')\n",
        "chars"
      ],
      "metadata": {
        "id": "dFjM97fxzhZN",
        "outputId": "8fb6193f-30c3-423d-fe91-8426a05bf04f",
        "colab": {
          "base_uri": "https://localhost:8080/"
        }
      },
      "execution_count": 30,
      "outputs": [
        {
          "output_type": "execute_result",
          "data": {
            "text/plain": [
              "<tf.RaggedTensor [[b'a', b'b', b'c', b'd', b'e', b'f', b'g'], [b'x', b'y', b'z']]>"
            ]
          },
          "metadata": {},
          "execution_count": 30
        }
      ]
    },
    {
      "cell_type": "markdown",
      "source": [
        "*sekarang buat tf.keras.layers.StringLookup layer:*"
      ],
      "metadata": {
        "id": "4ik9jcDIzjYX"
      }
    },
    {
      "cell_type": "code",
      "source": [
        "ids_from_chars = tf.keras.layers.StringLookup(\n",
        "vocabulary=list(vocab), mask_token=None)"
      ],
      "metadata": {
        "id": "aHcdR46dzqM5"
      },
      "execution_count": 31,
      "outputs": []
    },
    {
      "cell_type": "markdown",
      "source": [
        "*perintah diatas mengconvert token menjadi id*"
      ],
      "metadata": {
        "id": "RXSesE8HzsMj"
      }
    },
    {
      "cell_type": "code",
      "source": [
        "ids = ids_from_chars(chars)\n",
        "ids"
      ],
      "metadata": {
        "id": "o0Rhk2lozt5k",
        "outputId": "7f4495eb-f9b8-4af3-821b-8808a08f57b3",
        "colab": {
          "base_uri": "https://localhost:8080/"
        }
      },
      "execution_count": 32,
      "outputs": [
        {
          "output_type": "execute_result",
          "data": {
            "text/plain": [
              "<tf.RaggedTensor [[40, 41, 42, 43, 44, 45, 46], [63, 64, 65]]>"
            ]
          },
          "metadata": {},
          "execution_count": 32
        }
      ]
    },
    {
      "cell_type": "markdown",
      "source": [
        "*Karena tujuan tutorial ini adalah untuk menghasilkan teks, penting juga untuk membalikkan representasi ini. Untuk ini Anda dapat menggunakan kode tf.keras.layers.StringLookup(..., invert=True).*\n",
        "\n",
        "*Catatan: pada kode ini, daripada meneruskan kosakata asli yang dihasilkan dengan diurutkan(set(teks)) gunakan metode get_vocabulary() dari tf.keras.layers.StringLookup sehingga token [UNK] disetel dengan cara yang sama.*"
      ],
      "metadata": {
        "id": "_bwjX5w0zyvx"
      }
    },
    {
      "cell_type": "code",
      "source": [
        "chars_from_ids = tf.keras.layers.StringLookup(\n",
        "    vocabulary=ids_from_chars.get_vocabulary(), invert=True, mask_token=None)"
      ],
      "metadata": {
        "id": "ngwR4fnIz7AK"
      },
      "execution_count": 33,
      "outputs": []
    },
    {
      "cell_type": "markdown",
      "source": [
        "*Lapisan ini mengconvert kembali karakter dari vektor ID, dan mengembalikannya sebagai karakter tf.RaggedTensor:*"
      ],
      "metadata": {
        "id": "ME5p1cb_z-b7"
      }
    },
    {
      "cell_type": "code",
      "source": [
        "chars = chars_from_ids(ids)\n",
        "chars"
      ],
      "metadata": {
        "id": "-qSdMav30AMq",
        "outputId": "7f0d9cd0-eced-43c5-d3e3-0190814ffdef",
        "colab": {
          "base_uri": "https://localhost:8080/"
        }
      },
      "execution_count": 34,
      "outputs": [
        {
          "output_type": "execute_result",
          "data": {
            "text/plain": [
              "<tf.RaggedTensor [[b'a', b'b', b'c', b'd', b'e', b'f', b'g'], [b'x', b'y', b'z']]>"
            ]
          },
          "metadata": {},
          "execution_count": 34
        }
      ]
    },
    {
      "cell_type": "markdown",
      "source": [
        "*Anda dapat menggunakan tf.strings.reduce_join untuk menggabungkan kembali karakter menjadi string.*"
      ],
      "metadata": {
        "id": "hlbT-54t0FHW"
      }
    },
    {
      "cell_type": "code",
      "source": [
        "tf.strings.reduce_join(chars, axis=-1).numpy()"
      ],
      "metadata": {
        "id": "CLzYBH6s0Gzk",
        "outputId": "00361cd8-f4bd-4e23-8fbc-efa2e1c4eb8a",
        "colab": {
          "base_uri": "https://localhost:8080/"
        }
      },
      "execution_count": 35,
      "outputs": [
        {
          "output_type": "execute_result",
          "data": {
            "text/plain": [
              "array([b'abcdefg', b'xyz'], dtype=object)"
            ]
          },
          "metadata": {},
          "execution_count": 35
        }
      ]
    },
    {
      "cell_type": "code",
      "source": [
        "def text_from_ids(ids):\n",
        "    return tf.strings.reduce_join(chars_from_ids(ids), axis=-1)"
      ],
      "metadata": {
        "id": "IUGsljzu0IrI"
      },
      "execution_count": 36,
      "outputs": []
    },
    {
      "cell_type": "markdown",
      "source": [
        "**Prediksi**"
      ],
      "metadata": {
        "id": "cv8mAa8L0OCQ"
      }
    },
    {
      "cell_type": "markdown",
      "source": [
        "*Diberikan sebuah karakter, atau serangkaian karakter, karakter apa yang paling mungkin berikutnya? Ini adalah tugas yang harus Anda latih agar model dapat melakukannya. Masukan ke model akan berupa urutan karakter, dan Anda melatih model untuk memprediksi keluaran berupa karakter berikut pada setiap langkah waktu. Karena RNN mempertahankan keadaan internal yang bergantung pada elemen yang terlihat sebelumnya, mengingat semua karakter dihitung hingga saat ini, karakter apa selanjutnya?*\n",
        "\n",
        "*Membuat Trianing Set dan Target*\n",
        "\n",
        "*Selanjutnya bagilah teks menjadi contoh sequence. Setiap masukan sequence akan berisi karakter seq_length dari teks. Untuk setiap masukan sequence, target prediksi berisi teks dengan panjang yang sama, hanya digeser satu karakter ke kanan. Jadi, bagi teks menjadi beberapa bagian seq_length+1. Misalnya, seq_length adalah 4 dan teks kita adalah \"Hello\". Urutan masukannya adalah \"Hell\", dan urutan targetnya adalah \"ello\". Untuk melakukan ini, pertama-tama gunakan fungsi tf.data.Dataset.from_tensor_slices untuk mengonversi vektor teks menjadi aliran indeks karakter.*"
      ],
      "metadata": {
        "id": "jlU4JVae0RCe"
      }
    },
    {
      "cell_type": "code",
      "source": [
        "all_ids = ids_from_chars(tf.strings.unicode_split(text, 'UTF-8'))\n",
        "all_ids"
      ],
      "metadata": {
        "id": "1PNbAjNl0Yjs",
        "outputId": "53a6ffe2-0d31-46f3-ec3a-445557517583",
        "colab": {
          "base_uri": "https://localhost:8080/"
        }
      },
      "execution_count": 37,
      "outputs": [
        {
          "output_type": "execute_result",
          "data": {
            "text/plain": [
              "<tf.Tensor: shape=(1115394,), dtype=int64, numpy=array([19, 48, 57, ..., 46,  9,  1])>"
            ]
          },
          "metadata": {},
          "execution_count": 37
        }
      ]
    },
    {
      "cell_type": "code",
      "source": [
        "ids_dataset = tf.data.Dataset.from_tensor_slices(all_ids)"
      ],
      "metadata": {
        "id": "7vJDoEbo0cIK"
      },
      "execution_count": 38,
      "outputs": []
    },
    {
      "cell_type": "code",
      "source": [
        "for ids in ids_dataset.take(10):\n",
        "    print(chars_from_ids(ids).numpy().decode('utf-8'))"
      ],
      "metadata": {
        "id": "TOGu0fxI0due",
        "outputId": "ac377ee0-e920-4c76-83f1-b6e382f5a43d",
        "colab": {
          "base_uri": "https://localhost:8080/"
        }
      },
      "execution_count": 39,
      "outputs": [
        {
          "output_type": "stream",
          "name": "stdout",
          "text": [
            "F\n",
            "i\n",
            "r\n",
            "s\n",
            "t\n",
            " \n",
            "C\n",
            "i\n",
            "t\n",
            "i\n"
          ]
        }
      ]
    },
    {
      "cell_type": "code",
      "source": [
        "seq_length = 100"
      ],
      "metadata": {
        "id": "88A6CW690myo"
      },
      "execution_count": 40,
      "outputs": []
    },
    {
      "cell_type": "markdown",
      "source": [
        "*Metode batch memungkinkan Anda dengan mudah mengonversi karakter individual ini menjadi urutan ukuran yang diinginkan.*"
      ],
      "metadata": {
        "id": "9YdMy5hD0qTp"
      }
    },
    {
      "cell_type": "code",
      "source": [
        "sequences = ids_dataset.batch(seq_length+1, drop_remainder=True)\n",
        "\n",
        "for seq in sequences.take(1):\n",
        "  print(chars_from_ids(seq))"
      ],
      "metadata": {
        "id": "7wr3sL7g0_8s",
        "outputId": "9ddd79db-d286-425d-f6c8-63c5aa1d91fd",
        "colab": {
          "base_uri": "https://localhost:8080/"
        }
      },
      "execution_count": 41,
      "outputs": [
        {
          "output_type": "stream",
          "name": "stdout",
          "text": [
            "tf.Tensor(\n",
            "[b'F' b'i' b'r' b's' b't' b' ' b'C' b'i' b't' b'i' b'z' b'e' b'n' b':'\n",
            " b'\\n' b'B' b'e' b'f' b'o' b'r' b'e' b' ' b'w' b'e' b' ' b'p' b'r' b'o'\n",
            " b'c' b'e' b'e' b'd' b' ' b'a' b'n' b'y' b' ' b'f' b'u' b'r' b't' b'h'\n",
            " b'e' b'r' b',' b' ' b'h' b'e' b'a' b'r' b' ' b'm' b'e' b' ' b's' b'p'\n",
            " b'e' b'a' b'k' b'.' b'\\n' b'\\n' b'A' b'l' b'l' b':' b'\\n' b'S' b'p' b'e'\n",
            " b'a' b'k' b',' b' ' b's' b'p' b'e' b'a' b'k' b'.' b'\\n' b'\\n' b'F' b'i'\n",
            " b'r' b's' b't' b' ' b'C' b'i' b't' b'i' b'z' b'e' b'n' b':' b'\\n' b'Y'\n",
            " b'o' b'u' b' '], shape=(101,), dtype=string)\n"
          ]
        }
      ]
    },
    {
      "cell_type": "markdown",
      "source": [
        "*akan lebih mudah untuk melihat apa yang dilakukan jika Anda menggabungkan token kembali menjadi string:*"
      ],
      "metadata": {
        "id": "9l17kC8k1DKz"
      }
    },
    {
      "cell_type": "code",
      "source": [
        "for seq in sequences.take(5):\n",
        "    print(text_from_ids(seq).numpy())"
      ],
      "metadata": {
        "id": "FQJ4fpB41GDS",
        "outputId": "e6f81ecd-cea1-4be0-b1a3-6d6dd3283dfc",
        "colab": {
          "base_uri": "https://localhost:8080/"
        }
      },
      "execution_count": 42,
      "outputs": [
        {
          "output_type": "stream",
          "name": "stdout",
          "text": [
            "b'First Citizen:\\nBefore we proceed any further, hear me speak.\\n\\nAll:\\nSpeak, speak.\\n\\nFirst Citizen:\\nYou '\n",
            "b'are all resolved rather to die than to famish?\\n\\nAll:\\nResolved. resolved.\\n\\nFirst Citizen:\\nFirst, you k'\n",
            "b\"now Caius Marcius is chief enemy to the people.\\n\\nAll:\\nWe know't, we know't.\\n\\nFirst Citizen:\\nLet us ki\"\n",
            "b\"ll him, and we'll have corn at our own price.\\nIs't a verdict?\\n\\nAll:\\nNo more talking on't; let it be d\"\n",
            "b'one: away, away!\\n\\nSecond Citizen:\\nOne word, good citizens.\\n\\nFirst Citizen:\\nWe are accounted poor citi'\n"
          ]
        }
      ]
    },
    {
      "cell_type": "markdown",
      "source": [
        "*Untuk pelatihan, Anda memerlukan kumpulan data pasangan (input, label). Dimana input dan label merupakan urutan. Pada setiap langkah waktu, inputnya adalah karakter saat ini dan labelnya adalah karakter berikutnya. Berikut adalah fungsi yang mengambil urutan sebagai masukan, menduplikasi, dan menggesernya untuk menyelaraskan masukan dan label untuk setiap langkah waktu:*"
      ],
      "metadata": {
        "id": "1MqW_c5u1NK2"
      }
    },
    {
      "cell_type": "code",
      "source": [
        "def split_input_target(sequence):\n",
        "    input_text = sequence[:-1]\n",
        "    target_text = sequence[1:]\n",
        "    return input_text, target_text"
      ],
      "metadata": {
        "id": "s_q6Pfv-1PLZ"
      },
      "execution_count": 43,
      "outputs": []
    },
    {
      "cell_type": "code",
      "source": [
        "split_input_target(list(\"Tensorflow\"))"
      ],
      "metadata": {
        "id": "hVMqDCAw1Xfz",
        "outputId": "b3f32d42-2ec7-439c-e3ea-af09c376cad8",
        "colab": {
          "base_uri": "https://localhost:8080/"
        }
      },
      "execution_count": 44,
      "outputs": [
        {
          "output_type": "execute_result",
          "data": {
            "text/plain": [
              "(['T', 'e', 'n', 's', 'o', 'r', 'f', 'l', 'o'],\n",
              " ['e', 'n', 's', 'o', 'r', 'f', 'l', 'o', 'w'])"
            ]
          },
          "metadata": {},
          "execution_count": 44
        }
      ]
    },
    {
      "cell_type": "code",
      "source": [
        "dataset = sequences.map(split_input_target)"
      ],
      "metadata": {
        "id": "QQpkKyDs1Yx0"
      },
      "execution_count": 45,
      "outputs": []
    },
    {
      "cell_type": "code",
      "source": [
        "for input_example, target_example in dataset.take(1):\n",
        "    print(\"Input :\", text_from_ids(input_example).numpy())\n",
        "    print(\"Target:\", text_from_ids(target_example).numpy())"
      ],
      "metadata": {
        "id": "YWOEdbej1b1H",
        "outputId": "64a9ff50-8f84-400b-f453-4f18cac7adc5",
        "colab": {
          "base_uri": "https://localhost:8080/"
        }
      },
      "execution_count": 46,
      "outputs": [
        {
          "output_type": "stream",
          "name": "stdout",
          "text": [
            "Input : b'First Citizen:\\nBefore we proceed any further, hear me speak.\\n\\nAll:\\nSpeak, speak.\\n\\nFirst Citizen:\\nYou'\n",
            "Target: b'irst Citizen:\\nBefore we proceed any further, hear me speak.\\n\\nAll:\\nSpeak, speak.\\n\\nFirst Citizen:\\nYou '\n"
          ]
        }
      ]
    },
    {
      "cell_type": "markdown",
      "source": [
        "*Membuat Batch Training*\n",
        "\n",
        "*Anda menggunakan tf.data untuk membagi teks menjadi sequence yang dapat diatur. Namun sebelum memasukkan data ini ke dalam model, Anda perlu mengacak data dan mengemasnya ke dalam batch.*"
      ],
      "metadata": {
        "id": "4uEg5rpW1jSb"
      }
    },
    {
      "cell_type": "code",
      "source": [
        "# Batch size\n",
        "BATCH_SIZE = 64\n",
        "\n",
        "# Buffer size to shuffle the dataset\n",
        "# (TF data is designed to work with possibly infinite sequences,\n",
        "# so it doesn't attempt to shuffle the entire sequence in memory. Instead,\n",
        "# it maintains a buffer in which it shuffles elements).\n",
        "BUFFER_SIZE = 10000\n",
        "\n",
        "dataset = (\n",
        "    dataset\n",
        "    .shuffle(BUFFER_SIZE)\n",
        "    .batch(BATCH_SIZE, drop_remainder=True)\n",
        "    .prefetch(tf.data.experimental.AUTOTUNE))\n",
        "\n",
        "dataset"
      ],
      "metadata": {
        "id": "ARK115mv1m3m",
        "outputId": "555512e2-f82a-498d-8ad1-f737e467a244",
        "colab": {
          "base_uri": "https://localhost:8080/"
        }
      },
      "execution_count": 47,
      "outputs": [
        {
          "output_type": "execute_result",
          "data": {
            "text/plain": [
              "<_PrefetchDataset element_spec=(TensorSpec(shape=(64, 100), dtype=tf.int64, name=None), TensorSpec(shape=(64, 100), dtype=tf.int64, name=None))>"
            ]
          },
          "metadata": {},
          "execution_count": 47
        }
      ]
    },
    {
      "cell_type": "markdown",
      "source": [
        "**Buat Model**"
      ],
      "metadata": {
        "id": "ZkJX2OqU1pUT"
      }
    },
    {
      "cell_type": "markdown",
      "source": [
        "*Bagian ini mendefinisikan model sebagai subkelas keras.Model (untuk lebih detilnya, lihat [Making new Layers and Models via subclassing](https://www.tensorflow.org/guide/keras/custom_layers_and_models)).\n",
        "\n",
        "*Model yang kita bangun memiliki 3 lapisan neural network :*\n",
        "* *tf.keras.layers.Embedding: Lapisan masukan. Tabel pencarian yang dapat dilatih yang akan memetakan setiap karakter-ID ke vektor dengan dimensi embedding_dim;*\n",
        "* *tf.keras.layers.GRU: lapisan RNN dengan ukuran unit=rnn_units (Anda juga dapat menggunakan lapisan LSTM di sini.)*\n",
        "* *tf.keras.layers.Dense: Lapisan keluaran, dengan keluaran vocab_size. Ini menghasilkan satu logit untuk setiap karakter dalam kosakata. Ini adalah log kemungkinan setiap karakter menurut model.*"
      ],
      "metadata": {
        "id": "VWn9_OyB1r-l"
      }
    },
    {
      "cell_type": "code",
      "source": [
        "# Length of the vocabulary in StringLookup Layer\n",
        "vocab_size = len(ids_from_chars.get_vocabulary())\n",
        "\n",
        "# The embedding dimension\n",
        "embedding_dim = 256\n",
        "\n",
        "# Number of RNN units\n",
        "rnn_units = 1024"
      ],
      "metadata": {
        "id": "p9ayDJgs15bV"
      },
      "execution_count": 48,
      "outputs": []
    },
    {
      "cell_type": "code",
      "source": [
        "class MyModel(tf.keras.Model):\n",
        "  def __init__(self, vocab_size, embedding_dim, rnn_units):\n",
        "    super().__init__(self)\n",
        "    self.embedding = tf.keras.layers.Embedding(vocab_size, embedding_dim)\n",
        "    self.gru = tf.keras.layers.GRU(rnn_units,\n",
        "                                   return_sequences=True,\n",
        "                                   return_state=True)\n",
        "    self.dense = tf.keras.layers.Dense(vocab_size)\n",
        "\n",
        "  def call(self, inputs, states=None, return_state=False, training=False):\n",
        "    x = inputs\n",
        "    x = self.embedding(x, training=training)\n",
        "    if states is None:\n",
        "      states = self.gru.get_initial_state(x)\n",
        "    x, states = self.gru(x, initial_state=states, training=training)\n",
        "    x = self.dense(x, training=training)\n",
        "\n",
        "    if return_state:\n",
        "      return x, states\n",
        "    else:\n",
        "      return x"
      ],
      "metadata": {
        "id": "UoJlacYq16uL"
      },
      "execution_count": 49,
      "outputs": []
    },
    {
      "cell_type": "code",
      "source": [
        "model = MyModel(\n",
        "    vocab_size=vocab_size,\n",
        "    embedding_dim=embedding_dim,\n",
        "    rnn_units=rnn_units)"
      ],
      "metadata": {
        "id": "mM7FZ4ZJ19Dn"
      },
      "execution_count": 50,
      "outputs": []
    },
    {
      "cell_type": "markdown",
      "source": [
        "*Untuk setiap karakter, model mencari penyematan, menjalankan GRU satu langkah waktu dengan penyematan sebagai masukan, dan menerapkan dense layer untuk menghasilkan log yang memprediksi kemungkinan log karakter berikutnya:*"
      ],
      "metadata": {
        "id": "yTAnXnW11_O5"
      }
    },
    {
      "cell_type": "markdown",
      "source": [
        "Note: Untuk pelatihan Anda bisa menggunakan model keras.Sequential di sini. Untuk menghasilkan teks nanti, Anda harus mengelola status internal RNN. Akan lebih mudah untuk memasukkan opsi input dan output status di awal, daripada mengatur ulang arsitektur model nanti. untuk detailnya bisa dilihat [Keras RNN guide](https://www.tensorflow.org/guide/keras/rnn#rnn_state_reuse)."
      ],
      "metadata": {
        "id": "rHqAfZ6Z2IDN"
      }
    },
    {
      "cell_type": "markdown",
      "source": [
        "**Uji Model**"
      ],
      "metadata": {
        "id": "v6yjgvUT2QEX"
      }
    },
    {
      "cell_type": "markdown",
      "source": [
        "*Coba jalankan model dan cek apakah sidah sesuai dengan output*\n",
        "\n",
        "*pertama, cek bentuk dari output*"
      ],
      "metadata": {
        "id": "UBxaxF3L2ST7"
      }
    },
    {
      "cell_type": "code",
      "source": [
        "for input_example_batch, target_example_batch in dataset.take(1):\n",
        "    example_batch_predictions = model(input_example_batch)\n",
        "    print(example_batch_predictions.shape, \"# (batch_size, sequence_length, vocab_size)\")"
      ],
      "metadata": {
        "id": "-Aiu2rsr2XOW",
        "outputId": "cd4ca783-037a-46ec-9f08-79da2aa5e36f",
        "colab": {
          "base_uri": "https://localhost:8080/"
        }
      },
      "execution_count": 51,
      "outputs": [
        {
          "output_type": "stream",
          "name": "stdout",
          "text": [
            "(64, 100, 66) # (batch_size, sequence_length, vocab_size)\n"
          ]
        }
      ]
    },
    {
      "cell_type": "markdown",
      "source": [
        "*Dalam contoh di atas, panjang urutan masukan adalah 100 tetapi model dapat dijalankan pada masukan dengan panjang berapa pun:*"
      ],
      "metadata": {
        "id": "GdZbiVH72aKq"
      }
    },
    {
      "cell_type": "code",
      "source": [
        "model.summary()"
      ],
      "metadata": {
        "id": "NlGzxAII2bso",
        "outputId": "f15cf2d0-47ee-4681-c079-817085725467",
        "colab": {
          "base_uri": "https://localhost:8080/"
        }
      },
      "execution_count": 52,
      "outputs": [
        {
          "output_type": "stream",
          "name": "stdout",
          "text": [
            "Model: \"my_model\"\n",
            "_________________________________________________________________\n",
            " Layer (type)                Output Shape              Param #   \n",
            "=================================================================\n",
            " embedding_2 (Embedding)     multiple                  16896     \n",
            "                                                                 \n",
            " gru (GRU)                   multiple                  3938304   \n",
            "                                                                 \n",
            " dense_4 (Dense)             multiple                  67650     \n",
            "                                                                 \n",
            "=================================================================\n",
            "Total params: 4022850 (15.35 MB)\n",
            "Trainable params: 4022850 (15.35 MB)\n",
            "Non-trainable params: 0 (0.00 Byte)\n",
            "_________________________________________________________________\n"
          ]
        }
      ]
    },
    {
      "cell_type": "markdown",
      "source": [
        "*Untuk mendapatkan prediksi aktual dari model, Anda perlu mengambil sampel dari distribusi keluaran, untuk mendapatkan indeks karakter aktual. Distribusi ini ditentukan oleh logit pada kosakata karakter. Catatan: Penting untuk mengambil sampel dari distribusi ini karena mengambil argmax dari distribusi tersebut dapat dengan mudah membuat model terjebak dalam infinote loop. Cobalah untuk contoh pertama di batch:*"
      ],
      "metadata": {
        "id": "G3fERU922dUU"
      }
    },
    {
      "cell_type": "code",
      "source": [
        "sampled_indices = tf.random.categorical(example_batch_predictions[0], num_samples=1)\n",
        "sampled_indices = tf.squeeze(sampled_indices, axis=-1).numpy()"
      ],
      "metadata": {
        "id": "JB_F3g6S2e9w"
      },
      "execution_count": 53,
      "outputs": []
    },
    {
      "cell_type": "markdown",
      "source": [
        "*Hal ini memberi kita, pada setiap langkah waktu, prediksi indeks karakter berikutnya:*"
      ],
      "metadata": {
        "id": "JMDP4lTf2hOj"
      }
    },
    {
      "cell_type": "code",
      "source": [
        "sampled_indices"
      ],
      "metadata": {
        "id": "y2YDGHOm2oeY",
        "outputId": "dda267ae-5b61-42ee-e0d5-e944771a40d9",
        "colab": {
          "base_uri": "https://localhost:8080/"
        }
      },
      "execution_count": 54,
      "outputs": [
        {
          "output_type": "execute_result",
          "data": {
            "text/plain": [
              "array([24, 28, 32, 28, 57, 54, 41, 51, 65, 62, 31, 53,  3, 14, 10,  3, 27,\n",
              "        8, 47, 18, 24, 15,  8, 42, 61, 15,  4, 60, 61, 33, 35, 11, 16, 54,\n",
              "       17, 17,  4, 62, 26, 37, 54, 21, 25, 28, 59, 44, 40, 17, 19,  1, 31,\n",
              "       64, 26, 29, 16, 20, 12, 62, 61, 54, 17, 18,  9, 45, 29, 26, 14, 16,\n",
              "       38, 20,  4, 21, 44, 25, 38, 20,  0, 34, 32, 47, 33, 10, 12, 46, 11,\n",
              "       20, 14, 38, 27, 55,  4, 43, 41, 13, 60, 16, 60,  5, 50, 35])"
            ]
          },
          "metadata": {},
          "execution_count": 54
        }
      ]
    },
    {
      "cell_type": "markdown",
      "source": [
        "*Dekode kode berikut untuk melihat teks yang diprediksi oleh model tidak terlatih ini:*"
      ],
      "metadata": {
        "id": "qVrIT5z32qdF"
      }
    },
    {
      "cell_type": "code",
      "source": [
        "print(\"Input:\\n\", text_from_ids(input_example_batch[0]).numpy())\n",
        "print()\n",
        "print(\"Next Char Predictions:\\n\", text_from_ids(sampled_indices).numpy())"
      ],
      "metadata": {
        "id": "Pa3klTu52sQZ",
        "outputId": "009fb026-7749-4841-d4f7-057a5ed65393",
        "colab": {
          "base_uri": "https://localhost:8080/"
        }
      },
      "execution_count": 55,
      "outputs": [
        {
          "output_type": "stream",
          "name": "stdout",
          "text": [
            "Input:\n",
            " b'IET:\\nO Romeo, Romeo! wherefore art thou Romeo?\\nDeny thy father and refuse thy name;\\nOr, if thou wilt'\n",
            "\n",
            "Next Char Predictions:\n",
            " b'KOSOroblzwRn!A3!N-hEKB-cvB$uvTV:CoDD$wMXoHLOteaDF\\nRyMPCG;wvoDE.fPMACYG$HeLYG[UNK]UShT3;g:GAYNp$db?uCu&kV'\n"
          ]
        }
      ]
    },
    {
      "cell_type": "markdown",
      "source": [
        "**Train Model**"
      ],
      "metadata": {
        "id": "NnAExMNA2uZI"
      }
    },
    {
      "cell_type": "markdown",
      "source": [
        "*Pada titik ini permasalahan dapat dianggap sebagai permasalahan klasifikasi standar. Permasalahan dapat disimpulkan dengan : Berdasarkan status RNN sebelumnya, dan masukan langkah kali ini, prediksi kelas karakter berikutnya.*\n",
        "\n",
        "*Tambahan optimizer dan fungsi loss*\n",
        "\n",
        "*loss function tf.keras.losses.sparse_categorical_crossentropy standar berfungsi dalam kasus ini karena diterapkan di seluruh dimensi terakhir prediksi. Karena model Anda mengembalikan logits, Anda perlu mengatur flag from_logits.*"
      ],
      "metadata": {
        "id": "WAlAfXAV219g"
      }
    },
    {
      "cell_type": "code",
      "source": [
        "loss = tf.losses.SparseCategoricalCrossentropy(from_logits=True)"
      ],
      "metadata": {
        "id": "YvVLulW028NQ"
      },
      "execution_count": 56,
      "outputs": []
    },
    {
      "cell_type": "code",
      "source": [
        "example_batch_mean_loss = loss(target_example_batch, example_batch_predictions)\n",
        "print(\"Prediction shape: \", example_batch_predictions.shape, \" # (batch_size, sequence_length, vocab_size)\")\n",
        "print(\"Mean loss:        \", example_batch_mean_loss)"
      ],
      "metadata": {
        "id": "nhUl1Qxi3A-Y",
        "outputId": "32d18a64-2333-4aed-de6f-6a4e0ea38c08",
        "colab": {
          "base_uri": "https://localhost:8080/"
        }
      },
      "execution_count": 57,
      "outputs": [
        {
          "output_type": "stream",
          "name": "stdout",
          "text": [
            "Prediction shape:  (64, 100, 66)  # (batch_size, sequence_length, vocab_size)\n",
            "Mean loss:         tf.Tensor(4.189663, shape=(), dtype=float32)\n"
          ]
        }
      ]
    },
    {
      "cell_type": "markdown",
      "source": [
        "*Model yang baru diinisialisasi tidak boleh terlalu yakin dengan dirinya sendiri, semua log keluaran harus memiliki besaran yang sama. Untuk mengonfirmasi hal ini, Anda dapat memeriksa bahwa eksponensial dari loss rata-rata harus kira-kira sama dengan ukuran kosakata. Loss yang jauh lebih tinggi berarti model tersebut yakin akan jawaban yang salah, dan memiliki inisialisasi yang buruk:*"
      ],
      "metadata": {
        "id": "C0l6mxoR3Dpj"
      }
    },
    {
      "cell_type": "code",
      "source": [
        "tf.exp(example_batch_mean_loss).numpy()"
      ],
      "metadata": {
        "id": "iYkDOzVS3Fkb",
        "outputId": "f2e1b219-f96f-4127-f920-c3f51bf9effd",
        "colab": {
          "base_uri": "https://localhost:8080/"
        }
      },
      "execution_count": 58,
      "outputs": [
        {
          "output_type": "execute_result",
          "data": {
            "text/plain": [
              "66.00054"
            ]
          },
          "metadata": {},
          "execution_count": 58
        }
      ]
    },
    {
      "cell_type": "markdown",
      "source": [
        "*Konfigurasikan prosedur pelatihan menggunakan metode tf.keras.Model.compile. Gunakan tf.keras.optimizers.Adam dengan argumen default dan fungsi loss.*"
      ],
      "metadata": {
        "id": "Nxvm7X-N3HXA"
      }
    },
    {
      "cell_type": "code",
      "source": [
        "model.compile(optimizer='adam', loss=loss)"
      ],
      "metadata": {
        "id": "O7lI4SGK3K2K"
      },
      "execution_count": 59,
      "outputs": []
    },
    {
      "cell_type": "markdown",
      "source": [
        "*Konfigurasi Checkpoints*\n",
        "\n",
        "*Gunakan tf.keras.callbacks.ModelCheckpoint untuk memastikan bahwa checkpoint disimpan selama pelatihan:*"
      ],
      "metadata": {
        "id": "hK3l7tqZ3N6d"
      }
    },
    {
      "cell_type": "code",
      "source": [
        "# Directory where the checkpoints will be saved\n",
        "checkpoint_dir = './training_checkpoints'\n",
        "# Name of the checkpoint files\n",
        "checkpoint_prefix = os.path.join(checkpoint_dir, \"ckpt_{epoch}\")\n",
        "\n",
        "checkpoint_callback = tf.keras.callbacks.ModelCheckpoint(\n",
        "    filepath=checkpoint_prefix,\n",
        "    save_weights_only=True)"
      ],
      "metadata": {
        "id": "kP-AFopm3SNe"
      },
      "execution_count": 60,
      "outputs": []
    },
    {
      "cell_type": "markdown",
      "source": [
        "*Lakukan Proses Training*\n",
        "\n",
        "*Agar waktu pelatihan tidak terlalu lama, gunakan 10 epoch untuk melatih model. Di Colab, setel runtime ke GPU untuk pelatihan yang lebih cepat.*"
      ],
      "metadata": {
        "id": "5MS9oScv3VCw"
      }
    },
    {
      "cell_type": "code",
      "source": [
        "EPOCHS = 20"
      ],
      "metadata": {
        "id": "Uqrwmv5e3X_z"
      },
      "execution_count": 61,
      "outputs": []
    },
    {
      "cell_type": "code",
      "source": [
        "history = model.fit(dataset, epochs=EPOCHS, callbacks=[checkpoint_callback])"
      ],
      "metadata": {
        "id": "PEVOkujA3Yth",
        "outputId": "41406e3a-1d94-46f4-94df-ed0e58084bd3",
        "colab": {
          "base_uri": "https://localhost:8080/"
        }
      },
      "execution_count": 62,
      "outputs": [
        {
          "output_type": "stream",
          "name": "stdout",
          "text": [
            "Epoch 1/20\n",
            "172/172 [==============================] - 14s 52ms/step - loss: 2.7036\n",
            "Epoch 2/20\n",
            "172/172 [==============================] - 10s 50ms/step - loss: 1.9679\n",
            "Epoch 3/20\n",
            "172/172 [==============================] - 10s 50ms/step - loss: 1.6932\n",
            "Epoch 4/20\n",
            "172/172 [==============================] - 10s 51ms/step - loss: 1.5347\n",
            "Epoch 5/20\n",
            "172/172 [==============================] - 11s 51ms/step - loss: 1.4377\n",
            "Epoch 6/20\n",
            "172/172 [==============================] - 11s 51ms/step - loss: 1.3707\n",
            "Epoch 7/20\n",
            "172/172 [==============================] - 10s 51ms/step - loss: 1.3184\n",
            "Epoch 8/20\n",
            "172/172 [==============================] - 11s 51ms/step - loss: 1.2735\n",
            "Epoch 9/20\n",
            "172/172 [==============================] - 10s 51ms/step - loss: 1.2315\n",
            "Epoch 10/20\n",
            "172/172 [==============================] - 11s 51ms/step - loss: 1.1905\n",
            "Epoch 11/20\n",
            "172/172 [==============================] - 11s 51ms/step - loss: 1.1499\n",
            "Epoch 12/20\n",
            "172/172 [==============================] - 14s 53ms/step - loss: 1.1080\n",
            "Epoch 13/20\n",
            "172/172 [==============================] - 11s 52ms/step - loss: 1.0635\n",
            "Epoch 14/20\n",
            "172/172 [==============================] - 11s 52ms/step - loss: 1.0155\n",
            "Epoch 15/20\n",
            "172/172 [==============================] - 11s 52ms/step - loss: 0.9655\n",
            "Epoch 16/20\n",
            "172/172 [==============================] - 10s 52ms/step - loss: 0.9141\n",
            "Epoch 17/20\n",
            "172/172 [==============================] - 11s 52ms/step - loss: 0.8611\n",
            "Epoch 18/20\n",
            "172/172 [==============================] - 12s 52ms/step - loss: 0.8087\n",
            "Epoch 19/20\n",
            "172/172 [==============================] - 11s 52ms/step - loss: 0.7587\n",
            "Epoch 20/20\n",
            "172/172 [==============================] - 11s 52ms/step - loss: 0.7103\n"
          ]
        }
      ]
    },
    {
      "cell_type": "markdown",
      "source": [
        "**Generate Teks**"
      ],
      "metadata": {
        "id": "j0k5JbJJ3hRI"
      }
    },
    {
      "cell_type": "markdown",
      "source": [
        "*Cara termudah untuk menghasilkan teks dengan model ini adalah dengan menjalankannya dalam loop, dan menyimpan status internal model saat Anda menjalankannya.*"
      ],
      "metadata": {
        "id": "VIwj2HsY3jhX"
      }
    },
    {
      "cell_type": "markdown",
      "source": [
        "*Setiap kali Anda memanggil model, Anda memasukkan beberapa teks dan state internal. Model mengembalikan prediksi untuk karakter berikutnya dan state barunya. Masukkan kembali prediksi dan state ke model untuk terus menghasilkan teks.*\n",
        "\n",
        "*Berikut ini membuat prediksi satu langkah:*"
      ],
      "metadata": {
        "id": "7yFBVL5G3mmm"
      }
    },
    {
      "cell_type": "code",
      "source": [
        "class OneStep(tf.keras.Model):\n",
        "  def __init__(self, model, chars_from_ids, ids_from_chars, temperature=1.0):\n",
        "    super().__init__()\n",
        "    self.temperature = temperature\n",
        "    self.model = model\n",
        "    self.chars_from_ids = chars_from_ids\n",
        "    self.ids_from_chars = ids_from_chars\n",
        "\n",
        "    # Create a mask to prevent \"[UNK]\" from being generated.\n",
        "    skip_ids = self.ids_from_chars(['[UNK]'])[:, None]\n",
        "    sparse_mask = tf.SparseTensor(\n",
        "        # Put a -inf at each bad index.\n",
        "        values=[-float('inf')]*len(skip_ids),\n",
        "        indices=skip_ids,\n",
        "        # Match the shape to the vocabulary\n",
        "        dense_shape=[len(ids_from_chars.get_vocabulary())])\n",
        "    self.prediction_mask = tf.sparse.to_dense(sparse_mask)\n",
        "\n",
        "  @tf.function\n",
        "  def generate_one_step(self, inputs, states=None):\n",
        "    # Convert strings to token IDs.\n",
        "    input_chars = tf.strings.unicode_split(inputs, 'UTF-8')\n",
        "    input_ids = self.ids_from_chars(input_chars).to_tensor()\n",
        "\n",
        "    # Run the model.\n",
        "    # predicted_logits.shape is [batch, char, next_char_logits]\n",
        "    predicted_logits, states = self.model(inputs=input_ids, states=states,\n",
        "                                          return_state=True)\n",
        "    # Only use the last prediction.\n",
        "    predicted_logits = predicted_logits[:, -1, :]\n",
        "    predicted_logits = predicted_logits/self.temperature\n",
        "    # Apply the prediction mask: prevent \"[UNK]\" from being generated.\n",
        "    predicted_logits = predicted_logits + self.prediction_mask\n",
        "\n",
        "    # Sample the output logits to generate token IDs.\n",
        "    predicted_ids = tf.random.categorical(predicted_logits, num_samples=1)\n",
        "    predicted_ids = tf.squeeze(predicted_ids, axis=-1)\n",
        "\n",
        "    # Convert from token ids to characters\n",
        "    predicted_chars = self.chars_from_ids(predicted_ids)\n",
        "\n",
        "    # Return the characters and model state.\n",
        "    return predicted_chars, states"
      ],
      "metadata": {
        "id": "rtg2hjZL3p3U"
      },
      "execution_count": 63,
      "outputs": []
    },
    {
      "cell_type": "code",
      "source": [
        "one_step_model = OneStep(model, chars_from_ids, ids_from_chars)"
      ],
      "metadata": {
        "id": "E7rDIYCq3sDu"
      },
      "execution_count": 64,
      "outputs": []
    },
    {
      "cell_type": "markdown",
      "source": [
        "*Jalankan secara berulang untuk menghasilkan beberapa teks. Melihat teks yang dihasilkan, Anda akan melihat model mengetahui kapan harus menggunakan huruf besar, membuat paragraf, dan meniru kosakata menulis seperti Shakespeare. Karena sedikitnya jumlah epoch pelatihan, model belum belajar membentuk kalimat runtut.*"
      ],
      "metadata": {
        "id": "KRJx5pjT3vRb"
      }
    },
    {
      "cell_type": "code",
      "source": [
        "start = time.time()\n",
        "states = None\n",
        "next_char = tf.constant(['ROMEO:'])\n",
        "result = [next_char]\n",
        "\n",
        "for n in range(1000):\n",
        "  next_char, states = one_step_model.generate_one_step(next_char, states=states)\n",
        "  result.append(next_char)\n",
        "\n",
        "result = tf.strings.join(result)\n",
        "end = time.time()\n",
        "print(result[0].numpy().decode('utf-8'), '\\n\\n' + '_'*80)\n",
        "print('\\nRun time:', end - start)"
      ],
      "metadata": {
        "id": "yQT_01So3xPx",
        "outputId": "437ff370-3183-4832-a225-62a52c53339c",
        "colab": {
          "base_uri": "https://localhost:8080/"
        }
      },
      "execution_count": 65,
      "outputs": [
        {
          "output_type": "stream",
          "name": "stdout",
          "text": [
            "ROMEO:\n",
            "Why, so: good my lord, but sad speak so dolitio,\n",
            "I moach'd to my own entertainment, a very\n",
            "pretty one, so made thee Death o' the Volicias:\n",
            "This music of Hortens, that it was\n",
            "The smiling drooping through these women hanged,\n",
            "The treason begins to perfempors and mine,\n",
            "Which heavens to despised happy man's\n",
            "appeal swears, yet. My widow in such easy makes them\n",
            "As I do lose thee, Juliet,' a deed\n",
            "Was never turn their ages into my train.\n",
            "\n",
            "KING EDWARD IV:\n",
            "I go, speed to me: even to the comfort.\n",
            "\n",
            "CLARENCE:\n",
            "Friar, what makes wild rough?\n",
            "\n",
            "DUKE OF AUMERLE:\n",
            "Why, that is nothing; but I for thee,\n",
            "good nurse! I'll not wed to orges must warm.\n",
            "\n",
            "KING EDWARD IV:\n",
            "Speak suder, if you will assembly heart\n",
            "From mine art, soft and soldiers;\n",
            "For in a man of our subjects' sweets!\n",
            "\n",
            "Wife would anger him?\n",
            "\n",
            "First Huntsman:\n",
            "He that salt with the garling day passing clouds\n",
            "To whose thoughts appointed his delight,\n",
            "Which we indeed hame enumations\n",
            "Have they add undursed by the appetlaxion of mine eyes,\n",
            "The peace is near th \n",
            "\n",
            "________________________________________________________________________________\n",
            "\n",
            "Run time: 3.3166794776916504\n"
          ]
        }
      ]
    },
    {
      "cell_type": "markdown",
      "source": [
        "*Hal termudah yang dapat Anda lakukan untuk meningkatkan hasil adalah dengan melatihnya lebih lama (coba EPOCHS = 30). Anda juga dapat bereksperimen dengan string awal yang berbeda, mencoba menambahkan lapisan RNN lain untuk meningkatkan akurasi model, atau menyesuaikan parameter suhu untuk menghasilkan prediksi yang kurang lebih acak.*\n",
        "\n",
        "*Jika Anda ingin model menghasilkan teks lebih cepat, hal termudah yang dapat Anda lakukan adalah membuat teks secara batch. Pada contoh di bawah, model menghasilkan 5 keluaran dalam waktu yang hampir sama dengan waktu yang dibutuhkan untuk menghasilkan 1 keluaran di atas.*"
      ],
      "metadata": {
        "id": "l6_qxPYL3zdv"
      }
    },
    {
      "cell_type": "code",
      "source": [
        "start = time.time()\n",
        "states = None\n",
        "next_char = tf.constant(['ROMEO:', 'ROMEO:', 'ROMEO:', 'ROMEO:', 'ROMEO:'])\n",
        "result = [next_char]\n",
        "\n",
        "for n in range(1000):\n",
        "  next_char, states = one_step_model.generate_one_step(next_char, states=states)\n",
        "  result.append(next_char)\n",
        "\n",
        "result = tf.strings.join(result)\n",
        "end = time.time()\n",
        "print(result, '\\n\\n' + '_'*80)\n",
        "print('\\nRun time:', end - start)"
      ],
      "metadata": {
        "id": "4659V9GJ33sc",
        "outputId": "b18b4b4b-8846-4f06-bc68-e81023ec711f",
        "colab": {
          "base_uri": "https://localhost:8080/"
        }
      },
      "execution_count": 66,
      "outputs": [
        {
          "output_type": "stream",
          "name": "stdout",
          "text": [
            "tf.Tensor(\n",
            "[b\"ROMEO:\\nAm I am full of liberty?\\n\\nBIONDELLO:\\nI promised you my husband wrongs to you\\nHe is gone to the Roman? where, ha? What!\\nnothing, I hope, here come the places is service.\\n\\nDUKE VINCENTIO:\\nSir, your good marshal, what of him truly!\\nO, sweet Clarence, might have in charge\\nTo us to hear thee shree, a proceed\\nOf foul subject.\\n\\nLEONTES:\\nI thought,\\nyour worship infly no more: but thus have worn\\nshe is most unnatural: thou appeal it is.\\n\\nThird Citizen:\\nWith all she seest your grace appears: and Juliet,\\nI am how 'tis passing to his custience; and\\nwith false power when so pay so do good.\\n\\nQUEEN:\\nAnd there's Pardon me, this acts\\nCast our sweets: were he more ears and\\nflatterers, selfest some bones: and with him and dangue\\nFrom Rutlexabout your conference with a letter:\\nGive me the sight be spent.\\n\\nLUCENTIO:\\nIt may not false; I'll rank this carefell;\\nTaking the woe, have invent in this vein.\\n\\nVIRGILIA:\\nI long to the greate; go to the world.\\n\\nTRANIO:\\nMistress, what? we will have known to bearling t\"\n",
            " b\"ROMEO:\\nMy lord, your sorrow's town!\\nAy, marry, made me happy in your\\nwill.\\n\\nCOMINIUS:\\nBut then ourself.\\n\\nMONTAGUE:\\nMontal idleness; his prince!\\n\\nHASTINGS:\\nAnd save me law, my friends old man!\\nWhat tork I point this soo that name's\\nmuch minded it within the holy sau\\nthat make us passion wounded: blastly applaught,\\nAs wounds up horses; and these are all,\\nThat more hand and sweet winds with old manques.\\nThe moxting tongue no more than an end.\\n\\nGLOUCESTER:\\nHow now, my Lord, your empassion speed! answer\\nThe roins of her own youth o' the deep;\\nAnd gaze it were the presence strew against the king.\\n\\nLENTY EL:\\nMy Lord Waiting me to my good lord;\\nFor we will play as mine own friends,\\nGovive the bonds of middle sent.\\n\\nKING LEWIS XI:\\nWhy, that's that word with Margarey, and his sake\\nTo heal their fortunes for that service\\nSo please mine own.--as you are cered by waiping,\\nStay adward, carves past flay, and a\\nMangag of forward out of majesty,\\nHis dukedom first to Brisand him his passion;\\nAnd the next day \"\n",
            " b\"ROMEO:\\nSeepercher, this night hare heard your cuars\\nEnblain to be found no stairs the need.\\n\\nDUKE OF AUMERLE:\\nFor adgers, althou goes wounds:\\nHappier thy father and my mote,\\nStay me no mere, for in,\\nto give me say he lies in an act in esteem.\\nWhy Bohemied are not this into ambassado.\\nAnd saith, this way the duke my father's sons,\\nTurns with her jew me speak.\\n\\nEDRAHIA:\\nNow for the lowest shall be forsook.\\n\\nKING HENRY VI:\\nAy, but thou art declines; and are you best\\nUnless my hand. What dogs are you blows upon him?\\n\\nDUKE VINCENTIO:\\nBlisses that, I am, but send me 'stouch my mouth:\\nI have not stand your instrument.\\n\\nTRANIO:\\nBut sport her to behold this hand?\\n\\nQUEEN ELIZABETH:\\nHow fares my folder father?\\n\\nBENVOLIO:\\nThy father die, his lords, mark him your keeper\\nto your refession will lead an approbation:\\nCome, we are am strange.\\n\\nHERMIONE:\\nSo will I see: and I thank thee, man.\\n\\nBENVOLIO:\\nStay, let us are not for Carilibab?\\n\\nProvost:\\nThis shall break a good duty!\\n\\nGLOUCESTER:\\nSo do I. But that th\"\n",
            " b\"ROMEO:\\nSweet young Marian:\\nBoth, my lords,\\nLet me be patient Lirit themselves,\\nTo saint me with your child shall be thy former\\na noble man,--and that needs must not deny,\\nThy loving tribunes can be inform'd her come\\nAnd douth in all pierce of imprisonments.\\nCome, sir. Come on, if you well see' slaught,\\nWhich in this state will drag thee like a father.\\nBut shall I lay my father'?\\n\\nPETRUCHIO:\\nCome, where he be dignifits,\\nBefore your petiments, and my soul is cold,\\nAnd not I told thee here, continue!\\n\\nMessenger:\\nAmen.\\n\\nBENVOLIO:\\nThe town in the mind of Bolingbroke is clothes;\\nUnceeding, for, call not fight,\\nWhere lies upon this follies,\\nNow sweet as you,\\nA mort unpion against Norfolk,--\\nIf MArtius are dissembler wind, being\\nnothing, many, yet the parliament hath no\\ncomfort no man's word:\\nShe may do home.\\n\\nSICINIUS:\\nSee, the gods give me leave,\\nI'll never heard as might.\\n\\nLEONTES:\\nTuture further.\\n\\nVIRGILIA:\\nHe is amazed.\\nAt like a sudden day of day!\\n\\nKATHARINA:\\nWell said: the gods I'll warrant h\"\n",
            " b\"ROMEO:\\nThat's lord.\\n\\nFLIRIZEL:\\nHark,\\nThat I in all directed wrench is foredouble\\nThat spend my lord of it!--by this,\\nIt said, my lord, I'll cranct in her awe;\\nTo present your own sense is passor,\\nHave torment your honour's greeting.\\nSlay with humble and take and sovereignty;\\nWe have shept in leisure.\\n\\nHENRY BOLINGBROKE:\\nMy gracious sovereign, and my friend Grumio!\\nThy fathers cannot mountain with the breastry\\nAs is the end of all fabourse, in thee.\\n\\nGLOUCESTER:\\nLook how will grieve your pleasure in,\\nAnd Buckingham, no doubt for all eye;\\nHusbadd his honour would happen time\\nThat I might traze me and my son I know\\nI would have made thee with a blue-tice is\\ndrinking weth. Anbell, came in hop,\\nBut for thy rage is follow way.\\n\\nClown:\\nShe is to be your cousin, I do believe no other man.\\n\\nVIRRIAN:\\nAs is the statue did not King Richard son:\\nThy tears are death; and as you bit easly,\\nI will, my brother swiftly remains:\\nI do not proud to bade a careful man.\\nWhat then? what would you frawl? do you\\nlove\"], shape=(5,), dtype=string) \n",
            "\n",
            "________________________________________________________________________________\n",
            "\n",
            "Run time: 3.9989817142486572\n"
          ]
        }
      ]
    },
    {
      "cell_type": "markdown",
      "source": [
        "**Ekspor Model Generator**"
      ],
      "metadata": {
        "id": "W1lGuA9L35lm"
      }
    },
    {
      "cell_type": "markdown",
      "source": [
        "*Model satu langkah ini dapat dengan mudah disimpan dan digunakan kembali, memungkinkan Anda menggunakannya di mana pun tf.saved_model diterima.*"
      ],
      "metadata": {
        "id": "wFijK66s37pT"
      }
    },
    {
      "cell_type": "code",
      "source": [
        "tf.saved_model.save(one_step_model, 'one_step')\n",
        "one_step_reloaded = tf.saved_model.load('one_step')"
      ],
      "metadata": {
        "id": "KmDUGhWG39rf",
        "outputId": "bae036b3-180b-449b-fdfc-4a70f3796976",
        "colab": {
          "base_uri": "https://localhost:8080/"
        }
      },
      "execution_count": 67,
      "outputs": [
        {
          "output_type": "stream",
          "name": "stderr",
          "text": [
            "WARNING:tensorflow:Skipping full serialization of Keras layer <__main__.OneStep object at 0x7b35718d54e0>, because it is not built.\n",
            "WARNING:tensorflow:Model's `__init__()` arguments contain non-serializable objects. Please implement a `get_config()` method in the subclassed Model for proper saving and loading. Defaulting to empty config.\n",
            "WARNING:tensorflow:Model's `__init__()` arguments contain non-serializable objects. Please implement a `get_config()` method in the subclassed Model for proper saving and loading. Defaulting to empty config.\n"
          ]
        }
      ]
    },
    {
      "cell_type": "code",
      "source": [
        "states = None\n",
        "next_char = tf.constant(['ROMEO:'])\n",
        "result = [next_char]\n",
        "\n",
        "for n in range(100):\n",
        "  next_char, states = one_step_reloaded.generate_one_step(next_char, states=states)\n",
        "  result.append(next_char)\n",
        "\n",
        "print(tf.strings.join(result)[0].numpy().decode(\"utf-8\"))"
      ],
      "metadata": {
        "id": "6VEG9HT-3_Hh",
        "outputId": "21ecb162-c39e-4250-d8f2-3ab214881db1",
        "colab": {
          "base_uri": "https://localhost:8080/"
        }
      },
      "execution_count": 68,
      "outputs": [
        {
          "output_type": "stream",
          "name": "stdout",
          "text": [
            "ROMEO:\n",
            "Where is Lord Saintle Larthano country's loss,\n",
            "Or let us hand, and doth gring thee soul\n",
            "Do forcing \n"
          ]
        }
      ]
    },
    {
      "cell_type": "markdown",
      "source": [
        "> # **🍑 Tugas**"
      ],
      "metadata": {
        "id": "xCrdEGSrclwE"
      }
    },
    {
      "cell_type": "markdown",
      "source": [
        "*Prosedur pelatihan pada praktikum 2 merupakan prosedur sederhana, yang tidak memberi Anda banyak kendali. Model ini menggunakan \"teacher-forcing\" yang mencegah prediksi buruk diumpankan kembali ke model, sehingga model tidak pernah belajar untuk pulih dari kesalahan. Jadi, setelah Anda melihat cara menjalankan model secara manual, selanjutnya Anda akan mengimplementasikan custom loop pelatihan. Hal ini memberikan titik awal jika, misalnya, Anda ingin menerapkan pembelajaran kurikulum untuk membantu menstabilkan keluaran open-loop model. Bagian terpenting dari loop pelatihan khusus adalah fungsi langkah pelatihan.*\n",
        "\n",
        "*Gunakan tf.GradientTape untuk men track nilai gradient. Anda dapat mempelajari lebih lanjut tentang pendekatan ini dengan membaca eager execution guide.\n",
        "Prosedurnya adalah \"*\n",
        "1. *Jalankan Model dan hitung loss dengan tf.GradientTape.*\n",
        "2. *Hitung update dan terapkan pada model dengan optimizer*"
      ],
      "metadata": {
        "id": "7N4cKcIacwPs"
      }
    },
    {
      "cell_type": "code",
      "source": [
        "class CustomTraining(MyModel):\n",
        " @tf.function\n",
        " def train_step(self, inputs):\n",
        "      inputs, labels = inputs\n",
        "      with tf.GradientTape() as tape:\n",
        "        predictions = self(inputs, training=True)\n",
        "        loss = self.loss(labels, predictions)\n",
        "      grads = tape.gradient(loss, model.trainable_variables)\n",
        "      self.optimizer.apply_gradients(zip(grads, model.trainable_variables))\n",
        "\n",
        "      return {'loss': loss}"
      ],
      "metadata": {
        "id": "4fLVfVKJS52X"
      },
      "execution_count": 69,
      "outputs": []
    },
    {
      "cell_type": "markdown",
      "source": [
        "*Kode diatas menerapkan train_step method sesuai dengan  [Keras' train_step conventions](https://www.tensorflow.org/guide/keras/customizing_what_happens_in_fit). Ini opsional, tetapi memungkinkan Anda mengubah perilaku langkah pelatihan dan tetap menggunakan keras [Model.compile](https://www.tensorflow.org/api_docs/python/tf/keras/Model#compile) and [Model.fit](https://www.tensorflow.org/api_docs/python/tf/keras/Model#fit) methods.*"
      ],
      "metadata": {
        "id": "eOsIK96CdGb2"
      }
    },
    {
      "cell_type": "code",
      "source": [
        "model = CustomTraining(\n",
        "    vocab_size=len(ids_from_chars.get_vocabulary()),\n",
        "    embedding_dim=embedding_dim,\n",
        "    rnn_units=rnn_units)"
      ],
      "metadata": {
        "id": "c0lhwx3OTBcb"
      },
      "execution_count": 70,
      "outputs": []
    },
    {
      "cell_type": "code",
      "source": [
        "model.compile(optimizer = tf.keras.optimizers.Adam(),\n",
        "              loss=tf.keras.losses.SparseCategoricalCrossentropy(from_logits=True))"
      ],
      "metadata": {
        "id": "_Ur416n-bXPl"
      },
      "execution_count": 71,
      "outputs": []
    },
    {
      "cell_type": "code",
      "source": [
        "model.fit(dataset, epochs=1)"
      ],
      "metadata": {
        "id": "huqIyn4qUvD-",
        "outputId": "ab74a3fa-33e9-40c3-ba5f-fc6f9e75035c",
        "colab": {
          "base_uri": "https://localhost:8080/"
        }
      },
      "execution_count": 72,
      "outputs": [
        {
          "output_type": "stream",
          "name": "stdout",
          "text": [
            "172/172 [==============================] - 15s 53ms/step - loss: 2.7118\n"
          ]
        },
        {
          "output_type": "execute_result",
          "data": {
            "text/plain": [
              "<keras.src.callbacks.History at 0x7b35718d2230>"
            ]
          },
          "metadata": {},
          "execution_count": 72
        }
      ]
    },
    {
      "cell_type": "markdown",
      "source": [
        "*Atau jika ingin lebih mengetahui dalamnya, kita bisa membuat custom training loop sendiri:*"
      ],
      "metadata": {
        "id": "kfcQX76UdhmT"
      }
    },
    {
      "cell_type": "code",
      "source": [
        "EPOCHS = 10\n",
        "\n",
        "mean = tf.metrics.Mean()\n",
        "\n",
        "for epoch in range(EPOCHS):\n",
        "    start = time.time()\n",
        "\n",
        "    mean.reset_states()\n",
        "    for (batch_n, (inp, target)) in enumerate(dataset):\n",
        "      logs = model.train_step([inp, target])\n",
        "      mean.update_state(logs['loss'])\n",
        "\n",
        "      if batch_n % 50 == 0:\n",
        "         template = f\"Epoch {epoch+1} Batch {batch_n} Loss {logs['loss']:.4f}\"\n",
        "         print(template)\n",
        "\n",
        " # saving (checkpoint) the model every 5 epochs\n",
        "      if (epoch + 1) % 5 == 0:\n",
        "         model.save_weights(checkpoint_prefix.format(epoch=epoch))\n",
        "\n",
        "    print()\n",
        "    print(f'Epoch {epoch+1} Loss: {mean.result().numpy():.4f}')\n",
        "    print(f'Time taken for 1 epoch {time.time() - start:.2f} sec')\n",
        "    print(\"_\"*80)\n",
        "\n",
        "model.save_weights(checkpoint_prefix.format(epoch=epoch))"
      ],
      "metadata": {
        "id": "84K6zT9eUyuy",
        "outputId": "6fae648b-40a7-4434-9add-f0af39ccdb2d",
        "colab": {
          "base_uri": "https://localhost:8080/"
        }
      },
      "execution_count": 73,
      "outputs": [
        {
          "output_type": "stream",
          "name": "stdout",
          "text": [
            "Epoch 1 Batch 0 Loss 2.1860\n",
            "Epoch 1 Batch 50 Loss 2.0795\n",
            "Epoch 1 Batch 100 Loss 1.9458\n",
            "Epoch 1 Batch 150 Loss 1.8724\n",
            "\n",
            "Epoch 1 Loss: 1.9925\n",
            "Time taken for 1 epoch 11.83 sec\n",
            "________________________________________________________________________________\n",
            "Epoch 2 Batch 0 Loss 1.8077\n",
            "Epoch 2 Batch 50 Loss 1.7872\n",
            "Epoch 2 Batch 100 Loss 1.6574\n",
            "Epoch 2 Batch 150 Loss 1.6764\n",
            "\n",
            "Epoch 2 Loss: 1.7123\n",
            "Time taken for 1 epoch 10.30 sec\n",
            "________________________________________________________________________________\n",
            "Epoch 3 Batch 0 Loss 1.6443\n",
            "Epoch 3 Batch 50 Loss 1.5486\n",
            "Epoch 3 Batch 100 Loss 1.5582\n",
            "Epoch 3 Batch 150 Loss 1.4960\n",
            "\n",
            "Epoch 3 Loss: 1.5510\n",
            "Time taken for 1 epoch 10.25 sec\n",
            "________________________________________________________________________________\n",
            "Epoch 4 Batch 0 Loss 1.4521\n",
            "Epoch 4 Batch 50 Loss 1.5125\n",
            "Epoch 4 Batch 100 Loss 1.4665\n",
            "Epoch 4 Batch 150 Loss 1.4303\n",
            "\n",
            "Epoch 4 Loss: 1.4521\n",
            "Time taken for 1 epoch 10.30 sec\n",
            "________________________________________________________________________________\n",
            "Epoch 5 Batch 0 Loss 1.4065\n",
            "Epoch 5 Batch 50 Loss 1.3971\n",
            "Epoch 5 Batch 100 Loss 1.3941\n",
            "Epoch 5 Batch 150 Loss 1.3634\n",
            "\n",
            "Epoch 5 Loss: 1.3842\n",
            "Time taken for 1 epoch 41.17 sec\n",
            "________________________________________________________________________________\n",
            "Epoch 6 Batch 0 Loss 1.3590\n",
            "Epoch 6 Batch 50 Loss 1.3566\n",
            "Epoch 6 Batch 100 Loss 1.4366\n",
            "Epoch 6 Batch 150 Loss 1.3314\n",
            "\n",
            "Epoch 6 Loss: 1.3315\n",
            "Time taken for 1 epoch 10.32 sec\n",
            "________________________________________________________________________________\n",
            "Epoch 7 Batch 0 Loss 1.2870\n",
            "Epoch 7 Batch 50 Loss 1.3110\n",
            "Epoch 7 Batch 100 Loss 1.2919\n",
            "Epoch 7 Batch 150 Loss 1.2700\n",
            "\n",
            "Epoch 7 Loss: 1.2871\n",
            "Time taken for 1 epoch 10.24 sec\n",
            "________________________________________________________________________________\n",
            "Epoch 8 Batch 0 Loss 1.2585\n",
            "Epoch 8 Batch 50 Loss 1.2375\n",
            "Epoch 8 Batch 100 Loss 1.2987\n",
            "Epoch 8 Batch 150 Loss 1.2409\n",
            "\n",
            "Epoch 8 Loss: 1.2471\n",
            "Time taken for 1 epoch 10.24 sec\n",
            "________________________________________________________________________________\n",
            "Epoch 9 Batch 0 Loss 1.2294\n",
            "Epoch 9 Batch 50 Loss 1.1834\n",
            "Epoch 9 Batch 100 Loss 1.1884\n",
            "Epoch 9 Batch 150 Loss 1.2425\n",
            "\n",
            "Epoch 9 Loss: 1.2077\n",
            "Time taken for 1 epoch 20.47 sec\n",
            "________________________________________________________________________________\n",
            "Epoch 10 Batch 0 Loss 1.1189\n",
            "Epoch 10 Batch 50 Loss 1.1646\n",
            "Epoch 10 Batch 100 Loss 1.1405\n",
            "Epoch 10 Batch 150 Loss 1.1874\n",
            "\n",
            "Epoch 10 Loss: 1.1694\n",
            "Time taken for 1 epoch 42.62 sec\n",
            "________________________________________________________________________________\n"
          ]
        }
      ]
    },
    {
      "cell_type": "markdown",
      "source": [
        "*Jalankan kode diatas dan sebutkan perbedaanya dengan praktikum 2?*"
      ],
      "metadata": {
        "id": "sgRq2fJmdkzJ"
      }
    }
  ]
}